{
  "nbformat": 4,
  "nbformat_minor": 0,
  "metadata": {
    "colab": {
      "name": "GAN_Training.ipynb",
      "provenance": [],
      "collapsed_sections": [],
      "include_colab_link": true
    },
    "kernelspec": {
      "name": "python3",
      "display_name": "Python 3"
    },
    "accelerator": "GPU"
  },
  "cells": [
    {
      "cell_type": "markdown",
      "metadata": {
        "id": "view-in-github",
        "colab_type": "text"
      },
      "source": [
        "<a href=\"https://colab.research.google.com/github/VasundharaAgarwal/GANFingerprinting/blob/main/GAN_Training.ipynb\" target=\"_parent\"><img src=\"https://colab.research.google.com/assets/colab-badge.svg\" alt=\"Open In Colab\"/></a>"
      ]
    },
    {
      "cell_type": "code",
      "metadata": {
        "id": "qG9f8RfN2DLP"
      },
      "source": [
        "import torch\n",
        "import torchvision\n",
        "import torch.nn as nn\n",
        "import torch.nn.functional as F\n",
        "import torch.optim as optim\n",
        "import torchvision.utils as vutils\n",
        "import os\n",
        "import random\n",
        "import numpy as np\n",
        "import cv2\n",
        "import matplotlib.pyplot as plt"
      ],
      "execution_count": null,
      "outputs": []
    },
    {
      "cell_type": "code",
      "metadata": {
        "id": "oNxIy5eXkBk1",
        "outputId": "ea9091ce-e124-4eff-aefb-5df96c7eef66",
        "colab": {
          "base_uri": "https://localhost:8080/"
        }
      },
      "source": [
        "from google.colab import drive\n",
        "drive.mount('/content/gdrive')"
      ],
      "execution_count": null,
      "outputs": [
        {
          "output_type": "stream",
          "text": [
            "Drive already mounted at /content/gdrive; to attempt to forcibly remount, call drive.mount(\"/content/gdrive\", force_remount=True).\n"
          ],
          "name": "stdout"
        }
      ]
    },
    {
      "cell_type": "code",
      "metadata": {
        "id": "6huGRlKBEhX3"
      },
      "source": [
        "import sys\n",
        "sys.path.append('/content/gdrive/My Drive/')"
      ],
      "execution_count": null,
      "outputs": []
    },
    {
      "cell_type": "code",
      "metadata": {
        "id": "JCVSSruSEj5l"
      },
      "source": [
        "import model_architectures as ma"
      ],
      "execution_count": null,
      "outputs": []
    },
    {
      "cell_type": "code",
      "metadata": {
        "id": "oATCvkf13G9K"
      },
      "source": [
        "#learning rate for optimizers\n",
        "lr = 0.0002\n",
        "batch_size = 256\n",
        "real_label = 1\n",
        "fake_label = 0\n",
        "num_epochs = 20\n",
        "ngpu = 1\n",
        "beta1 = 0.5\n",
        "manualSeed = 500\n",
        "\n",
        "torch.manual_seed(manualSeed)\n",
        "random.seed(manualSeed)\n",
        "np.random.seed(manualSeed)\n",
        "test_loader = torch.utils.data.DataLoader(torchvision.datasets.MNIST('/files/', train=False, download=True, transform=torchvision.transforms.ToTensor()), batch_size=batch_size)\n",
        "train_loader = torch.utils.data.DataLoader(torchvision.datasets.MNIST('/files/', train=True, download=True, transform=torchvision.transforms.ToTensor()), batch_size = batch_size)\n",
        "device = torch.device(\"cuda:0\" if (torch.cuda.is_available() and ngpu > 0) else \"cpu\")\n"
      ],
      "execution_count": null,
      "outputs": []
    },
    {
      "cell_type": "code",
      "metadata": {
        "id": "I4WcJ8cqvJB4"
      },
      "source": [
        "criterion = nn.BCELoss()\n",
        "\n",
        "#fixed noise used to visualize performance of GAN as it progresses through training\n",
        "fixed_noise = torch.randn(64, nz, 1, 1, device=device)\n",
        "\n",
        "#establish convention for real and fake labels during training\n",
        "real_label = 1.\n",
        "fake_label = 0.\n",
        "\n"
      ],
      "execution_count": null,
      "outputs": []
    },
    {
      "cell_type": "code",
      "metadata": {
        "id": "potl6GT66i0X"
      },
      "source": [
        "#slightly edited the code at https://pytorch.org/tutorials/beginner/dcgan_faces_tutorial.html\n",
        "def trainGAN(num, netG, netD):\n",
        "  netG = netG.to(device)\n",
        "  netD = netD.to(device)\n",
        "  optimD = optim.Adam(netD.parameters(), lr=lr, betas=(beta1, 0.999))\n",
        "  optimG = optim.Adam(netG.parameters(), lr=lr, betas=(beta1, 0.999))\n",
        "  img_list = []\n",
        "  D_x_list = []\n",
        "  D_G_z1_list = []\n",
        "  D_G_z2_list = []\n",
        "  iters = 0\n",
        "  for epoch in range(num_epochs):\n",
        "      print(epoch)\n",
        "      # For each batch in the dataloader\n",
        "      for i, data in enumerate(train_loader, 0):\n",
        "\n",
        "          ############################\n",
        "          # (1) Update D network: maximize log(D(x)) + log(1 - D(G(z)))\n",
        "          ###########################\n",
        "          ## Train with all-real batch\n",
        "          netD.zero_grad()\n",
        "          # Format batch\n",
        "          real_cpu = data[0].to(device)\n",
        "          b_size = real_cpu.size(0)\n",
        "          label = torch.full((b_size,), real_label, dtype=torch.float, device=device)\n",
        "          # Forward pass real batch through D\n",
        "          output = netD(real_cpu).view(-1)\n",
        "          # Calculate loss on all-real batch\n",
        "          errD_real = criterion(output, label)\n",
        "          # Calculate gradients for D in backward pass\n",
        "          errD_real.backward()\n",
        "          D_x = output.mean().item()\n",
        "\n",
        "          ## Train with all-fake batch\n",
        "          # Generate batch of latent vectors\n",
        "          noise = torch.randn(b_size, nz, 1, 1, device=device)\n",
        "          # Generate fake image batch with G\n",
        "          fake = netG(noise)\n",
        "          label.fill_(fake_label)\n",
        "          # Classify all fake batch with D\n",
        "          output = netD(fake.detach()).view(-1)\n",
        "          # Calculate D's loss on the all-fake batch\n",
        "          errD_fake = criterion(output, label)\n",
        "          # Calculate the gradients for this batch\n",
        "          errD_fake.backward()\n",
        "          D_G_z1 = output.mean().item()\n",
        "          # Add the gradients from the all-real and all-fake batches\n",
        "          errD = errD_real + errD_fake\n",
        "          # Update D\n",
        "          optimD.step()\n",
        "\n",
        "          ############################\n",
        "          # (2) Update G network: maximize log(D(G(z)))\n",
        "          ###########################\n",
        "          netG.zero_grad()\n",
        "          label.fill_(real_label)  # fake labels are real for generator cost\n",
        "          # Since we just updated D, perform another forward pass of all-fake batch through D\n",
        "          output = netD(fake).view(-1)\n",
        "          # Calculate G's loss based on this output\n",
        "          errG = criterion(output, label)\n",
        "          # Calculate gradients for G\n",
        "          errG.backward()\n",
        "          D_G_z2 = output.mean().item()\n",
        "          # Update G\n",
        "          optimG.step()\n",
        "\n",
        "          # Output training stats\n",
        "          if i % 50 == 0:\n",
        "              print('[%d/%d][%d/%d]\\tLoss_D: %.4f\\tLoss_G: %.4f\\tD(x): %.4f\\tD(G(z)): %.4f / %.4f'\n",
        "                    % (epoch, num_epochs, i, len(train_loader),\n",
        "                      errD.item(), errG.item(), D_x, D_G_z1, D_G_z2))\n",
        "\n",
        "          # Save Losses for plotting later\n",
        "          D_x_list.append(D_x)\n",
        "          D_G_z1_list.append(D_G_z1)\n",
        "          D_G_z2_list.append(D_G_z2)\n",
        "          # Check how the generator is doing by saving G's output on fixed_noise\n",
        "          if (iters % 500 == 0) or ((epoch == num_epochs-1) and (i == len(train_loader)-1)):\n",
        "              with torch.no_grad():\n",
        "                  fake = netG(fixed_noise).detach().cpu()\n",
        "              img_list.append(vutils.make_grid(fake, padding=2, normalize=True))\n",
        "          iters += 1\n",
        "\n",
        "  torch.save({\n",
        "            'G_state_dict': netG.state_dict(),\n",
        "            'D_state_dict': netD.state_dict(),\n",
        "            'optimG_state_dict': optimG.state_dict(),\n",
        "            'optimD_state_dict': optimD.state_dict(),\n",
        "            'img_list': img_list,\n",
        "            'D_x_list': D_x_list,\n",
        "            'D_G_z1_list' : D_G_z1_list,\n",
        "            'D_G_z2_list' : D_G_z2_list,\n",
        "            }, 'gdrive/My Drive/GANS/GAN_{}'.format(num))\n"
      ],
      "execution_count": null,
      "outputs": []
    },
    {
      "cell_type": "code",
      "metadata": {
        "id": "ih6aPY1eaYQ5",
        "outputId": "b1e3a6e7-a7f9-405b-f31f-ae880d5bdcc6",
        "colab": {
          "base_uri": "https://localhost:8080/"
        }
      },
      "source": [
        "trainGAN(1, ma.Generator1(ngpu), ma.Discriminator1(ngpu))\n",
        "\n"
      ],
      "execution_count": null,
      "outputs": [
        {
          "output_type": "stream",
          "text": [
            "0\n",
            "[0/20][0/235]\tLoss_D: 1.3809\tLoss_G: 0.6942\tD(x): 0.5125\tD(G(z)): 0.5094 / 0.4996\n",
            "[0/20][50/235]\tLoss_D: 0.7326\tLoss_G: 0.6963\tD(x): 0.9591\tD(G(z)): 0.4985 / 0.4984\n",
            "[0/20][100/235]\tLoss_D: 0.6934\tLoss_G: 0.7026\tD(x): 0.9906\tD(G(z)): 0.4954 / 0.4953\n",
            "[0/20][150/235]\tLoss_D: 0.6826\tLoss_G: 0.7084\tD(x): 0.9956\tD(G(z)): 0.4925 / 0.4924\n",
            "[0/20][200/235]\tLoss_D: 2.6008\tLoss_G: 0.7005\tD(x): 0.9651\tD(G(z)): 0.9193 / 0.5014\n",
            "1\n",
            "[1/20][0/235]\tLoss_D: 0.7170\tLoss_G: 0.7188\tD(x): 0.9543\tD(G(z)): 0.4878 / 0.4875\n",
            "[1/20][50/235]\tLoss_D: 0.8566\tLoss_G: 0.6456\tD(x): 0.9609\tD(G(z)): 0.5346 / 0.5328\n",
            "[1/20][100/235]\tLoss_D: 1.1351\tLoss_G: 0.5692\tD(x): 0.7932\tD(G(z)): 0.5833 / 0.5714\n",
            "[1/20][150/235]\tLoss_D: 1.6787\tLoss_G: 0.4365\tD(x): 0.7054\tD(G(z)): 0.7106 / 0.6538\n",
            "[1/20][200/235]\tLoss_D: 1.7186\tLoss_G: 0.4607\tD(x): 0.6549\tD(G(z)): 0.7065 / 0.6412\n",
            "2\n",
            "[2/20][0/235]\tLoss_D: 1.1615\tLoss_G: 0.5994\tD(x): 0.7397\tD(G(z)): 0.5603 / 0.5571\n",
            "[2/20][50/235]\tLoss_D: 1.4045\tLoss_G: 0.7127\tD(x): 0.5036\tD(G(z)): 0.5028 / 0.4948\n",
            "[2/20][100/235]\tLoss_D: 1.3763\tLoss_G: 0.6655\tD(x): 0.5356\tD(G(z)): 0.5241 / 0.5161\n",
            "[2/20][150/235]\tLoss_D: 1.3358\tLoss_G: 0.6780\tD(x): 0.5456\tD(G(z)): 0.5145 / 0.5093\n",
            "[2/20][200/235]\tLoss_D: 1.3314\tLoss_G: 0.7510\tD(x): 0.5153\tD(G(z)): 0.4844 / 0.4731\n",
            "3\n",
            "[3/20][0/235]\tLoss_D: 1.3739\tLoss_G: 0.5642\tD(x): 0.5999\tD(G(z)): 0.5746 / 0.5705\n",
            "[3/20][50/235]\tLoss_D: 1.3619\tLoss_G: 0.7402\tD(x): 0.5410\tD(G(z)): 0.5221 / 0.4794\n",
            "[3/20][100/235]\tLoss_D: 1.3328\tLoss_G: 0.7431\tD(x): 0.5105\tD(G(z)): 0.4813 / 0.4765\n",
            "[3/20][150/235]\tLoss_D: 1.3699\tLoss_G: 0.6772\tD(x): 0.5284\tD(G(z)): 0.5151 / 0.5100\n",
            "[3/20][200/235]\tLoss_D: 1.4114\tLoss_G: 0.6938\tD(x): 0.4956\tD(G(z)): 0.5045 / 0.5015\n",
            "4\n",
            "[4/20][0/235]\tLoss_D: 1.3658\tLoss_G: 0.7090\tD(x): 0.5157\tD(G(z)): 0.5016 / 0.4941\n",
            "[4/20][50/235]\tLoss_D: 1.3785\tLoss_G: 0.6691\tD(x): 0.5213\tD(G(z)): 0.5128 / 0.5138\n",
            "[4/20][100/235]\tLoss_D: 1.3796\tLoss_G: 0.6827\tD(x): 0.5185\tD(G(z)): 0.5116 / 0.5069\n",
            "[4/20][150/235]\tLoss_D: 1.3772\tLoss_G: 0.6899\tD(x): 0.5295\tD(G(z)): 0.5194 / 0.5037\n",
            "[4/20][200/235]\tLoss_D: 1.4040\tLoss_G: 0.7056\tD(x): 0.4961\tD(G(z)): 0.5014 / 0.4956\n",
            "5\n",
            "[5/20][0/235]\tLoss_D: 1.4001\tLoss_G: 0.6570\tD(x): 0.5269\tD(G(z)): 0.5281 / 0.5205\n",
            "[5/20][50/235]\tLoss_D: 1.3703\tLoss_G: 0.6795\tD(x): 0.5249\tD(G(z)): 0.5127 / 0.5083\n",
            "[5/20][100/235]\tLoss_D: 1.3524\tLoss_G: 0.7016\tD(x): 0.5257\tD(G(z)): 0.5050 / 0.4975\n",
            "[5/20][150/235]\tLoss_D: 1.3921\tLoss_G: 0.6961\tD(x): 0.5106\tD(G(z)): 0.5103 / 0.5000\n",
            "[5/20][200/235]\tLoss_D: 1.3833\tLoss_G: 0.7134\tD(x): 0.4952\tD(G(z)): 0.4909 / 0.4909\n",
            "6\n",
            "[6/20][0/235]\tLoss_D: 1.3849\tLoss_G: 0.6750\tD(x): 0.5162\tD(G(z)): 0.5121 / 0.5104\n",
            "[6/20][50/235]\tLoss_D: 1.3799\tLoss_G: 0.6900\tD(x): 0.5115\tD(G(z)): 0.5059 / 0.5024\n",
            "[6/20][100/235]\tLoss_D: 1.3598\tLoss_G: 0.6883\tD(x): 0.5183\tD(G(z)): 0.5025 / 0.5033\n",
            "[6/20][150/235]\tLoss_D: 1.3641\tLoss_G: 0.6848\tD(x): 0.5192\tD(G(z)): 0.5057 / 0.5052\n",
            "[6/20][200/235]\tLoss_D: 1.3794\tLoss_G: 0.6708\tD(x): 0.5147\tD(G(z)): 0.5087 / 0.5123\n",
            "7\n",
            "[7/20][0/235]\tLoss_D: 1.3559\tLoss_G: 0.6952\tD(x): 0.5222\tD(G(z)): 0.5042 / 0.5002\n",
            "[7/20][50/235]\tLoss_D: 1.3797\tLoss_G: 0.7020\tD(x): 0.5070\tD(G(z)): 0.5010 / 0.4968\n",
            "[7/20][100/235]\tLoss_D: 1.3824\tLoss_G: 0.6998\tD(x): 0.4962\tD(G(z)): 0.4922 / 0.4978\n",
            "[7/20][150/235]\tLoss_D: 1.3703\tLoss_G: 0.7070\tD(x): 0.5115\tD(G(z)): 0.5015 / 0.4939\n",
            "[7/20][200/235]\tLoss_D: 1.3853\tLoss_G: 0.6807\tD(x): 0.5104\tD(G(z)): 0.5078 / 0.5072\n",
            "8\n",
            "[8/20][0/235]\tLoss_D: 1.3670\tLoss_G: 0.6866\tD(x): 0.5191\tD(G(z)): 0.5071 / 0.5042\n",
            "[8/20][50/235]\tLoss_D: 1.3701\tLoss_G: 0.6735\tD(x): 0.5210\tD(G(z)): 0.5104 / 0.5109\n",
            "[8/20][100/235]\tLoss_D: 1.3555\tLoss_G: 0.6819\tD(x): 0.5236\tD(G(z)): 0.5053 / 0.5065\n",
            "[8/20][150/235]\tLoss_D: 1.3775\tLoss_G: 0.7187\tD(x): 0.5081\tD(G(z)): 0.5015 / 0.4884\n",
            "[8/20][200/235]\tLoss_D: 1.3690\tLoss_G: 0.6885\tD(x): 0.5121\tD(G(z)): 0.5009 / 0.5034\n",
            "9\n",
            "[9/20][0/235]\tLoss_D: 1.3716\tLoss_G: 0.7144\tD(x): 0.5107\tD(G(z)): 0.5007 / 0.4906\n",
            "[9/20][50/235]\tLoss_D: 1.3764\tLoss_G: 0.7044\tD(x): 0.5124\tD(G(z)): 0.5045 / 0.4956\n",
            "[9/20][100/235]\tLoss_D: 1.3649\tLoss_G: 0.7000\tD(x): 0.5095\tD(G(z)): 0.4964 / 0.4976\n",
            "[9/20][150/235]\tLoss_D: 1.3749\tLoss_G: 0.7273\tD(x): 0.4958\tD(G(z)): 0.4869 / 0.4845\n",
            "[9/20][200/235]\tLoss_D: 1.3865\tLoss_G: 0.7098\tD(x): 0.5067\tD(G(z)): 0.5037 / 0.4932\n",
            "10\n",
            "[10/20][0/235]\tLoss_D: 1.3790\tLoss_G: 0.6907\tD(x): 0.5151\tD(G(z)): 0.5084 / 0.5025\n",
            "[10/20][50/235]\tLoss_D: 1.3682\tLoss_G: 0.6753\tD(x): 0.5307\tD(G(z)): 0.5178 / 0.5103\n",
            "[10/20][100/235]\tLoss_D: 1.3678\tLoss_G: 0.6754\tD(x): 0.5191\tD(G(z)): 0.5061 / 0.5102\n",
            "[10/20][150/235]\tLoss_D: 1.3268\tLoss_G: 0.7102\tD(x): 0.5198\tD(G(z)): 0.4863 / 0.4931\n",
            "[10/20][200/235]\tLoss_D: 1.3967\tLoss_G: 0.6657\tD(x): 0.5159\tD(G(z)): 0.5173 / 0.5155\n",
            "11\n",
            "[11/20][0/235]\tLoss_D: 1.3764\tLoss_G: 0.6965\tD(x): 0.5175\tD(G(z)): 0.5089 / 0.5002\n",
            "[11/20][50/235]\tLoss_D: 1.3841\tLoss_G: 0.7187\tD(x): 0.4970\tD(G(z)): 0.4926 / 0.4888\n",
            "[11/20][100/235]\tLoss_D: 1.3430\tLoss_G: 0.6744\tD(x): 0.5257\tD(G(z)): 0.5000 / 0.5107\n",
            "[11/20][150/235]\tLoss_D: 1.3560\tLoss_G: 0.7248\tD(x): 0.5087\tD(G(z)): 0.4906 / 0.4859\n",
            "[11/20][200/235]\tLoss_D: 1.3731\tLoss_G: 0.6745\tD(x): 0.5251\tD(G(z)): 0.5142 / 0.5108\n",
            "12\n",
            "[12/20][0/235]\tLoss_D: 1.3685\tLoss_G: 0.7210\tD(x): 0.5071\tD(G(z)): 0.4952 / 0.4880\n",
            "[12/20][50/235]\tLoss_D: 1.3906\tLoss_G: 0.7001\tD(x): 0.4948\tD(G(z)): 0.4940 / 0.4978\n",
            "[12/20][100/235]\tLoss_D: 1.3684\tLoss_G: 0.7204\tD(x): 0.5090\tD(G(z)): 0.4971 / 0.4880\n",
            "[12/20][150/235]\tLoss_D: 1.3725\tLoss_G: 0.7023\tD(x): 0.5107\tD(G(z)): 0.5003 / 0.4970\n",
            "[12/20][200/235]\tLoss_D: 1.3829\tLoss_G: 0.6834\tD(x): 0.5093\tD(G(z)): 0.5042 / 0.5065\n",
            "13\n",
            "[13/20][0/235]\tLoss_D: 1.3808\tLoss_G: 0.6867\tD(x): 0.5161\tD(G(z)): 0.5101 / 0.5049\n",
            "[13/20][50/235]\tLoss_D: 1.3736\tLoss_G: 0.7083\tD(x): 0.4994\tD(G(z)): 0.4899 / 0.4938\n",
            "[13/20][100/235]\tLoss_D: 1.3639\tLoss_G: 0.7127\tD(x): 0.5050\tD(G(z)): 0.4901 / 0.4920\n",
            "[13/20][150/235]\tLoss_D: 1.3608\tLoss_G: 0.7444\tD(x): 0.4986\tD(G(z)): 0.4820 / 0.4764\n",
            "[13/20][200/235]\tLoss_D: 1.3752\tLoss_G: 0.7158\tD(x): 0.5035\tD(G(z)): 0.4942 / 0.4902\n",
            "14\n",
            "[14/20][0/235]\tLoss_D: 1.3756\tLoss_G: 0.6914\tD(x): 0.5129\tD(G(z)): 0.5036 / 0.5025\n",
            "[14/20][50/235]\tLoss_D: 1.3767\tLoss_G: 0.7290\tD(x): 0.4864\tD(G(z)): 0.4780 / 0.4838\n",
            "[14/20][100/235]\tLoss_D: 1.3752\tLoss_G: 0.7174\tD(x): 0.5191\tD(G(z)): 0.5098 / 0.4898\n",
            "[14/20][150/235]\tLoss_D: 1.3505\tLoss_G: 0.7451\tD(x): 0.4994\tD(G(z)): 0.4775 / 0.4762\n",
            "[14/20][200/235]\tLoss_D: 1.3644\tLoss_G: 0.7034\tD(x): 0.5122\tD(G(z)): 0.4970 / 0.4966\n",
            "15\n",
            "[15/20][0/235]\tLoss_D: 1.3597\tLoss_G: 0.7134\tD(x): 0.5128\tD(G(z)): 0.4960 / 0.4915\n",
            "[15/20][50/235]\tLoss_D: 1.3855\tLoss_G: 0.7045\tD(x): 0.4940\tD(G(z)): 0.4901 / 0.4962\n",
            "[15/20][100/235]\tLoss_D: 1.3700\tLoss_G: 0.7681\tD(x): 0.4998\tD(G(z)): 0.4879 / 0.4657\n",
            "[15/20][150/235]\tLoss_D: 1.3849\tLoss_G: 0.7466\tD(x): 0.4910\tD(G(z)): 0.4863 / 0.4755\n",
            "[15/20][200/235]\tLoss_D: 1.3650\tLoss_G: 0.6681\tD(x): 0.5255\tD(G(z)): 0.5107 / 0.5144\n",
            "16\n",
            "[16/20][0/235]\tLoss_D: 1.3789\tLoss_G: 0.7077\tD(x): 0.5146\tD(G(z)): 0.5068 / 0.4945\n",
            "[16/20][50/235]\tLoss_D: 1.3857\tLoss_G: 0.7173\tD(x): 0.4888\tD(G(z)): 0.4850 / 0.4896\n",
            "[16/20][100/235]\tLoss_D: 1.3684\tLoss_G: 0.6661\tD(x): 0.5321\tD(G(z)): 0.5184 / 0.5153\n",
            "[16/20][150/235]\tLoss_D: 1.3642\tLoss_G: 0.7597\tD(x): 0.4984\tD(G(z)): 0.4835 / 0.4696\n",
            "[16/20][200/235]\tLoss_D: 1.3650\tLoss_G: 0.6927\tD(x): 0.5135\tD(G(z)): 0.4990 / 0.5018\n",
            "17\n",
            "[17/20][0/235]\tLoss_D: 1.3645\tLoss_G: 0.7182\tD(x): 0.5101\tD(G(z)): 0.4955 / 0.4892\n",
            "[17/20][50/235]\tLoss_D: 1.3657\tLoss_G: 0.7475\tD(x): 0.5107\tD(G(z)): 0.4965 / 0.4753\n",
            "[17/20][100/235]\tLoss_D: 1.3681\tLoss_G: 0.6750\tD(x): 0.5323\tD(G(z)): 0.5183 / 0.5108\n",
            "[17/20][150/235]\tLoss_D: 1.3658\tLoss_G: 0.7619\tD(x): 0.4892\tD(G(z)): 0.4746 / 0.4688\n",
            "[17/20][200/235]\tLoss_D: 1.3757\tLoss_G: 0.6842\tD(x): 0.5107\tD(G(z)): 0.5016 / 0.5058\n",
            "18\n",
            "[18/20][0/235]\tLoss_D: 1.3849\tLoss_G: 0.6759\tD(x): 0.5319\tD(G(z)): 0.5258 / 0.5106\n",
            "[18/20][50/235]\tLoss_D: 1.3734\tLoss_G: 0.7467\tD(x): 0.4898\tD(G(z)): 0.4792 / 0.4760\n",
            "[18/20][100/235]\tLoss_D: 1.3705\tLoss_G: 0.6933\tD(x): 0.5160\tD(G(z)): 0.5040 / 0.5016\n",
            "[18/20][150/235]\tLoss_D: 1.3695\tLoss_G: 0.7426\tD(x): 0.4935\tD(G(z)): 0.4808 / 0.4777\n",
            "[18/20][200/235]\tLoss_D: 1.3763\tLoss_G: 0.6645\tD(x): 0.5173\tD(G(z)): 0.5085 / 0.5163\n",
            "19\n",
            "[19/20][0/235]\tLoss_D: 1.3759\tLoss_G: 0.6818\tD(x): 0.5266\tD(G(z)): 0.5164 / 0.5077\n",
            "[19/20][50/235]\tLoss_D: 1.3852\tLoss_G: 0.7261\tD(x): 0.5065\tD(G(z)): 0.5018 / 0.4860\n",
            "[19/20][100/235]\tLoss_D: 1.3693\tLoss_G: 0.6876\tD(x): 0.5116\tD(G(z)): 0.4985 / 0.5048\n",
            "[19/20][150/235]\tLoss_D: 1.3580\tLoss_G: 0.7452\tD(x): 0.4997\tD(G(z)): 0.4817 / 0.4765\n",
            "[19/20][200/235]\tLoss_D: 1.3693\tLoss_G: 0.6821\tD(x): 0.5234\tD(G(z)): 0.5110 / 0.5071\n"
          ],
          "name": "stdout"
        }
      ]
    },
    {
      "cell_type": "markdown",
      "metadata": {
        "id": "Zsv8cSdcaYCg"
      },
      "source": [
        ""
      ]
    },
    {
      "cell_type": "code",
      "metadata": {
        "id": "0CEk6fOAV1ac",
        "outputId": "e83a3be1-695b-461d-cfee-bc0914c8b387",
        "colab": {
          "base_uri": "https://localhost:8080/"
        }
      },
      "source": [
        "manualSeed = 5405\n",
        "\n",
        "torch.manual_seed(manualSeed)\n",
        "random.seed(manualSeed)\n",
        "\n",
        "\n",
        "trainGAN(3, ma.Generator3(ngpu), ma.Discriminator3(ngpu))"
      ],
      "execution_count": null,
      "outputs": [
        {
          "output_type": "stream",
          "text": [
            "0\n",
            "[0/20][0/235]\tLoss_D: 1.4090\tLoss_G: 0.7040\tD(x): 0.4936\tD(G(z)): 0.5048 / 0.4946\n",
            "[0/20][50/235]\tLoss_D: 0.7613\tLoss_G: 1.5243\tD(x): 0.6242\tD(G(z)): 0.2489 / 0.2193\n",
            "[0/20][100/235]\tLoss_D: 0.7447\tLoss_G: 0.7127\tD(x): 0.9330\tD(G(z)): 0.4904 / 0.4903\n",
            "[0/20][150/235]\tLoss_D: 0.7568\tLoss_G: 0.6825\tD(x): 0.9758\tD(G(z)): 0.5104 / 0.5089\n",
            "[0/20][200/235]\tLoss_D: 1.7114\tLoss_G: 0.5342\tD(x): 0.5872\tD(G(z)): 0.6512 / 0.6007\n",
            "1\n",
            "[1/20][0/235]\tLoss_D: 1.3050\tLoss_G: 0.6539\tD(x): 0.5757\tD(G(z)): 0.5222 / 0.5233\n",
            "[1/20][50/235]\tLoss_D: 1.4142\tLoss_G: 0.6513\tD(x): 0.5265\tD(G(z)): 0.5288 / 0.5277\n",
            "[1/20][100/235]\tLoss_D: 1.3037\tLoss_G: 0.6508\tD(x): 0.5868\tD(G(z)): 0.5334 / 0.5238\n",
            "[1/20][150/235]\tLoss_D: 1.3029\tLoss_G: 0.6169\tD(x): 0.5798\tD(G(z)): 0.5282 / 0.5410\n",
            "[1/20][200/235]\tLoss_D: 1.3881\tLoss_G: 0.5985\tD(x): 0.5564\tD(G(z)): 0.5475 / 0.5512\n",
            "2\n",
            "[2/20][0/235]\tLoss_D: 1.3795\tLoss_G: 0.6683\tD(x): 0.5375\tD(G(z)): 0.5293 / 0.5138\n",
            "[2/20][50/235]\tLoss_D: 1.4170\tLoss_G: 0.5934\tD(x): 0.5465\tD(G(z)): 0.5545 / 0.5533\n",
            "[2/20][100/235]\tLoss_D: 1.3999\tLoss_G: 0.7083\tD(x): 0.5207\tD(G(z)): 0.5247 / 0.4936\n",
            "[2/20][150/235]\tLoss_D: 1.3831\tLoss_G: 0.7958\tD(x): 0.4889\tD(G(z)): 0.4853 / 0.4522\n",
            "[2/20][200/235]\tLoss_D: 1.4118\tLoss_G: 0.7248\tD(x): 0.4612\tD(G(z)): 0.4702 / 0.4848\n",
            "3\n",
            "[3/20][0/235]\tLoss_D: 1.4023\tLoss_G: 0.6803\tD(x): 0.4939\tD(G(z)): 0.5010 / 0.5069\n",
            "[3/20][50/235]\tLoss_D: 1.4101\tLoss_G: 0.7877\tD(x): 0.4454\tD(G(z)): 0.4505 / 0.4553\n",
            "[3/20][100/235]\tLoss_D: 1.3922\tLoss_G: 0.7211\tD(x): 0.4956\tD(G(z)): 0.4974 / 0.4869\n",
            "[3/20][150/235]\tLoss_D: 1.3851\tLoss_G: 0.7357\tD(x): 0.4755\tD(G(z)): 0.4730 / 0.4794\n",
            "[3/20][200/235]\tLoss_D: 1.3815\tLoss_G: 0.7767\tD(x): 0.4662\tD(G(z)): 0.4601 / 0.4605\n",
            "4\n",
            "[4/20][0/235]\tLoss_D: 1.4001\tLoss_G: 0.6405\tD(x): 0.5282\tD(G(z)): 0.5322 / 0.5274\n",
            "[4/20][50/235]\tLoss_D: 1.4012\tLoss_G: 0.7524\tD(x): 0.4732\tD(G(z)): 0.4785 / 0.4718\n",
            "[4/20][100/235]\tLoss_D: 1.3737\tLoss_G: 0.6412\tD(x): 0.5333\tD(G(z)): 0.5243 / 0.5272\n",
            "[4/20][150/235]\tLoss_D: 1.4091\tLoss_G: 0.7319\tD(x): 0.4687\tD(G(z)): 0.4779 / 0.4813\n",
            "[4/20][200/235]\tLoss_D: 1.3737\tLoss_G: 0.7843\tD(x): 0.4627\tD(G(z)): 0.4519 / 0.4569\n",
            "5\n",
            "[5/20][0/235]\tLoss_D: 1.3809\tLoss_G: 0.6604\tD(x): 0.5247\tD(G(z)): 0.5201 / 0.5171\n",
            "[5/20][50/235]\tLoss_D: 1.4237\tLoss_G: 0.7510\tD(x): 0.4531\tD(G(z)): 0.4673 / 0.4723\n",
            "[5/20][100/235]\tLoss_D: 1.3708\tLoss_G: 0.7519\tD(x): 0.4898\tD(G(z)): 0.4810 / 0.4719\n",
            "[5/20][150/235]\tLoss_D: 1.4004\tLoss_G: 0.6838\tD(x): 0.5008\tD(G(z)): 0.5071 / 0.5050\n",
            "[5/20][200/235]\tLoss_D: 1.4086\tLoss_G: 0.7568\tD(x): 0.4562\tD(G(z)): 0.4634 / 0.4694\n",
            "6\n",
            "[6/20][0/235]\tLoss_D: 1.3811\tLoss_G: 0.7122\tD(x): 0.4966\tD(G(z)): 0.4935 / 0.4908\n",
            "[6/20][50/235]\tLoss_D: 1.3869\tLoss_G: 0.7338\tD(x): 0.4847\tD(G(z)): 0.4837 / 0.4805\n",
            "[6/20][100/235]\tLoss_D: 1.4097\tLoss_G: 0.7400\tD(x): 0.4697\tD(G(z)): 0.4794 / 0.4774\n",
            "[6/20][150/235]\tLoss_D: 1.3690\tLoss_G: 0.7723\tD(x): 0.4888\tD(G(z)): 0.4788 / 0.4626\n",
            "[6/20][200/235]\tLoss_D: 1.3946\tLoss_G: 0.6758\tD(x): 0.4953\tD(G(z)): 0.4988 / 0.5091\n",
            "7\n",
            "[7/20][0/235]\tLoss_D: 1.3755\tLoss_G: 0.6594\tD(x): 0.5178\tD(G(z)): 0.5115 / 0.5174\n",
            "[7/20][50/235]\tLoss_D: 1.3734\tLoss_G: 0.7591\tD(x): 0.4763\tD(G(z)): 0.4678 / 0.4683\n",
            "[7/20][100/235]\tLoss_D: 1.3880\tLoss_G: 0.7040\tD(x): 0.4956\tD(G(z)): 0.4958 / 0.4950\n",
            "[7/20][150/235]\tLoss_D: 1.3667\tLoss_G: 0.7726\tD(x): 0.4892\tD(G(z)): 0.4779 / 0.4623\n",
            "[7/20][200/235]\tLoss_D: 1.4189\tLoss_G: 0.6960\tD(x): 0.4726\tD(G(z)): 0.4869 / 0.4989\n",
            "8\n",
            "[8/20][0/235]\tLoss_D: 1.3833\tLoss_G: 0.6524\tD(x): 0.5330\tD(G(z)): 0.5289 / 0.5212\n",
            "[8/20][50/235]\tLoss_D: 1.3771\tLoss_G: 0.7126\tD(x): 0.4891\tD(G(z)): 0.4835 / 0.4908\n",
            "[8/20][100/235]\tLoss_D: 1.3435\tLoss_G: 0.7830\tD(x): 0.4914\tD(G(z)): 0.4682 / 0.4576\n",
            "[8/20][150/235]\tLoss_D: 1.3832\tLoss_G: 0.7644\tD(x): 0.4740\tD(G(z)): 0.4702 / 0.4660\n",
            "[8/20][200/235]\tLoss_D: 1.3590\tLoss_G: 0.6567\tD(x): 0.5224\tD(G(z)): 0.5070 / 0.5191\n",
            "9\n",
            "[9/20][0/235]\tLoss_D: 1.3686\tLoss_G: 0.7534\tD(x): 0.5008\tD(G(z)): 0.4910 / 0.4713\n",
            "[9/20][50/235]\tLoss_D: 1.3802\tLoss_G: 0.7033\tD(x): 0.4961\tD(G(z)): 0.4920 / 0.4954\n",
            "[9/20][100/235]\tLoss_D: 1.3571\tLoss_G: 0.7868\tD(x): 0.4733\tD(G(z)): 0.4545 / 0.4561\n",
            "[9/20][150/235]\tLoss_D: 1.3575\tLoss_G: 0.7807\tD(x): 0.4764\tD(G(z)): 0.4588 / 0.4586\n",
            "[9/20][200/235]\tLoss_D: 1.3646\tLoss_G: 0.6685\tD(x): 0.5188\tD(G(z)): 0.5067 / 0.5130\n",
            "10\n",
            "[10/20][0/235]\tLoss_D: 1.3617\tLoss_G: 0.7395\tD(x): 0.5088\tD(G(z)): 0.4953 / 0.4780\n",
            "[10/20][50/235]\tLoss_D: 1.3691\tLoss_G: 0.7343\tD(x): 0.4921\tD(G(z)): 0.4820 / 0.4804\n",
            "[10/20][100/235]\tLoss_D: 1.3698\tLoss_G: 0.6986\tD(x): 0.5202\tD(G(z)): 0.5100 / 0.4980\n",
            "[10/20][150/235]\tLoss_D: 1.3620\tLoss_G: 0.7870\tD(x): 0.4685\tD(G(z)): 0.4516 / 0.4560\n",
            "[10/20][200/235]\tLoss_D: 1.3698\tLoss_G: 0.6734\tD(x): 0.5251\tD(G(z)): 0.5141 / 0.5108\n",
            "11\n",
            "[11/20][0/235]\tLoss_D: 1.3607\tLoss_G: 0.7514\tD(x): 0.5057\tD(G(z)): 0.4914 / 0.4725\n",
            "[11/20][50/235]\tLoss_D: 1.3641\tLoss_G: 0.6985\tD(x): 0.5028\tD(G(z)): 0.4902 / 0.4981\n",
            "[11/20][100/235]\tLoss_D: 1.3597\tLoss_G: 0.7373\tD(x): 0.5173\tD(G(z)): 0.5019 / 0.4793\n",
            "[11/20][150/235]\tLoss_D: 1.3695\tLoss_G: 0.7496\tD(x): 0.4606\tD(G(z)): 0.4457 / 0.4733\n",
            "[11/20][200/235]\tLoss_D: 1.3656\tLoss_G: 0.6727\tD(x): 0.5204\tD(G(z)): 0.5072 / 0.5115\n",
            "12\n",
            "[12/20][0/235]\tLoss_D: 1.3559\tLoss_G: 0.7860\tD(x): 0.5095\tD(G(z)): 0.4922 / 0.4568\n",
            "[12/20][50/235]\tLoss_D: 1.3597\tLoss_G: 0.6407\tD(x): 0.5336\tD(G(z)): 0.5171 / 0.5277\n",
            "[12/20][100/235]\tLoss_D: 1.3621\tLoss_G: 0.7505\tD(x): 0.4983\tD(G(z)): 0.4838 / 0.4734\n",
            "[12/20][150/235]\tLoss_D: 1.3729\tLoss_G: 0.7251\tD(x): 0.4721\tD(G(z)): 0.4606 / 0.4854\n",
            "[12/20][200/235]\tLoss_D: 1.3570\tLoss_G: 0.7273\tD(x): 0.5091\tD(G(z)): 0.4909 / 0.4848\n",
            "13\n",
            "[13/20][0/235]\tLoss_D: 1.3800\tLoss_G: 0.7735\tD(x): 0.5273\tD(G(z)): 0.5205 / 0.4628\n",
            "[13/20][50/235]\tLoss_D: 1.3683\tLoss_G: 0.7133\tD(x): 0.4935\tD(G(z)): 0.4823 / 0.4911\n",
            "[13/20][100/235]\tLoss_D: 1.3717\tLoss_G: 0.7842\tD(x): 0.4919\tD(G(z)): 0.4813 / 0.4579\n",
            "[13/20][150/235]\tLoss_D: 1.3634\tLoss_G: 0.7604\tD(x): 0.4695\tD(G(z)): 0.4523 / 0.4689\n",
            "[13/20][200/235]\tLoss_D: 1.3639\tLoss_G: 0.6650\tD(x): 0.5261\tD(G(z)): 0.5111 / 0.5155\n",
            "14\n",
            "[14/20][0/235]\tLoss_D: 1.3934\tLoss_G: 0.5742\tD(x): 0.5943\tD(G(z)): 0.5802 / 0.5641\n",
            "[14/20][50/235]\tLoss_D: 1.3750\tLoss_G: 0.7431\tD(x): 0.4806\tD(G(z)): 0.4713 / 0.4766\n",
            "[14/20][100/235]\tLoss_D: 1.3556\tLoss_G: 0.7174\tD(x): 0.5250\tD(G(z)): 0.5063 / 0.4895\n",
            "[14/20][150/235]\tLoss_D: 1.3510\tLoss_G: 0.8307\tD(x): 0.4691\tD(G(z)): 0.4451 / 0.4371\n",
            "[14/20][200/235]\tLoss_D: 1.3635\tLoss_G: 0.6433\tD(x): 0.5432\tD(G(z)): 0.5272 / 0.5266\n",
            "15\n",
            "[15/20][0/235]\tLoss_D: 1.3691\tLoss_G: 0.7253\tD(x): 0.5088\tD(G(z)): 0.4980 / 0.4852\n",
            "[15/20][50/235]\tLoss_D: 1.3697\tLoss_G: 0.7126\tD(x): 0.4948\tD(G(z)): 0.4844 / 0.4914\n",
            "[15/20][100/235]\tLoss_D: 1.3673\tLoss_G: 0.6749\tD(x): 0.5340\tD(G(z)): 0.5210 / 0.5102\n",
            "[15/20][150/235]\tLoss_D: 1.3629\tLoss_G: 0.7559\tD(x): 0.4798\tD(G(z)): 0.4647 / 0.4706\n",
            "[15/20][200/235]\tLoss_D: 1.3759\tLoss_G: 0.6988\tD(x): 0.5273\tD(G(z)): 0.5189 / 0.4981\n",
            "16\n",
            "[16/20][0/235]\tLoss_D: 1.3699\tLoss_G: 0.7565\tD(x): 0.4975\tD(G(z)): 0.4872 / 0.4703\n",
            "[16/20][50/235]\tLoss_D: 1.3771\tLoss_G: 0.7106\tD(x): 0.4886\tD(G(z)): 0.4817 / 0.4922\n",
            "[16/20][100/235]\tLoss_D: 1.3673\tLoss_G: 0.6636\tD(x): 0.5374\tD(G(z)): 0.5238 / 0.5160\n",
            "[16/20][150/235]\tLoss_D: 1.3739\tLoss_G: 0.7579\tD(x): 0.4823\tD(G(z)): 0.4730 / 0.4697\n",
            "[16/20][200/235]\tLoss_D: 1.3829\tLoss_G: 0.6936\tD(x): 0.5180\tD(G(z)): 0.5134 / 0.5008\n",
            "17\n",
            "[17/20][0/235]\tLoss_D: 1.3782\tLoss_G: 0.7416\tD(x): 0.5015\tD(G(z)): 0.4955 / 0.4773\n",
            "[17/20][50/235]\tLoss_D: 1.3881\tLoss_G: 0.7160\tD(x): 0.4864\tD(G(z)): 0.4852 / 0.4896\n",
            "[17/20][100/235]\tLoss_D: 1.3716\tLoss_G: 0.6421\tD(x): 0.5335\tD(G(z)): 0.5228 / 0.5269\n",
            "[17/20][150/235]\tLoss_D: 1.3724\tLoss_G: 0.7548\tD(x): 0.4899\tD(G(z)): 0.4806 / 0.4710\n",
            "[17/20][200/235]\tLoss_D: 1.3721\tLoss_G: 0.6442\tD(x): 0.5253\tD(G(z)): 0.5153 / 0.5258\n",
            "18\n",
            "[18/20][0/235]\tLoss_D: 1.3675\tLoss_G: 0.7356\tD(x): 0.5041\tD(G(z)): 0.4931 / 0.4800\n",
            "[18/20][50/235]\tLoss_D: 1.3798\tLoss_G: 0.7194\tD(x): 0.4903\tD(G(z)): 0.4852 / 0.4880\n",
            "[18/20][100/235]\tLoss_D: 1.3717\tLoss_G: 0.6762\tD(x): 0.5052\tD(G(z)): 0.4961 / 0.5093\n",
            "[18/20][150/235]\tLoss_D: 1.3788\tLoss_G: 0.7036\tD(x): 0.5125\tD(G(z)): 0.5069 / 0.4956\n",
            "[18/20][200/235]\tLoss_D: 1.3730\tLoss_G: 0.6274\tD(x): 0.5304\tD(G(z)): 0.5208 / 0.5347\n",
            "19\n",
            "[19/20][0/235]\tLoss_D: 1.3723\tLoss_G: 0.7588\tD(x): 0.4931\tD(G(z)): 0.4841 / 0.4691\n",
            "[19/20][50/235]\tLoss_D: 1.3739\tLoss_G: 0.7339\tD(x): 0.4891\tD(G(z)): 0.4809 / 0.4808\n",
            "[19/20][100/235]\tLoss_D: 1.3660\tLoss_G: 0.6897\tD(x): 0.5034\tD(G(z)): 0.4917 / 0.5024\n",
            "[19/20][150/235]\tLoss_D: 1.3839\tLoss_G: 0.7139\tD(x): 0.4967\tD(G(z)): 0.4938 / 0.4905\n",
            "[19/20][200/235]\tLoss_D: 1.3792\tLoss_G: 0.6515\tD(x): 0.5161\tD(G(z)): 0.5105 / 0.5220\n"
          ],
          "name": "stdout"
        }
      ]
    },
    {
      "cell_type": "code",
      "metadata": {
        "id": "WDkHkjRtgh26",
        "outputId": "fbebf255-fe2a-4c96-b548-5ae8653914db",
        "colab": {
          "base_uri": "https://localhost:8080/"
        }
      },
      "source": [
        "from google.colab import drive\n",
        "drive.mount('/content/gdrive')"
      ],
      "execution_count": null,
      "outputs": [
        {
          "output_type": "stream",
          "text": [
            "Mounted at /content/gdrive\n"
          ],
          "name": "stdout"
        }
      ]
    },
    {
      "cell_type": "code",
      "metadata": {
        "id": "V64CvdkbT-zX"
      },
      "source": [
        "fixed_noise = torch.randn(1000, nz, 1, 1, device=device)\n",
        "netG1 = Generator1(ngpu)\n",
        "model_dict1 = torch.load('/content/gdrive/My Drive/GANS/GAN_1')\n",
        "netG1.load_state_dict(model_dict1['G_state_dict'])\n",
        "netG1.to(device)\n",
        "fake1 = netG1(fixed_noise).detach().cpu().numpy().reshape(1000,28,28)\n",
        "netG3 = Generator3(ngpu)\n",
        "model_dict3 = torch.load('/content/gdrive/My Drive/GANS/GAN_3')\n",
        "netG3.load_state_dict(model_dict3['G_state_dict'])\n",
        "netG3.to(device)\n",
        "fake3 = netG3(fixed_noise).detach().cpu().numpy().reshape(1000,28,28)"
      ],
      "execution_count": null,
      "outputs": []
    },
    {
      "cell_type": "code",
      "metadata": {
        "id": "T_Xd0SCvU95o",
        "outputId": "17a2d888-da6a-4637-edde-21b777ab8f06",
        "colab": {
          "base_uri": "https://localhost:8080/",
          "height": 282
        }
      },
      "source": [
        "import matplotlib.pyplot as plt\n",
        "residue_sum1 = np.zeros((28,28))\n",
        "for i in range(1000):\n",
        "  img = fake1[i].reshape(28,28)\n",
        "  kernel = np.ones((5,5),np.float32)/25\n",
        "  #dst = cv2.filter2D(img,-1, kernel)\n",
        "  dst = cv2.medianBlur(img, 3)\n",
        "  residue = img - dst\n",
        "  residue_sum1 += residue\n",
        "residue_sum1 /= 1000\n",
        "plt.imshow(residue_sum1)\n"
      ],
      "execution_count": null,
      "outputs": [
        {
          "output_type": "execute_result",
          "data": {
            "text/plain": [
              "<matplotlib.image.AxesImage at 0x7fda6a405be0>"
            ]
          },
          "metadata": {
            "tags": []
          },
          "execution_count": 66
        },
        {
          "output_type": "display_data",
          "data": {
            "image/png": "[encoded data removed]",
            "text/plain": [
              "<Figure size 432x288 with 1 Axes>"
            ]
          },
          "metadata": {
            "tags": [],
            "needs_background": "light"
          }
        }
      ]
    },
    {
      "cell_type": "code",
      "metadata": {
        "id": "ZoJHhClxdN3c",
        "outputId": "cfc53027-e38f-4e4b-c411-b1144cbaa72a",
        "colab": {
          "base_uri": "https://localhost:8080/",
          "height": 282
        }
      },
      "source": [
        "residue_sum3 = np.zeros((28,28))\n",
        "for i in range(1000):\n",
        "  img = fake3[i].reshape(28,28)\n",
        "  kernel = np.ones((5,5),np.float32)/25\n",
        "  #dst = cv2.filter2D(img,-1, kernel)\n",
        "  dst = cv2.medianBlur(img, 3)\n",
        "  residue = img - dst\n",
        "  residue_sum3 += residue\n",
        "residue_sum3 /= 1000\n",
        "plt.imshow(residue_sum3)"
      ],
      "execution_count": null,
      "outputs": [
        {
          "output_type": "execute_result",
          "data": {
            "text/plain": [
              "<matplotlib.image.AxesImage at 0x7fda6a460b70>"
            ]
          },
          "metadata": {
            "tags": []
          },
          "execution_count": 67
        },
        {
          "output_type": "display_data",
          "data": {
            "image/png": "[encoded data removed]",
            "text/plain": [
              "<Figure size 432x288 with 1 Axes>"
            ]
          },
          "metadata": {
            "tags": [],
            "needs_background": "light"
          }
        }
      ]
    },
    {
      "cell_type": "code",
      "metadata": {
        "id": "P9z9EA_WdSDr",
        "outputId": "5fbda355-18a6-4cca-a420-9a122848bc65",
        "colab": {
          "base_uri": "https://localhost:8080/"
        }
      },
      "source": [
        "total = 0\n",
        "for i in range(1000):\n",
        "  img = fake3[i].reshape(28,28)\n",
        "  #dst = cv2.filter2D(img,-1, kernel)\n",
        "  dst = cv2.medianBlur(img, 3)\n",
        "  coef1 = np.corrcoef(residue_sum1.reshape(28*28), (img - dst).reshape(28*28))[0][1]\n",
        "  coef3 =  np.corrcoef(residue_sum3.reshape(28*28), (img - dst).reshape(28*28))[0][1]\n",
        "  if coef3 > coef1:\n",
        "    total+=1\n",
        "total\n"
      ],
      "execution_count": null,
      "outputs": [
        {
          "output_type": "execute_result",
          "data": {
            "text/plain": [
              "846"
            ]
          },
          "metadata": {
            "tags": []
          },
          "execution_count": 69
        }
      ]
    },
    {
      "cell_type": "code",
      "metadata": {
        "id": "z9isBRyqdy02",
        "outputId": "5cedf156-6db4-4684-cb5e-04bf92e7da99",
        "colab": {
          "base_uri": "https://localhost:8080/"
        }
      },
      "source": [
        "np.corrcoef(residue_sum1.reshape(28*28), residue_sum3.reshape(28*28))"
      ],
      "execution_count": null,
      "outputs": [
        {
          "output_type": "execute_result",
          "data": {
            "text/plain": [
              "array([[1.        , 0.81838411],\n",
              "       [0.81838411, 1.        ]])"
            ]
          },
          "metadata": {
            "tags": []
          },
          "execution_count": 45
        }
      ]
    },
    {
      "cell_type": "code",
      "metadata": {
        "id": "QcD5m2m1VX_j",
        "outputId": "d84d7eca-e94e-4502-96dc-b515c5982a82",
        "colab": {
          "base_uri": "https://localhost:8080/",
          "height": 1000
        }
      },
      "source": [
        "import numpy as np\n",
        "plt.imshow(np.floor((fake1_as_array[2]*256).reshape(28,28)))"
      ],
      "execution_count": null,
      "outputs": [
        {
          "output_type": "execute_result",
          "data": {
            "text/plain": [
              "array([[  0.,   0.,   0.,   0.,   0.,   0.,   0.,   0.,   0.,   0.,   0.,\n",
              "          0.,   0.,   0.,   0.,   0.,   0.,   0.,   0.,   0.,   0.,   0.,\n",
              "          0.,   0.,   0.,   0.,   0.,   0.],\n",
              "       [  0.,   0.,   0.,   0.,   0.,   0.,   0.,   0.,   0.,   0.,   0.,\n",
              "          0.,   0.,   0.,   0.,   0.,   0.,   0.,   0.,   0.,   0.,   0.,\n",
              "          0.,   0.,   0.,   0.,   0.,   0.],\n",
              "       [  0.,   0.,   0.,   0.,   0.,   0.,   0.,   0.,   0.,   0.,   0.,\n",
              "          0.,   0.,   0.,   0.,   0.,   0.,   0.,   0.,   0.,   0.,   0.,\n",
              "          0.,   0.,   0.,   0.,   0.,   0.],\n",
              "       [  0.,   0.,   0.,   0.,   0.,   0.,   0.,   0.,   0.,   0.,   0.,\n",
              "          0.,   0.,   0.,   0.,   0.,   0.,   0.,   0.,   0.,   0.,   0.,\n",
              "          0.,   0.,   0.,   0.,   0.,   0.],\n",
              "       [  0.,   0.,   0.,   0.,   0.,   0.,   1.,  81.,  99.,  81.,   5.,\n",
              "          0.,   0.,   0.,   0.,   0.,   0.,   0.,   0.,   0.,   0.,   0.,\n",
              "          0.,   0.,   0.,   0.,   0.,   0.],\n",
              "       [  0.,   0.,   0.,   0.,   0.,   0.,  88., 224., 225., 240., 180.,\n",
              "         10.,   0.,   0.,   0.,   0.,   0.,   0.,   0.,   0.,   0.,   0.,\n",
              "          0.,   0.,   0.,   0.,   0.,   0.],\n",
              "       [  0.,   0.,   0.,   0.,   0.,  59., 236., 245., 241., 241., 241.,\n",
              "        215., 148.,  25.,   6.,  97., 137.,  98.,   8.,  18.,  47.,  65.,\n",
              "          2.,   0.,   0.,   1.,   0.,   0.],\n",
              "       [  0.,   0.,   0.,   0.,   6., 145., 248., 243., 206., 214., 244.,\n",
              "        254., 255., 255., 255., 255., 255., 255., 243., 246., 251., 251.,\n",
              "        180.,  13.,  22.,  49.,   0.,   0.],\n",
              "       [  0.,   0.,   0.,   0.,   0.,  65., 230., 214., 181., 179., 245.,\n",
              "        252., 255., 255., 255., 255., 254., 204., 167., 227., 248., 244.,\n",
              "         77.,  17.,  40., 102.,   0.,   0.],\n",
              "       [  0.,   0.,   0.,   0.,   1.,  87., 184., 177., 144., 234., 247.,\n",
              "        254., 255., 255., 255., 186.,  23.,  14.,  46., 218., 243., 204.,\n",
              "         44.,   6.,  17.,  11.,   0.,   0.],\n",
              "       [  0.,   0.,   0.,   0.,   0.,  24.,  35.,  30.,  97., 204., 203.,\n",
              "        243., 234., 166.,   0.,   0.,   0.,  31., 248., 254., 240.,  59.,\n",
              "          1.,   0.,   0.,   0.,   0.,   0.],\n",
              "       [  0.,   0.,   0.,   0.,   0.,   0.,   0.,   0.,   1.,   2.,  10.,\n",
              "          6.,   0.,   0.,   0.,   0.,   0., 245., 255., 255., 197.,   2.,\n",
              "          0.,   0.,   0.,   0.,   0.,   0.],\n",
              "       [  0.,   0.,   0.,   0.,   0.,   0.,   0.,   0.,   0.,   0.,   0.,\n",
              "          0.,   0.,   0.,   0.,   0.,   5., 255., 255., 251.,   0.,   0.,\n",
              "          0.,   0.,   0.,   0.,   0.,   0.],\n",
              "       [  0.,   0.,   0.,   0.,   0.,   0.,   0.,   0.,   0.,   0.,   0.,\n",
              "          0.,   0.,   0.,   0.,   0., 255., 255., 255.,  84.,   0.,   0.,\n",
              "          0.,   0.,   0.,   0.,   0.,   0.],\n",
              "       [  0.,   0.,   0.,   0.,   0.,   0.,   0.,   0.,   0.,   0.,   0.,\n",
              "          0.,   0.,   0.,   0., 174., 255., 255., 140.,   0.,   0.,   0.,\n",
              "          0.,   0.,   0.,   0.,   0.,   0.],\n",
              "       [  0.,   0.,   0.,   0.,   0.,   0.,   0.,   0.,   0.,   0.,   0.,\n",
              "          0.,   0.,   0.,   5., 255., 255., 246.,   0.,   0.,   0.,   0.,\n",
              "          0.,   0.,   0.,   0.,   0.,   0.],\n",
              "       [  0.,   0.,   0.,   0.,   0.,   0.,   0.,   0.,   0.,   0.,   0.,\n",
              "          3.,   0.,  72., 255., 255., 241.,   0.,   0.,   0.,   0.,   0.,\n",
              "          0.,   0.,   0.,   0.,   0.,   0.],\n",
              "       [  0.,   0.,   0.,   0.,   0.,   0.,   0.,   0.,   0.,   0.,   0.,\n",
              "          0.,   0., 243., 255., 252.,   0.,   0.,   0.,   0.,   0.,   0.,\n",
              "          0.,   0.,   0.,   0.,   0.,   0.],\n",
              "       [  0.,   0.,   0.,   0.,   0.,   0.,   0.,   0.,   0.,   0.,   0.,\n",
              "          0.,  20., 255., 255.,   3.,   0.,   0.,   0.,   0.,   0.,   0.,\n",
              "          0.,   0.,   0.,   0.,   0.,   0.],\n",
              "       [  0.,   0.,   0.,   0.,   0.,   0.,   0.,   0.,   0.,   0.,   0.,\n",
              "          0., 171., 255., 211.,   0.,   0.,   0.,   0.,   0.,   0.,   0.,\n",
              "          0.,   0.,   0.,   0.,   0.,   0.],\n",
              "       [  0.,   0.,   0.,   0.,   0.,   0.,   0.,   0.,   0.,   0.,   0.,\n",
              "        163., 252., 253.,   0.,   0.,   0.,   0.,   0.,   0.,   0.,   0.,\n",
              "          0.,   0.,   0.,   0.,   0.,   0.],\n",
              "       [  0.,   0.,   0.,   0.,   0.,   0.,   0.,   0.,   0.,   0., 229.,\n",
              "        255., 255., 172.,   0.,   0.,   0.,   0.,   0.,   0.,   0.,   0.,\n",
              "          0.,   0.,   0.,   0.,   0.,   0.],\n",
              "       [  0.,   0.,   0.,   0.,   0.,   0.,   0.,   0.,   0.,   5., 255.,\n",
              "        255., 255.,   5.,   0.,   0.,   0.,   0.,   0.,   0.,   0.,   0.,\n",
              "          0.,   0.,   0.,   0.,   0.,   0.],\n",
              "       [  0.,   0.,   0.,   0.,   0.,   0.,   0.,   3.,  34., 233., 255.,\n",
              "        255., 215.,   0.,   0.,   0.,   0.,   0.,   0.,   0.,   0.,   0.,\n",
              "          0.,   0.,   0.,   0.,   0.,   0.],\n",
              "       [  0.,   0.,   0.,   0.,   0.,   0.,   2., 130., 200., 251., 254.,\n",
              "        245.,   9.,   0.,   0.,   0.,   0.,   0.,   0.,   0.,   0.,   0.,\n",
              "          0.,   0.,   0.,   0.,   0.,   0.],\n",
              "       [  0.,   0.,   0.,   0.,   0.,   0.,   0.,  77., 196., 247., 247.,\n",
              "        126.,   0.,   0.,   0.,   0.,   0.,   0.,   0.,   0.,   0.,   0.,\n",
              "          0.,   0.,   0.,   0.,   0.,   0.],\n",
              "       [  0.,   0.,   0.,   0.,   0.,   0.,   0.,   0.,   8.,   5.,   3.,\n",
              "          0.,   0.,   0.,   0.,   0.,   0.,   0.,   0.,   0.,   0.,   0.,\n",
              "          0.,   0.,   0.,   0.,   0.,   0.],\n",
              "       [  0.,   0.,   0.,   0.,   0.,   0.,   0.,   0.,   0.,   0.,   0.,\n",
              "          0.,   0.,   0.,   0.,   0.,   0.,   0.,   0.,   0.,   0.,   0.,\n",
              "          0.,   0.,   0.,   0.,   0.,   0.]], dtype=float32)"
            ]
          },
          "metadata": {
            "tags": []
          },
          "execution_count": 64
        },
        {
          "output_type": "display_data",
          "data": {
            "image/png": "[encoded data removed]",
            "text/plain": [
              "<Figure size 432x288 with 1 Axes>"
            ]
          },
          "metadata": {
            "tags": [],
            "needs_background": "light"
          }
        }
      ]
    },
    {
      "cell_type": "code",
      "metadata": {
        "id": "cw7iGGUuWX5H"
      },
      "source": [
        "import cv2\n",
        "import math\n",
        "kernel = np.ones((5,5),np.float32)/25\n",
        "dst = cv2.filter2D(np.floor(fake1_as_array[2]*256).reshape(28,28),-1,kernel)\n"
      ],
      "execution_count": null,
      "outputs": []
    },
    {
      "cell_type": "code",
      "metadata": {
        "id": "4WIdKQazXpTo",
        "outputId": "16cce8b3-461e-4739-ca87-308d6960af49",
        "colab": {
          "base_uri": "https://localhost:8080/",
          "height": 282
        }
      },
      "source": [
        "plt.imshow(np.floor(fake1_as_array[2]*256).reshape(28,28)-dst)"
      ],
      "execution_count": null,
      "outputs": [
        {
          "output_type": "execute_result",
          "data": {
            "text/plain": [
              "<matplotlib.image.AxesImage at 0x7fcfcbf9bf98>"
            ]
          },
          "metadata": {
            "tags": []
          },
          "execution_count": 69
        },
        {
          "output_type": "display_data",
          "data": {
            "image/png": "[encoded data removed]",
            "text/plain": [
              "<Figure size 432x288 with 1 Axes>"
            ]
          },
          "metadata": {
            "tags": [],
            "needs_background": "light"
          }
        }
      ]
    },
    {
      "cell_type": "code",
      "metadata": {
        "id": "ge-I5qnpXtPb"
      },
      "source": [
        ""
      ],
      "execution_count": null,
      "outputs": []
    }
  ]
}