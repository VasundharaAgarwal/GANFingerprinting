{
  "nbformat": 4,
  "nbformat_minor": 0,
  "metadata": {
    "colab": {
      "name": "GAN_Training.ipynb",
      "provenance": [],
      "collapsed_sections": [],
      "include_colab_link": true
    },
    "kernelspec": {
      "name": "python3",
      "display_name": "Python 3"
    },
    "widgets": {
      "application/vnd.jupyter.widget-state+json": {
        "242f75f125b247719774d686fddaed83": {
          "model_module": "@jupyter-widgets/controls",
          "model_name": "HBoxModel",
          "state": {
            "_view_name": "HBoxView",
            "_dom_classes": [],
            "_model_name": "HBoxModel",
            "_view_module": "@jupyter-widgets/controls",
            "_model_module_version": "1.5.0",
            "_view_count": null,
            "_view_module_version": "1.5.0",
            "box_style": "",
            "layout": "IPY_MODEL_3ff5811d3c6b4ad9bb9d843e157c195c",
            "_model_module": "@jupyter-widgets/controls",
            "children": [
              "IPY_MODEL_515cf652d82646be9f5d97a0ae262723",
              "IPY_MODEL_6f6b4d7c06224ae2b36014b0d007d9bf"
            ]
          }
        },
        "3ff5811d3c6b4ad9bb9d843e157c195c": {
          "model_module": "@jupyter-widgets/base",
          "model_name": "LayoutModel",
          "state": {
            "_view_name": "LayoutView",
            "grid_template_rows": null,
            "right": null,
            "justify_content": null,
            "_view_module": "@jupyter-widgets/base",
            "overflow": null,
            "_model_module_version": "1.2.0",
            "_view_count": null,
            "flex_flow": null,
            "width": null,
            "min_width": null,
            "border": null,
            "align_items": null,
            "bottom": null,
            "_model_module": "@jupyter-widgets/base",
            "top": null,
            "grid_column": null,
            "overflow_y": null,
            "overflow_x": null,
            "grid_auto_flow": null,
            "grid_area": null,
            "grid_template_columns": null,
            "flex": null,
            "_model_name": "LayoutModel",
            "justify_items": null,
            "grid_row": null,
            "max_height": null,
            "align_content": null,
            "visibility": null,
            "align_self": null,
            "height": null,
            "min_height": null,
            "padding": null,
            "grid_auto_rows": null,
            "grid_gap": null,
            "max_width": null,
            "order": null,
            "_view_module_version": "1.2.0",
            "grid_template_areas": null,
            "object_position": null,
            "object_fit": null,
            "grid_auto_columns": null,
            "margin": null,
            "display": null,
            "left": null
          }
        },
        "515cf652d82646be9f5d97a0ae262723": {
          "model_module": "@jupyter-widgets/controls",
          "model_name": "FloatProgressModel",
          "state": {
            "_view_name": "ProgressView",
            "style": "IPY_MODEL_98bb16f62fdd45418f7e1c152ebe7000",
            "_dom_classes": [],
            "description": "",
            "_model_name": "FloatProgressModel",
            "bar_style": "info",
            "max": 1,
            "_view_module": "@jupyter-widgets/controls",
            "_model_module_version": "1.5.0",
            "value": 1,
            "_view_count": null,
            "_view_module_version": "1.5.0",
            "orientation": "horizontal",
            "min": 0,
            "description_tooltip": null,
            "_model_module": "@jupyter-widgets/controls",
            "layout": "IPY_MODEL_ef2bcf1f3c11400f809cd1d35660d063"
          }
        },
        "6f6b4d7c06224ae2b36014b0d007d9bf": {
          "model_module": "@jupyter-widgets/controls",
          "model_name": "HTMLModel",
          "state": {
            "_view_name": "HTMLView",
            "style": "IPY_MODEL_0333a449418c4ade8ec3e446d93c3156",
            "_dom_classes": [],
            "description": "",
            "_model_name": "HTMLModel",
            "placeholder": "​",
            "_view_module": "@jupyter-widgets/controls",
            "_model_module_version": "1.5.0",
            "value": " 9920512/? [00:20&lt;00:00, 794131.79it/s]",
            "_view_count": null,
            "_view_module_version": "1.5.0",
            "description_tooltip": null,
            "_model_module": "@jupyter-widgets/controls",
            "layout": "IPY_MODEL_c18604020d364f0882febf72aea354fc"
          }
        },
        "98bb16f62fdd45418f7e1c152ebe7000": {
          "model_module": "@jupyter-widgets/controls",
          "model_name": "ProgressStyleModel",
          "state": {
            "_view_name": "StyleView",
            "_model_name": "ProgressStyleModel",
            "description_width": "initial",
            "_view_module": "@jupyter-widgets/base",
            "_model_module_version": "1.5.0",
            "_view_count": null,
            "_view_module_version": "1.2.0",
            "bar_color": null,
            "_model_module": "@jupyter-widgets/controls"
          }
        },
        "ef2bcf1f3c11400f809cd1d35660d063": {
          "model_module": "@jupyter-widgets/base",
          "model_name": "LayoutModel",
          "state": {
            "_view_name": "LayoutView",
            "grid_template_rows": null,
            "right": null,
            "justify_content": null,
            "_view_module": "@jupyter-widgets/base",
            "overflow": null,
            "_model_module_version": "1.2.0",
            "_view_count": null,
            "flex_flow": null,
            "width": null,
            "min_width": null,
            "border": null,
            "align_items": null,
            "bottom": null,
            "_model_module": "@jupyter-widgets/base",
            "top": null,
            "grid_column": null,
            "overflow_y": null,
            "overflow_x": null,
            "grid_auto_flow": null,
            "grid_area": null,
            "grid_template_columns": null,
            "flex": null,
            "_model_name": "LayoutModel",
            "justify_items": null,
            "grid_row": null,
            "max_height": null,
            "align_content": null,
            "visibility": null,
            "align_self": null,
            "height": null,
            "min_height": null,
            "padding": null,
            "grid_auto_rows": null,
            "grid_gap": null,
            "max_width": null,
            "order": null,
            "_view_module_version": "1.2.0",
            "grid_template_areas": null,
            "object_position": null,
            "object_fit": null,
            "grid_auto_columns": null,
            "margin": null,
            "display": null,
            "left": null
          }
        },
        "0333a449418c4ade8ec3e446d93c3156": {
          "model_module": "@jupyter-widgets/controls",
          "model_name": "DescriptionStyleModel",
          "state": {
            "_view_name": "StyleView",
            "_model_name": "DescriptionStyleModel",
            "description_width": "",
            "_view_module": "@jupyter-widgets/base",
            "_model_module_version": "1.5.0",
            "_view_count": null,
            "_view_module_version": "1.2.0",
            "_model_module": "@jupyter-widgets/controls"
          }
        },
        "c18604020d364f0882febf72aea354fc": {
          "model_module": "@jupyter-widgets/base",
          "model_name": "LayoutModel",
          "state": {
            "_view_name": "LayoutView",
            "grid_template_rows": null,
            "right": null,
            "justify_content": null,
            "_view_module": "@jupyter-widgets/base",
            "overflow": null,
            "_model_module_version": "1.2.0",
            "_view_count": null,
            "flex_flow": null,
            "width": null,
            "min_width": null,
            "border": null,
            "align_items": null,
            "bottom": null,
            "_model_module": "@jupyter-widgets/base",
            "top": null,
            "grid_column": null,
            "overflow_y": null,
            "overflow_x": null,
            "grid_auto_flow": null,
            "grid_area": null,
            "grid_template_columns": null,
            "flex": null,
            "_model_name": "LayoutModel",
            "justify_items": null,
            "grid_row": null,
            "max_height": null,
            "align_content": null,
            "visibility": null,
            "align_self": null,
            "height": null,
            "min_height": null,
            "padding": null,
            "grid_auto_rows": null,
            "grid_gap": null,
            "max_width": null,
            "order": null,
            "_view_module_version": "1.2.0",
            "grid_template_areas": null,
            "object_position": null,
            "object_fit": null,
            "grid_auto_columns": null,
            "margin": null,
            "display": null,
            "left": null
          }
        },
        "8d3d9a90f3c24cc9b255db513a235d72": {
          "model_module": "@jupyter-widgets/controls",
          "model_name": "HBoxModel",
          "state": {
            "_view_name": "HBoxView",
            "_dom_classes": [],
            "_model_name": "HBoxModel",
            "_view_module": "@jupyter-widgets/controls",
            "_model_module_version": "1.5.0",
            "_view_count": null,
            "_view_module_version": "1.5.0",
            "box_style": "",
            "layout": "IPY_MODEL_38220d1d764c4f8796929bf7c36e2a54",
            "_model_module": "@jupyter-widgets/controls",
            "children": [
              "IPY_MODEL_d3ecd263ea96450eb82021d05812b980",
              "IPY_MODEL_55cc093b1d974a7db84428b0b4d2b650"
            ]
          }
        },
        "38220d1d764c4f8796929bf7c36e2a54": {
          "model_module": "@jupyter-widgets/base",
          "model_name": "LayoutModel",
          "state": {
            "_view_name": "LayoutView",
            "grid_template_rows": null,
            "right": null,
            "justify_content": null,
            "_view_module": "@jupyter-widgets/base",
            "overflow": null,
            "_model_module_version": "1.2.0",
            "_view_count": null,
            "flex_flow": null,
            "width": null,
            "min_width": null,
            "border": null,
            "align_items": null,
            "bottom": null,
            "_model_module": "@jupyter-widgets/base",
            "top": null,
            "grid_column": null,
            "overflow_y": null,
            "overflow_x": null,
            "grid_auto_flow": null,
            "grid_area": null,
            "grid_template_columns": null,
            "flex": null,
            "_model_name": "LayoutModel",
            "justify_items": null,
            "grid_row": null,
            "max_height": null,
            "align_content": null,
            "visibility": null,
            "align_self": null,
            "height": null,
            "min_height": null,
            "padding": null,
            "grid_auto_rows": null,
            "grid_gap": null,
            "max_width": null,
            "order": null,
            "_view_module_version": "1.2.0",
            "grid_template_areas": null,
            "object_position": null,
            "object_fit": null,
            "grid_auto_columns": null,
            "margin": null,
            "display": null,
            "left": null
          }
        },
        "d3ecd263ea96450eb82021d05812b980": {
          "model_module": "@jupyter-widgets/controls",
          "model_name": "FloatProgressModel",
          "state": {
            "_view_name": "ProgressView",
            "style": "IPY_MODEL_33adfbbc89204a1db10285d1f58368a4",
            "_dom_classes": [],
            "description": "",
            "_model_name": "FloatProgressModel",
            "bar_style": "success",
            "max": 1,
            "_view_module": "@jupyter-widgets/controls",
            "_model_module_version": "1.5.0",
            "value": 1,
            "_view_count": null,
            "_view_module_version": "1.5.0",
            "orientation": "horizontal",
            "min": 0,
            "description_tooltip": null,
            "_model_module": "@jupyter-widgets/controls",
            "layout": "IPY_MODEL_ab867192c456435fb9b62f646162485a"
          }
        },
        "55cc093b1d974a7db84428b0b4d2b650": {
          "model_module": "@jupyter-widgets/controls",
          "model_name": "HTMLModel",
          "state": {
            "_view_name": "HTMLView",
            "style": "IPY_MODEL_398c13617c564373bb981c581be3905d",
            "_dom_classes": [],
            "description": "",
            "_model_name": "HTMLModel",
            "placeholder": "​",
            "_view_module": "@jupyter-widgets/controls",
            "_model_module_version": "1.5.0",
            "value": " 32768/? [00:00&lt;00:00, 33866.72it/s]",
            "_view_count": null,
            "_view_module_version": "1.5.0",
            "description_tooltip": null,
            "_model_module": "@jupyter-widgets/controls",
            "layout": "IPY_MODEL_db636ca1664b4102baf8a6925af54835"
          }
        },
        "33adfbbc89204a1db10285d1f58368a4": {
          "model_module": "@jupyter-widgets/controls",
          "model_name": "ProgressStyleModel",
          "state": {
            "_view_name": "StyleView",
            "_model_name": "ProgressStyleModel",
            "description_width": "initial",
            "_view_module": "@jupyter-widgets/base",
            "_model_module_version": "1.5.0",
            "_view_count": null,
            "_view_module_version": "1.2.0",
            "bar_color": null,
            "_model_module": "@jupyter-widgets/controls"
          }
        },
        "ab867192c456435fb9b62f646162485a": {
          "model_module": "@jupyter-widgets/base",
          "model_name": "LayoutModel",
          "state": {
            "_view_name": "LayoutView",
            "grid_template_rows": null,
            "right": null,
            "justify_content": null,
            "_view_module": "@jupyter-widgets/base",
            "overflow": null,
            "_model_module_version": "1.2.0",
            "_view_count": null,
            "flex_flow": null,
            "width": null,
            "min_width": null,
            "border": null,
            "align_items": null,
            "bottom": null,
            "_model_module": "@jupyter-widgets/base",
            "top": null,
            "grid_column": null,
            "overflow_y": null,
            "overflow_x": null,
            "grid_auto_flow": null,
            "grid_area": null,
            "grid_template_columns": null,
            "flex": null,
            "_model_name": "LayoutModel",
            "justify_items": null,
            "grid_row": null,
            "max_height": null,
            "align_content": null,
            "visibility": null,
            "align_self": null,
            "height": null,
            "min_height": null,
            "padding": null,
            "grid_auto_rows": null,
            "grid_gap": null,
            "max_width": null,
            "order": null,
            "_view_module_version": "1.2.0",
            "grid_template_areas": null,
            "object_position": null,
            "object_fit": null,
            "grid_auto_columns": null,
            "margin": null,
            "display": null,
            "left": null
          }
        },
        "398c13617c564373bb981c581be3905d": {
          "model_module": "@jupyter-widgets/controls",
          "model_name": "DescriptionStyleModel",
          "state": {
            "_view_name": "StyleView",
            "_model_name": "DescriptionStyleModel",
            "description_width": "",
            "_view_module": "@jupyter-widgets/base",
            "_model_module_version": "1.5.0",
            "_view_count": null,
            "_view_module_version": "1.2.0",
            "_model_module": "@jupyter-widgets/controls"
          }
        },
        "db636ca1664b4102baf8a6925af54835": {
          "model_module": "@jupyter-widgets/base",
          "model_name": "LayoutModel",
          "state": {
            "_view_name": "LayoutView",
            "grid_template_rows": null,
            "right": null,
            "justify_content": null,
            "_view_module": "@jupyter-widgets/base",
            "overflow": null,
            "_model_module_version": "1.2.0",
            "_view_count": null,
            "flex_flow": null,
            "width": null,
            "min_width": null,
            "border": null,
            "align_items": null,
            "bottom": null,
            "_model_module": "@jupyter-widgets/base",
            "top": null,
            "grid_column": null,
            "overflow_y": null,
            "overflow_x": null,
            "grid_auto_flow": null,
            "grid_area": null,
            "grid_template_columns": null,
            "flex": null,
            "_model_name": "LayoutModel",
            "justify_items": null,
            "grid_row": null,
            "max_height": null,
            "align_content": null,
            "visibility": null,
            "align_self": null,
            "height": null,
            "min_height": null,
            "padding": null,
            "grid_auto_rows": null,
            "grid_gap": null,
            "max_width": null,
            "order": null,
            "_view_module_version": "1.2.0",
            "grid_template_areas": null,
            "object_position": null,
            "object_fit": null,
            "grid_auto_columns": null,
            "margin": null,
            "display": null,
            "left": null
          }
        },
        "dc0d5361f2934540b4d4d7a143548fa7": {
          "model_module": "@jupyter-widgets/controls",
          "model_name": "HBoxModel",
          "state": {
            "_view_name": "HBoxView",
            "_dom_classes": [],
            "_model_name": "HBoxModel",
            "_view_module": "@jupyter-widgets/controls",
            "_model_module_version": "1.5.0",
            "_view_count": null,
            "_view_module_version": "1.5.0",
            "box_style": "",
            "layout": "IPY_MODEL_053662054da6474db4f7814ad43fc800",
            "_model_module": "@jupyter-widgets/controls",
            "children": [
              "IPY_MODEL_564536a327f64784910dbcce212e1b0a",
              "IPY_MODEL_37943ba25f0b41b5baefe05374f9f64b"
            ]
          }
        },
        "053662054da6474db4f7814ad43fc800": {
          "model_module": "@jupyter-widgets/base",
          "model_name": "LayoutModel",
          "state": {
            "_view_name": "LayoutView",
            "grid_template_rows": null,
            "right": null,
            "justify_content": null,
            "_view_module": "@jupyter-widgets/base",
            "overflow": null,
            "_model_module_version": "1.2.0",
            "_view_count": null,
            "flex_flow": null,
            "width": null,
            "min_width": null,
            "border": null,
            "align_items": null,
            "bottom": null,
            "_model_module": "@jupyter-widgets/base",
            "top": null,
            "grid_column": null,
            "overflow_y": null,
            "overflow_x": null,
            "grid_auto_flow": null,
            "grid_area": null,
            "grid_template_columns": null,
            "flex": null,
            "_model_name": "LayoutModel",
            "justify_items": null,
            "grid_row": null,
            "max_height": null,
            "align_content": null,
            "visibility": null,
            "align_self": null,
            "height": null,
            "min_height": null,
            "padding": null,
            "grid_auto_rows": null,
            "grid_gap": null,
            "max_width": null,
            "order": null,
            "_view_module_version": "1.2.0",
            "grid_template_areas": null,
            "object_position": null,
            "object_fit": null,
            "grid_auto_columns": null,
            "margin": null,
            "display": null,
            "left": null
          }
        },
        "564536a327f64784910dbcce212e1b0a": {
          "model_module": "@jupyter-widgets/controls",
          "model_name": "FloatProgressModel",
          "state": {
            "_view_name": "ProgressView",
            "style": "IPY_MODEL_3b360e9346504d5eaf446d28f10f770d",
            "_dom_classes": [],
            "description": "",
            "_model_name": "FloatProgressModel",
            "bar_style": "success",
            "max": 1,
            "_view_module": "@jupyter-widgets/controls",
            "_model_module_version": "1.5.0",
            "value": 1,
            "_view_count": null,
            "_view_module_version": "1.5.0",
            "orientation": "horizontal",
            "min": 0,
            "description_tooltip": null,
            "_model_module": "@jupyter-widgets/controls",
            "layout": "IPY_MODEL_cb0bf8f4e9824ceca1da9f70976fb059"
          }
        },
        "37943ba25f0b41b5baefe05374f9f64b": {
          "model_module": "@jupyter-widgets/controls",
          "model_name": "HTMLModel",
          "state": {
            "_view_name": "HTMLView",
            "style": "IPY_MODEL_b1cb2ab00d3543f9a9d905d3310cc3ec",
            "_dom_classes": [],
            "description": "",
            "_model_name": "HTMLModel",
            "placeholder": "​",
            "_view_module": "@jupyter-widgets/controls",
            "_model_module_version": "1.5.0",
            "value": " 1654784/? [00:00&lt;00:00, 2327004.25it/s]",
            "_view_count": null,
            "_view_module_version": "1.5.0",
            "description_tooltip": null,
            "_model_module": "@jupyter-widgets/controls",
            "layout": "IPY_MODEL_e5919335e2aa4c29b202310079c5f41f"
          }
        },
        "3b360e9346504d5eaf446d28f10f770d": {
          "model_module": "@jupyter-widgets/controls",
          "model_name": "ProgressStyleModel",
          "state": {
            "_view_name": "StyleView",
            "_model_name": "ProgressStyleModel",
            "description_width": "initial",
            "_view_module": "@jupyter-widgets/base",
            "_model_module_version": "1.5.0",
            "_view_count": null,
            "_view_module_version": "1.2.0",
            "bar_color": null,
            "_model_module": "@jupyter-widgets/controls"
          }
        },
        "cb0bf8f4e9824ceca1da9f70976fb059": {
          "model_module": "@jupyter-widgets/base",
          "model_name": "LayoutModel",
          "state": {
            "_view_name": "LayoutView",
            "grid_template_rows": null,
            "right": null,
            "justify_content": null,
            "_view_module": "@jupyter-widgets/base",
            "overflow": null,
            "_model_module_version": "1.2.0",
            "_view_count": null,
            "flex_flow": null,
            "width": null,
            "min_width": null,
            "border": null,
            "align_items": null,
            "bottom": null,
            "_model_module": "@jupyter-widgets/base",
            "top": null,
            "grid_column": null,
            "overflow_y": null,
            "overflow_x": null,
            "grid_auto_flow": null,
            "grid_area": null,
            "grid_template_columns": null,
            "flex": null,
            "_model_name": "LayoutModel",
            "justify_items": null,
            "grid_row": null,
            "max_height": null,
            "align_content": null,
            "visibility": null,
            "align_self": null,
            "height": null,
            "min_height": null,
            "padding": null,
            "grid_auto_rows": null,
            "grid_gap": null,
            "max_width": null,
            "order": null,
            "_view_module_version": "1.2.0",
            "grid_template_areas": null,
            "object_position": null,
            "object_fit": null,
            "grid_auto_columns": null,
            "margin": null,
            "display": null,
            "left": null
          }
        },
        "b1cb2ab00d3543f9a9d905d3310cc3ec": {
          "model_module": "@jupyter-widgets/controls",
          "model_name": "DescriptionStyleModel",
          "state": {
            "_view_name": "StyleView",
            "_model_name": "DescriptionStyleModel",
            "description_width": "",
            "_view_module": "@jupyter-widgets/base",
            "_model_module_version": "1.5.0",
            "_view_count": null,
            "_view_module_version": "1.2.0",
            "_model_module": "@jupyter-widgets/controls"
          }
        },
        "e5919335e2aa4c29b202310079c5f41f": {
          "model_module": "@jupyter-widgets/base",
          "model_name": "LayoutModel",
          "state": {
            "_view_name": "LayoutView",
            "grid_template_rows": null,
            "right": null,
            "justify_content": null,
            "_view_module": "@jupyter-widgets/base",
            "overflow": null,
            "_model_module_version": "1.2.0",
            "_view_count": null,
            "flex_flow": null,
            "width": null,
            "min_width": null,
            "border": null,
            "align_items": null,
            "bottom": null,
            "_model_module": "@jupyter-widgets/base",
            "top": null,
            "grid_column": null,
            "overflow_y": null,
            "overflow_x": null,
            "grid_auto_flow": null,
            "grid_area": null,
            "grid_template_columns": null,
            "flex": null,
            "_model_name": "LayoutModel",
            "justify_items": null,
            "grid_row": null,
            "max_height": null,
            "align_content": null,
            "visibility": null,
            "align_self": null,
            "height": null,
            "min_height": null,
            "padding": null,
            "grid_auto_rows": null,
            "grid_gap": null,
            "max_width": null,
            "order": null,
            "_view_module_version": "1.2.0",
            "grid_template_areas": null,
            "object_position": null,
            "object_fit": null,
            "grid_auto_columns": null,
            "margin": null,
            "display": null,
            "left": null
          }
        },
        "2242a6f7b71b41888657ef569791fdbe": {
          "model_module": "@jupyter-widgets/controls",
          "model_name": "HBoxModel",
          "state": {
            "_view_name": "HBoxView",
            "_dom_classes": [],
            "_model_name": "HBoxModel",
            "_view_module": "@jupyter-widgets/controls",
            "_model_module_version": "1.5.0",
            "_view_count": null,
            "_view_module_version": "1.5.0",
            "box_style": "",
            "layout": "IPY_MODEL_b3774aefd3614094bead516a92db39f8",
            "_model_module": "@jupyter-widgets/controls",
            "children": [
              "IPY_MODEL_461480026c6c4ce99a3cdf458091d232",
              "IPY_MODEL_8e71bfa21a6a4922a38d92ec8d635433"
            ]
          }
        },
        "b3774aefd3614094bead516a92db39f8": {
          "model_module": "@jupyter-widgets/base",
          "model_name": "LayoutModel",
          "state": {
            "_view_name": "LayoutView",
            "grid_template_rows": null,
            "right": null,
            "justify_content": null,
            "_view_module": "@jupyter-widgets/base",
            "overflow": null,
            "_model_module_version": "1.2.0",
            "_view_count": null,
            "flex_flow": null,
            "width": null,
            "min_width": null,
            "border": null,
            "align_items": null,
            "bottom": null,
            "_model_module": "@jupyter-widgets/base",
            "top": null,
            "grid_column": null,
            "overflow_y": null,
            "overflow_x": null,
            "grid_auto_flow": null,
            "grid_area": null,
            "grid_template_columns": null,
            "flex": null,
            "_model_name": "LayoutModel",
            "justify_items": null,
            "grid_row": null,
            "max_height": null,
            "align_content": null,
            "visibility": null,
            "align_self": null,
            "height": null,
            "min_height": null,
            "padding": null,
            "grid_auto_rows": null,
            "grid_gap": null,
            "max_width": null,
            "order": null,
            "_view_module_version": "1.2.0",
            "grid_template_areas": null,
            "object_position": null,
            "object_fit": null,
            "grid_auto_columns": null,
            "margin": null,
            "display": null,
            "left": null
          }
        },
        "461480026c6c4ce99a3cdf458091d232": {
          "model_module": "@jupyter-widgets/controls",
          "model_name": "FloatProgressModel",
          "state": {
            "_view_name": "ProgressView",
            "style": "IPY_MODEL_8f1a9e7f6ae547638089da69f299ed53",
            "_dom_classes": [],
            "description": "  0%",
            "_model_name": "FloatProgressModel",
            "bar_style": "info",
            "max": 1,
            "_view_module": "@jupyter-widgets/controls",
            "_model_module_version": "1.5.0",
            "value": 0,
            "_view_count": null,
            "_view_module_version": "1.5.0",
            "orientation": "horizontal",
            "min": 0,
            "description_tooltip": null,
            "_model_module": "@jupyter-widgets/controls",
            "layout": "IPY_MODEL_caabe0fe4fe245a1b4f2afcb29ac0851"
          }
        },
        "8e71bfa21a6a4922a38d92ec8d635433": {
          "model_module": "@jupyter-widgets/controls",
          "model_name": "HTMLModel",
          "state": {
            "_view_name": "HTMLView",
            "style": "IPY_MODEL_62b4ae4cea3e44e1b095a3ebff622915",
            "_dom_classes": [],
            "description": "",
            "_model_name": "HTMLModel",
            "placeholder": "​",
            "_view_module": "@jupyter-widgets/controls",
            "_model_module_version": "1.5.0",
            "value": " 0/4542 [00:00&lt;?, ?it/s]",
            "_view_count": null,
            "_view_module_version": "1.5.0",
            "description_tooltip": null,
            "_model_module": "@jupyter-widgets/controls",
            "layout": "IPY_MODEL_8ce856380d56494284c79e231344a1b6"
          }
        },
        "8f1a9e7f6ae547638089da69f299ed53": {
          "model_module": "@jupyter-widgets/controls",
          "model_name": "ProgressStyleModel",
          "state": {
            "_view_name": "StyleView",
            "_model_name": "ProgressStyleModel",
            "description_width": "initial",
            "_view_module": "@jupyter-widgets/base",
            "_model_module_version": "1.5.0",
            "_view_count": null,
            "_view_module_version": "1.2.0",
            "bar_color": null,
            "_model_module": "@jupyter-widgets/controls"
          }
        },
        "caabe0fe4fe245a1b4f2afcb29ac0851": {
          "model_module": "@jupyter-widgets/base",
          "model_name": "LayoutModel",
          "state": {
            "_view_name": "LayoutView",
            "grid_template_rows": null,
            "right": null,
            "justify_content": null,
            "_view_module": "@jupyter-widgets/base",
            "overflow": null,
            "_model_module_version": "1.2.0",
            "_view_count": null,
            "flex_flow": null,
            "width": null,
            "min_width": null,
            "border": null,
            "align_items": null,
            "bottom": null,
            "_model_module": "@jupyter-widgets/base",
            "top": null,
            "grid_column": null,
            "overflow_y": null,
            "overflow_x": null,
            "grid_auto_flow": null,
            "grid_area": null,
            "grid_template_columns": null,
            "flex": null,
            "_model_name": "LayoutModel",
            "justify_items": null,
            "grid_row": null,
            "max_height": null,
            "align_content": null,
            "visibility": null,
            "align_self": null,
            "height": null,
            "min_height": null,
            "padding": null,
            "grid_auto_rows": null,
            "grid_gap": null,
            "max_width": null,
            "order": null,
            "_view_module_version": "1.2.0",
            "grid_template_areas": null,
            "object_position": null,
            "object_fit": null,
            "grid_auto_columns": null,
            "margin": null,
            "display": null,
            "left": null
          }
        },
        "62b4ae4cea3e44e1b095a3ebff622915": {
          "model_module": "@jupyter-widgets/controls",
          "model_name": "DescriptionStyleModel",
          "state": {
            "_view_name": "StyleView",
            "_model_name": "DescriptionStyleModel",
            "description_width": "",
            "_view_module": "@jupyter-widgets/base",
            "_model_module_version": "1.5.0",
            "_view_count": null,
            "_view_module_version": "1.2.0",
            "_model_module": "@jupyter-widgets/controls"
          }
        },
        "8ce856380d56494284c79e231344a1b6": {
          "model_module": "@jupyter-widgets/base",
          "model_name": "LayoutModel",
          "state": {
            "_view_name": "LayoutView",
            "grid_template_rows": null,
            "right": null,
            "justify_content": null,
            "_view_module": "@jupyter-widgets/base",
            "overflow": null,
            "_model_module_version": "1.2.0",
            "_view_count": null,
            "flex_flow": null,
            "width": null,
            "min_width": null,
            "border": null,
            "align_items": null,
            "bottom": null,
            "_model_module": "@jupyter-widgets/base",
            "top": null,
            "grid_column": null,
            "overflow_y": null,
            "overflow_x": null,
            "grid_auto_flow": null,
            "grid_area": null,
            "grid_template_columns": null,
            "flex": null,
            "_model_name": "LayoutModel",
            "justify_items": null,
            "grid_row": null,
            "max_height": null,
            "align_content": null,
            "visibility": null,
            "align_self": null,
            "height": null,
            "min_height": null,
            "padding": null,
            "grid_auto_rows": null,
            "grid_gap": null,
            "max_width": null,
            "order": null,
            "_view_module_version": "1.2.0",
            "grid_template_areas": null,
            "object_position": null,
            "object_fit": null,
            "grid_auto_columns": null,
            "margin": null,
            "display": null,
            "left": null
          }
        }
      }
    }
  },
  "cells": [
    {
      "cell_type": "markdown",
      "metadata": {
        "id": "view-in-github",
        "colab_type": "text"
      },
      "source": [
        "<a href=\"https://colab.research.google.com/github/VasundharaAgarwal/GANFingerprinting/blob/main/GAN_Training.ipynb\" target=\"_parent\"><img src=\"https://colab.research.google.com/assets/colab-badge.svg\" alt=\"Open In Colab\"/></a>"
      ]
    },
    {
      "cell_type": "code",
      "metadata": {
        "id": "qG9f8RfN2DLP"
      },
      "source": [
        "import torch\n",
        "import torchvision\n",
        "import torch.nn as nn\n",
        "import torch.nn.functional as F\n",
        "import torch.optim as optim\n",
        "import torchvision.utils as vutils\n",
        "import os\n",
        "import random\n",
        "import numpy as np\n",
        "import cv2\n",
        "import matplotlib.pyplot as plt\n",
        "import importlib"
      ],
      "execution_count": 1,
      "outputs": []
    },
    {
      "cell_type": "code",
      "metadata": {
        "id": "oNxIy5eXkBk1",
        "colab": {
          "base_uri": "https://localhost:8080/"
        },
        "outputId": "cb2788ec-2439-47f6-d0c9-234eb28b085d"
      },
      "source": [
        "from google.colab import drive\n",
        "drive.mount('/content/gdrive')"
      ],
      "execution_count": 2,
      "outputs": [
        {
          "output_type": "stream",
          "text": [
            "Mounted at /content/gdrive\n"
          ],
          "name": "stdout"
        }
      ]
    },
    {
      "cell_type": "code",
      "metadata": {
        "id": "6huGRlKBEhX3"
      },
      "source": [
        "import sys\n",
        "sys.path.append('/content/gdrive/My Drive/')"
      ],
      "execution_count": 4,
      "outputs": []
    },
    {
      "cell_type": "code",
      "metadata": {
        "id": "JCVSSruSEj5l"
      },
      "source": [
        "import model_architectures as ma\n"
      ],
      "execution_count": 5,
      "outputs": []
    },
    {
      "cell_type": "code",
      "metadata": {
        "id": "oATCvkf13G9K",
        "colab": {
          "base_uri": "https://localhost:8080/",
          "height": 403,
          "referenced_widgets": [
            "242f75f125b247719774d686fddaed83",
            "3ff5811d3c6b4ad9bb9d843e157c195c",
            "515cf652d82646be9f5d97a0ae262723",
            "6f6b4d7c06224ae2b36014b0d007d9bf",
            "98bb16f62fdd45418f7e1c152ebe7000",
            "ef2bcf1f3c11400f809cd1d35660d063",
            "0333a449418c4ade8ec3e446d93c3156",
            "c18604020d364f0882febf72aea354fc",
            "8d3d9a90f3c24cc9b255db513a235d72",
            "38220d1d764c4f8796929bf7c36e2a54",
            "d3ecd263ea96450eb82021d05812b980",
            "55cc093b1d974a7db84428b0b4d2b650",
            "33adfbbc89204a1db10285d1f58368a4",
            "ab867192c456435fb9b62f646162485a",
            "398c13617c564373bb981c581be3905d",
            "db636ca1664b4102baf8a6925af54835",
            "dc0d5361f2934540b4d4d7a143548fa7",
            "053662054da6474db4f7814ad43fc800",
            "564536a327f64784910dbcce212e1b0a",
            "37943ba25f0b41b5baefe05374f9f64b",
            "3b360e9346504d5eaf446d28f10f770d",
            "cb0bf8f4e9824ceca1da9f70976fb059",
            "b1cb2ab00d3543f9a9d905d3310cc3ec",
            "e5919335e2aa4c29b202310079c5f41f",
            "2242a6f7b71b41888657ef569791fdbe",
            "b3774aefd3614094bead516a92db39f8",
            "461480026c6c4ce99a3cdf458091d232",
            "8e71bfa21a6a4922a38d92ec8d635433",
            "8f1a9e7f6ae547638089da69f299ed53",
            "caabe0fe4fe245a1b4f2afcb29ac0851",
            "62b4ae4cea3e44e1b095a3ebff622915",
            "8ce856380d56494284c79e231344a1b6"
          ]
        },
        "outputId": "f5e24f31-3caa-4d93-ed30-0491236e75d5"
      },
      "source": [
        "#learning rate for optimizers\n",
        "lr = 0.0002\n",
        "batch_size = 256\n",
        "real_label = 1\n",
        "fake_label = 0\n",
        "num_epochs = 20\n",
        "ngpu = 1\n",
        "beta1 = 0.5\n",
        "manualSeed = 500\n",
        "\n",
        "torch.manual_seed(manualSeed)\n",
        "random.seed(manualSeed)\n",
        "np.random.seed(manualSeed)\n",
        "test_loader = torch.utils.data.DataLoader(torchvision.datasets.MNIST('/files/', train=False, download=True, transform=torchvision.transforms.ToTensor()), batch_size=batch_size)\n",
        "train_loader = torch.utils.data.DataLoader(torchvision.datasets.MNIST('/files/', train=True, download=True, transform=torchvision.transforms.ToTensor()), batch_size = batch_size)\n",
        "device = torch.device(\"cuda:0\" if (torch.cuda.is_available() and ngpu > 0) else \"cpu\")\n"
      ],
      "execution_count": null,
      "outputs": [
        {
          "output_type": "stream",
          "text": [
            "Downloading http://yann.lecun.com/exdb/mnist/train-images-idx3-ubyte.gz to /files/MNIST/raw/train-images-idx3-ubyte.gz\n"
          ],
          "name": "stdout"
        },
        {
          "output_type": "display_data",
          "data": {
            "application/vnd.jupyter.widget-view+json": {
              "model_id": "242f75f125b247719774d686fddaed83",
              "version_minor": 0,
              "version_major": 2
            },
            "text/plain": [
              "HBox(children=(FloatProgress(value=1.0, bar_style='info', max=1.0), HTML(value='')))"
            ]
          },
          "metadata": {
            "tags": []
          }
        },
        {
          "output_type": "stream",
          "text": [
            "Extracting /files/MNIST/raw/train-images-idx3-ubyte.gz to /files/MNIST/raw\n",
            "Downloading http://yann.lecun.com/exdb/mnist/train-labels-idx1-ubyte.gz to /files/MNIST/raw/train-labels-idx1-ubyte.gz\n"
          ],
          "name": "stdout"
        },
        {
          "output_type": "display_data",
          "data": {
            "application/vnd.jupyter.widget-view+json": {
              "model_id": "8d3d9a90f3c24cc9b255db513a235d72",
              "version_minor": 0,
              "version_major": 2
            },
            "text/plain": [
              "HBox(children=(FloatProgress(value=1.0, bar_style='info', max=1.0), HTML(value='')))"
            ]
          },
          "metadata": {
            "tags": []
          }
        },
        {
          "output_type": "stream",
          "text": [
            "Extracting /files/MNIST/raw/train-labels-idx1-ubyte.gz to /files/MNIST/raw\n",
            "Downloading http://yann.lecun.com/exdb/mnist/t10k-images-idx3-ubyte.gz to /files/MNIST/raw/t10k-images-idx3-ubyte.gz\n"
          ],
          "name": "stdout"
        },
        {
          "output_type": "display_data",
          "data": {
            "application/vnd.jupyter.widget-view+json": {
              "model_id": "dc0d5361f2934540b4d4d7a143548fa7",
              "version_minor": 0,
              "version_major": 2
            },
            "text/plain": [
              "HBox(children=(FloatProgress(value=1.0, bar_style='info', max=1.0), HTML(value='')))"
            ]
          },
          "metadata": {
            "tags": []
          }
        },
        {
          "output_type": "stream",
          "text": [
            "Extracting /files/MNIST/raw/t10k-images-idx3-ubyte.gz to /files/MNIST/raw\n",
            "Downloading http://yann.lecun.com/exdb/mnist/t10k-labels-idx1-ubyte.gz to /files/MNIST/raw/t10k-labels-idx1-ubyte.gz\n",
            "\n",
            "\n"
          ],
          "name": "stdout"
        },
        {
          "output_type": "display_data",
          "data": {
            "application/vnd.jupyter.widget-view+json": {
              "model_id": "2242a6f7b71b41888657ef569791fdbe",
              "version_minor": 0,
              "version_major": 2
            },
            "text/plain": [
              "HBox(children=(FloatProgress(value=1.0, bar_style='info', max=1.0), HTML(value='')))"
            ]
          },
          "metadata": {
            "tags": []
          }
        },
        {
          "output_type": "stream",
          "text": [
            "Extracting /files/MNIST/raw/t10k-labels-idx1-ubyte.gz to /files/MNIST/raw\n",
            "Processing...\n",
            "Done!\n"
          ],
          "name": "stdout"
        },
        {
          "output_type": "stream",
          "text": [
            "/usr/local/lib/python3.6/dist-packages/torchvision/datasets/mnist.py:480: UserWarning: The given NumPy array is not writeable, and PyTorch does not support non-writeable tensors. This means you can write to the underlying (supposedly non-writeable) NumPy array using the tensor. You may want to copy the array to protect its data or make it writeable before converting it to a tensor. This type of warning will be suppressed for the rest of this program. (Triggered internally at  /pytorch/torch/csrc/utils/tensor_numpy.cpp:141.)\n",
            "  return torch.from_numpy(parsed.astype(m[2], copy=False)).view(*s)\n"
          ],
          "name": "stderr"
        }
      ]
    },
    {
      "cell_type": "code",
      "metadata": {
        "id": "I4WcJ8cqvJB4"
      },
      "source": [
        "criterion = nn.BCELoss()\n",
        "\n",
        "#fixed noise used to visualize performance of GAN as it progresses through training\n",
        "fixed_noise = torch.randn(64, ma.nz, 1, 1, device=device)\n",
        "\n",
        "#establish convention for real and fake labels during training\n",
        "real_label = 1.\n",
        "fake_label = 0.\n",
        "\n"
      ],
      "execution_count": null,
      "outputs": []
    },
    {
      "cell_type": "code",
      "metadata": {
        "id": "potl6GT66i0X"
      },
      "source": [
        "#slightly edited the code at https://pytorch.org/tutorials/beginner/dcgan_faces_tutorial.html\n",
        "def trainGAN(num, netG, netD):\n",
        "  netG = netG.to(device)\n",
        "  netD = netD.to(device)\n",
        "  optimD = optim.Adam(netD.parameters(), lr=lr, betas=(beta1, 0.999))\n",
        "  optimG = optim.Adam(netG.parameters(), lr=lr, betas=(beta1, 0.999))\n",
        "  img_list = []\n",
        "  D_x_list = []\n",
        "  D_G_z1_list = []\n",
        "  D_G_z2_list = []\n",
        "  iters = 0\n",
        "  for epoch in range(num_epochs):\n",
        "      print(epoch)\n",
        "      # For each batch in the dataloader\n",
        "      for i, data in enumerate(train_loader, 0):\n",
        "\n",
        "          ############################\n",
        "          # (1) Update D network: maximize log(D(x)) + log(1 - D(G(z)))\n",
        "          ###########################\n",
        "          ## Train with all-real batch\n",
        "          netD.zero_grad()\n",
        "          # Format batch\n",
        "          real_cpu = data[0].to(device)\n",
        "          b_size = real_cpu.size(0)\n",
        "          label = torch.full((b_size,), real_label, dtype=torch.float, device=device)\n",
        "          # Forward pass real batch through D\n",
        "          output = netD(real_cpu).view(-1)\n",
        "          # Calculate loss on all-real batch\n",
        "          errD_real = criterion(output, label)\n",
        "          # Calculate gradients for D in backward pass\n",
        "          errD_real.backward()\n",
        "          D_x = output.mean().item()\n",
        "\n",
        "          ## Train with all-fake batch\n",
        "          # Generate batch of latent vectors\n",
        "          noise = torch.randn(b_size, ma.nz, 1, 1, device=device)\n",
        "          # Generate fake image batch with G\n",
        "          fake = netG(noise)\n",
        "          label.fill_(fake_label)\n",
        "          # Classify all fake batch with D\n",
        "          output = netD(fake.detach()).view(-1)\n",
        "          # Calculate D's loss on the all-fake batch\n",
        "          errD_fake = criterion(output, label)\n",
        "          # Calculate the gradients for this batch\n",
        "          errD_fake.backward()\n",
        "          D_G_z1 = output.mean().item()\n",
        "          # Add the gradients from the all-real and all-fake batches\n",
        "          errD = errD_real + errD_fake\n",
        "          # Update D\n",
        "          optimD.step()\n",
        "\n",
        "          ############################\n",
        "          # (2) Update G network: maximize log(D(G(z)))\n",
        "          ###########################\n",
        "          netG.zero_grad()\n",
        "          label.fill_(real_label)  # fake labels are real for generator cost\n",
        "          # Since we just updated D, perform another forward pass of all-fake batch through D\n",
        "          output = netD(fake).view(-1)\n",
        "          # Calculate G's loss based on this output\n",
        "          errG = criterion(output, label)\n",
        "          # Calculate gradients for G\n",
        "          errG.backward()\n",
        "          D_G_z2 = output.mean().item()\n",
        "          # Update G\n",
        "          optimG.step()\n",
        "\n",
        "          # Output training stats\n",
        "          if i % 50 == 0:\n",
        "              print('[%d/%d][%d/%d]\\tLoss_D: %.4f\\tLoss_G: %.4f\\tD(x): %.4f\\tD(G(z)): %.4f / %.4f'\n",
        "                    % (epoch, num_epochs, i, len(train_loader),\n",
        "                      errD.item(), errG.item(), D_x, D_G_z1, D_G_z2))\n",
        "\n",
        "          # Save Losses for plotting later\n",
        "          D_x_list.append(D_x)\n",
        "          D_G_z1_list.append(D_G_z1)\n",
        "          D_G_z2_list.append(D_G_z2)\n",
        "          # Check how the generator is doing by saving G's output on fixed_noise\n",
        "          if (iters % 500 == 0) or ((epoch == num_epochs-1) and (i == len(train_loader)-1)):\n",
        "              with torch.no_grad():\n",
        "                  fake = netG(fixed_noise).detach().cpu()\n",
        "              img_list.append(vutils.make_grid(fake, padding=2, normalize=True))\n",
        "          iters += 1\n",
        "\n",
        "  torch.save({\n",
        "            'G_state_dict': netG.state_dict(),\n",
        "            'D_state_dict': netD.state_dict(),\n",
        "            'optimG_state_dict': optimG.state_dict(),\n",
        "            'optimD_state_dict': optimD.state_dict(),\n",
        "            'img_list': img_list,\n",
        "            'D_x_list': D_x_list,\n",
        "            'D_G_z1_list' : D_G_z1_list,\n",
        "            'D_G_z2_list' : D_G_z2_list,\n",
        "            }, 'gdrive/My Drive/GANS/GAN_{}'.format(num))\n"
      ],
      "execution_count": null,
      "outputs": []
    },
    {
      "cell_type": "code",
      "metadata": {
        "id": "ih6aPY1eaYQ5",
        "colab": {
          "base_uri": "https://localhost:8080/"
        },
        "outputId": "b1e3a6e7-a7f9-405b-f31f-ae880d5bdcc6"
      },
      "source": [
        "trainGAN(1, ma.Generator1(ngpu), ma.Discriminator1(ngpu))\n",
        "\n"
      ],
      "execution_count": null,
      "outputs": [
        {
          "output_type": "stream",
          "text": [
            "0\n",
            "[0/20][0/235]\tLoss_D: 1.3809\tLoss_G: 0.6942\tD(x): 0.5125\tD(G(z)): 0.5094 / 0.4996\n",
            "[0/20][50/235]\tLoss_D: 0.7326\tLoss_G: 0.6963\tD(x): 0.9591\tD(G(z)): 0.4985 / 0.4984\n",
            "[0/20][100/235]\tLoss_D: 0.6934\tLoss_G: 0.7026\tD(x): 0.9906\tD(G(z)): 0.4954 / 0.4953\n",
            "[0/20][150/235]\tLoss_D: 0.6826\tLoss_G: 0.7084\tD(x): 0.9956\tD(G(z)): 0.4925 / 0.4924\n",
            "[0/20][200/235]\tLoss_D: 2.6008\tLoss_G: 0.7005\tD(x): 0.9651\tD(G(z)): 0.9193 / 0.5014\n",
            "1\n",
            "[1/20][0/235]\tLoss_D: 0.7170\tLoss_G: 0.7188\tD(x): 0.9543\tD(G(z)): 0.4878 / 0.4875\n",
            "[1/20][50/235]\tLoss_D: 0.8566\tLoss_G: 0.6456\tD(x): 0.9609\tD(G(z)): 0.5346 / 0.5328\n",
            "[1/20][100/235]\tLoss_D: 1.1351\tLoss_G: 0.5692\tD(x): 0.7932\tD(G(z)): 0.5833 / 0.5714\n",
            "[1/20][150/235]\tLoss_D: 1.6787\tLoss_G: 0.4365\tD(x): 0.7054\tD(G(z)): 0.7106 / 0.6538\n",
            "[1/20][200/235]\tLoss_D: 1.7186\tLoss_G: 0.4607\tD(x): 0.6549\tD(G(z)): 0.7065 / 0.6412\n",
            "2\n",
            "[2/20][0/235]\tLoss_D: 1.1615\tLoss_G: 0.5994\tD(x): 0.7397\tD(G(z)): 0.5603 / 0.5571\n",
            "[2/20][50/235]\tLoss_D: 1.4045\tLoss_G: 0.7127\tD(x): 0.5036\tD(G(z)): 0.5028 / 0.4948\n",
            "[2/20][100/235]\tLoss_D: 1.3763\tLoss_G: 0.6655\tD(x): 0.5356\tD(G(z)): 0.5241 / 0.5161\n",
            "[2/20][150/235]\tLoss_D: 1.3358\tLoss_G: 0.6780\tD(x): 0.5456\tD(G(z)): 0.5145 / 0.5093\n",
            "[2/20][200/235]\tLoss_D: 1.3314\tLoss_G: 0.7510\tD(x): 0.5153\tD(G(z)): 0.4844 / 0.4731\n",
            "3\n",
            "[3/20][0/235]\tLoss_D: 1.3739\tLoss_G: 0.5642\tD(x): 0.5999\tD(G(z)): 0.5746 / 0.5705\n",
            "[3/20][50/235]\tLoss_D: 1.3619\tLoss_G: 0.7402\tD(x): 0.5410\tD(G(z)): 0.5221 / 0.4794\n",
            "[3/20][100/235]\tLoss_D: 1.3328\tLoss_G: 0.7431\tD(x): 0.5105\tD(G(z)): 0.4813 / 0.4765\n",
            "[3/20][150/235]\tLoss_D: 1.3699\tLoss_G: 0.6772\tD(x): 0.5284\tD(G(z)): 0.5151 / 0.5100\n",
            "[3/20][200/235]\tLoss_D: 1.4114\tLoss_G: 0.6938\tD(x): 0.4956\tD(G(z)): 0.5045 / 0.5015\n",
            "4\n",
            "[4/20][0/235]\tLoss_D: 1.3658\tLoss_G: 0.7090\tD(x): 0.5157\tD(G(z)): 0.5016 / 0.4941\n",
            "[4/20][50/235]\tLoss_D: 1.3785\tLoss_G: 0.6691\tD(x): 0.5213\tD(G(z)): 0.5128 / 0.5138\n",
            "[4/20][100/235]\tLoss_D: 1.3796\tLoss_G: 0.6827\tD(x): 0.5185\tD(G(z)): 0.5116 / 0.5069\n",
            "[4/20][150/235]\tLoss_D: 1.3772\tLoss_G: 0.6899\tD(x): 0.5295\tD(G(z)): 0.5194 / 0.5037\n",
            "[4/20][200/235]\tLoss_D: 1.4040\tLoss_G: 0.7056\tD(x): 0.4961\tD(G(z)): 0.5014 / 0.4956\n",
            "5\n",
            "[5/20][0/235]\tLoss_D: 1.4001\tLoss_G: 0.6570\tD(x): 0.5269\tD(G(z)): 0.5281 / 0.5205\n",
            "[5/20][50/235]\tLoss_D: 1.3703\tLoss_G: 0.6795\tD(x): 0.5249\tD(G(z)): 0.5127 / 0.5083\n",
            "[5/20][100/235]\tLoss_D: 1.3524\tLoss_G: 0.7016\tD(x): 0.5257\tD(G(z)): 0.5050 / 0.4975\n",
            "[5/20][150/235]\tLoss_D: 1.3921\tLoss_G: 0.6961\tD(x): 0.5106\tD(G(z)): 0.5103 / 0.5000\n",
            "[5/20][200/235]\tLoss_D: 1.3833\tLoss_G: 0.7134\tD(x): 0.4952\tD(G(z)): 0.4909 / 0.4909\n",
            "6\n",
            "[6/20][0/235]\tLoss_D: 1.3849\tLoss_G: 0.6750\tD(x): 0.5162\tD(G(z)): 0.5121 / 0.5104\n",
            "[6/20][50/235]\tLoss_D: 1.3799\tLoss_G: 0.6900\tD(x): 0.5115\tD(G(z)): 0.5059 / 0.5024\n",
            "[6/20][100/235]\tLoss_D: 1.3598\tLoss_G: 0.6883\tD(x): 0.5183\tD(G(z)): 0.5025 / 0.5033\n",
            "[6/20][150/235]\tLoss_D: 1.3641\tLoss_G: 0.6848\tD(x): 0.5192\tD(G(z)): 0.5057 / 0.5052\n",
            "[6/20][200/235]\tLoss_D: 1.3794\tLoss_G: 0.6708\tD(x): 0.5147\tD(G(z)): 0.5087 / 0.5123\n",
            "7\n",
            "[7/20][0/235]\tLoss_D: 1.3559\tLoss_G: 0.6952\tD(x): 0.5222\tD(G(z)): 0.5042 / 0.5002\n",
            "[7/20][50/235]\tLoss_D: 1.3797\tLoss_G: 0.7020\tD(x): 0.5070\tD(G(z)): 0.5010 / 0.4968\n",
            "[7/20][100/235]\tLoss_D: 1.3824\tLoss_G: 0.6998\tD(x): 0.4962\tD(G(z)): 0.4922 / 0.4978\n",
            "[7/20][150/235]\tLoss_D: 1.3703\tLoss_G: 0.7070\tD(x): 0.5115\tD(G(z)): 0.5015 / 0.4939\n",
            "[7/20][200/235]\tLoss_D: 1.3853\tLoss_G: 0.6807\tD(x): 0.5104\tD(G(z)): 0.5078 / 0.5072\n",
            "8\n",
            "[8/20][0/235]\tLoss_D: 1.3670\tLoss_G: 0.6866\tD(x): 0.5191\tD(G(z)): 0.5071 / 0.5042\n",
            "[8/20][50/235]\tLoss_D: 1.3701\tLoss_G: 0.6735\tD(x): 0.5210\tD(G(z)): 0.5104 / 0.5109\n",
            "[8/20][100/235]\tLoss_D: 1.3555\tLoss_G: 0.6819\tD(x): 0.5236\tD(G(z)): 0.5053 / 0.5065\n",
            "[8/20][150/235]\tLoss_D: 1.3775\tLoss_G: 0.7187\tD(x): 0.5081\tD(G(z)): 0.5015 / 0.4884\n",
            "[8/20][200/235]\tLoss_D: 1.3690\tLoss_G: 0.6885\tD(x): 0.5121\tD(G(z)): 0.5009 / 0.5034\n",
            "9\n",
            "[9/20][0/235]\tLoss_D: 1.3716\tLoss_G: 0.7144\tD(x): 0.5107\tD(G(z)): 0.5007 / 0.4906\n",
            "[9/20][50/235]\tLoss_D: 1.3764\tLoss_G: 0.7044\tD(x): 0.5124\tD(G(z)): 0.5045 / 0.4956\n",
            "[9/20][100/235]\tLoss_D: 1.3649\tLoss_G: 0.7000\tD(x): 0.5095\tD(G(z)): 0.4964 / 0.4976\n",
            "[9/20][150/235]\tLoss_D: 1.3749\tLoss_G: 0.7273\tD(x): 0.4958\tD(G(z)): 0.4869 / 0.4845\n",
            "[9/20][200/235]\tLoss_D: 1.3865\tLoss_G: 0.7098\tD(x): 0.5067\tD(G(z)): 0.5037 / 0.4932\n",
            "10\n",
            "[10/20][0/235]\tLoss_D: 1.3790\tLoss_G: 0.6907\tD(x): 0.5151\tD(G(z)): 0.5084 / 0.5025\n",
            "[10/20][50/235]\tLoss_D: 1.3682\tLoss_G: 0.6753\tD(x): 0.5307\tD(G(z)): 0.5178 / 0.5103\n",
            "[10/20][100/235]\tLoss_D: 1.3678\tLoss_G: 0.6754\tD(x): 0.5191\tD(G(z)): 0.5061 / 0.5102\n",
            "[10/20][150/235]\tLoss_D: 1.3268\tLoss_G: 0.7102\tD(x): 0.5198\tD(G(z)): 0.4863 / 0.4931\n",
            "[10/20][200/235]\tLoss_D: 1.3967\tLoss_G: 0.6657\tD(x): 0.5159\tD(G(z)): 0.5173 / 0.5155\n",
            "11\n",
            "[11/20][0/235]\tLoss_D: 1.3764\tLoss_G: 0.6965\tD(x): 0.5175\tD(G(z)): 0.5089 / 0.5002\n",
            "[11/20][50/235]\tLoss_D: 1.3841\tLoss_G: 0.7187\tD(x): 0.4970\tD(G(z)): 0.4926 / 0.4888\n",
            "[11/20][100/235]\tLoss_D: 1.3430\tLoss_G: 0.6744\tD(x): 0.5257\tD(G(z)): 0.5000 / 0.5107\n",
            "[11/20][150/235]\tLoss_D: 1.3560\tLoss_G: 0.7248\tD(x): 0.5087\tD(G(z)): 0.4906 / 0.4859\n",
            "[11/20][200/235]\tLoss_D: 1.3731\tLoss_G: 0.6745\tD(x): 0.5251\tD(G(z)): 0.5142 / 0.5108\n",
            "12\n",
            "[12/20][0/235]\tLoss_D: 1.3685\tLoss_G: 0.7210\tD(x): 0.5071\tD(G(z)): 0.4952 / 0.4880\n",
            "[12/20][50/235]\tLoss_D: 1.3906\tLoss_G: 0.7001\tD(x): 0.4948\tD(G(z)): 0.4940 / 0.4978\n",
            "[12/20][100/235]\tLoss_D: 1.3684\tLoss_G: 0.7204\tD(x): 0.5090\tD(G(z)): 0.4971 / 0.4880\n",
            "[12/20][150/235]\tLoss_D: 1.3725\tLoss_G: 0.7023\tD(x): 0.5107\tD(G(z)): 0.5003 / 0.4970\n",
            "[12/20][200/235]\tLoss_D: 1.3829\tLoss_G: 0.6834\tD(x): 0.5093\tD(G(z)): 0.5042 / 0.5065\n",
            "13\n",
            "[13/20][0/235]\tLoss_D: 1.3808\tLoss_G: 0.6867\tD(x): 0.5161\tD(G(z)): 0.5101 / 0.5049\n",
            "[13/20][50/235]\tLoss_D: 1.3736\tLoss_G: 0.7083\tD(x): 0.4994\tD(G(z)): 0.4899 / 0.4938\n",
            "[13/20][100/235]\tLoss_D: 1.3639\tLoss_G: 0.7127\tD(x): 0.5050\tD(G(z)): 0.4901 / 0.4920\n",
            "[13/20][150/235]\tLoss_D: 1.3608\tLoss_G: 0.7444\tD(x): 0.4986\tD(G(z)): 0.4820 / 0.4764\n",
            "[13/20][200/235]\tLoss_D: 1.3752\tLoss_G: 0.7158\tD(x): 0.5035\tD(G(z)): 0.4942 / 0.4902\n",
            "14\n",
            "[14/20][0/235]\tLoss_D: 1.3756\tLoss_G: 0.6914\tD(x): 0.5129\tD(G(z)): 0.5036 / 0.5025\n",
            "[14/20][50/235]\tLoss_D: 1.3767\tLoss_G: 0.7290\tD(x): 0.4864\tD(G(z)): 0.4780 / 0.4838\n",
            "[14/20][100/235]\tLoss_D: 1.3752\tLoss_G: 0.7174\tD(x): 0.5191\tD(G(z)): 0.5098 / 0.4898\n",
            "[14/20][150/235]\tLoss_D: 1.3505\tLoss_G: 0.7451\tD(x): 0.4994\tD(G(z)): 0.4775 / 0.4762\n",
            "[14/20][200/235]\tLoss_D: 1.3644\tLoss_G: 0.7034\tD(x): 0.5122\tD(G(z)): 0.4970 / 0.4966\n",
            "15\n",
            "[15/20][0/235]\tLoss_D: 1.3597\tLoss_G: 0.7134\tD(x): 0.5128\tD(G(z)): 0.4960 / 0.4915\n",
            "[15/20][50/235]\tLoss_D: 1.3855\tLoss_G: 0.7045\tD(x): 0.4940\tD(G(z)): 0.4901 / 0.4962\n",
            "[15/20][100/235]\tLoss_D: 1.3700\tLoss_G: 0.7681\tD(x): 0.4998\tD(G(z)): 0.4879 / 0.4657\n",
            "[15/20][150/235]\tLoss_D: 1.3849\tLoss_G: 0.7466\tD(x): 0.4910\tD(G(z)): 0.4863 / 0.4755\n",
            "[15/20][200/235]\tLoss_D: 1.3650\tLoss_G: 0.6681\tD(x): 0.5255\tD(G(z)): 0.5107 / 0.5144\n",
            "16\n",
            "[16/20][0/235]\tLoss_D: 1.3789\tLoss_G: 0.7077\tD(x): 0.5146\tD(G(z)): 0.5068 / 0.4945\n",
            "[16/20][50/235]\tLoss_D: 1.3857\tLoss_G: 0.7173\tD(x): 0.4888\tD(G(z)): 0.4850 / 0.4896\n",
            "[16/20][100/235]\tLoss_D: 1.3684\tLoss_G: 0.6661\tD(x): 0.5321\tD(G(z)): 0.5184 / 0.5153\n",
            "[16/20][150/235]\tLoss_D: 1.3642\tLoss_G: 0.7597\tD(x): 0.4984\tD(G(z)): 0.4835 / 0.4696\n",
            "[16/20][200/235]\tLoss_D: 1.3650\tLoss_G: 0.6927\tD(x): 0.5135\tD(G(z)): 0.4990 / 0.5018\n",
            "17\n",
            "[17/20][0/235]\tLoss_D: 1.3645\tLoss_G: 0.7182\tD(x): 0.5101\tD(G(z)): 0.4955 / 0.4892\n",
            "[17/20][50/235]\tLoss_D: 1.3657\tLoss_G: 0.7475\tD(x): 0.5107\tD(G(z)): 0.4965 / 0.4753\n",
            "[17/20][100/235]\tLoss_D: 1.3681\tLoss_G: 0.6750\tD(x): 0.5323\tD(G(z)): 0.5183 / 0.5108\n",
            "[17/20][150/235]\tLoss_D: 1.3658\tLoss_G: 0.7619\tD(x): 0.4892\tD(G(z)): 0.4746 / 0.4688\n",
            "[17/20][200/235]\tLoss_D: 1.3757\tLoss_G: 0.6842\tD(x): 0.5107\tD(G(z)): 0.5016 / 0.5058\n",
            "18\n",
            "[18/20][0/235]\tLoss_D: 1.3849\tLoss_G: 0.6759\tD(x): 0.5319\tD(G(z)): 0.5258 / 0.5106\n",
            "[18/20][50/235]\tLoss_D: 1.3734\tLoss_G: 0.7467\tD(x): 0.4898\tD(G(z)): 0.4792 / 0.4760\n",
            "[18/20][100/235]\tLoss_D: 1.3705\tLoss_G: 0.6933\tD(x): 0.5160\tD(G(z)): 0.5040 / 0.5016\n",
            "[18/20][150/235]\tLoss_D: 1.3695\tLoss_G: 0.7426\tD(x): 0.4935\tD(G(z)): 0.4808 / 0.4777\n",
            "[18/20][200/235]\tLoss_D: 1.3763\tLoss_G: 0.6645\tD(x): 0.5173\tD(G(z)): 0.5085 / 0.5163\n",
            "19\n",
            "[19/20][0/235]\tLoss_D: 1.3759\tLoss_G: 0.6818\tD(x): 0.5266\tD(G(z)): 0.5164 / 0.5077\n",
            "[19/20][50/235]\tLoss_D: 1.3852\tLoss_G: 0.7261\tD(x): 0.5065\tD(G(z)): 0.5018 / 0.4860\n",
            "[19/20][100/235]\tLoss_D: 1.3693\tLoss_G: 0.6876\tD(x): 0.5116\tD(G(z)): 0.4985 / 0.5048\n",
            "[19/20][150/235]\tLoss_D: 1.3580\tLoss_G: 0.7452\tD(x): 0.4997\tD(G(z)): 0.4817 / 0.4765\n",
            "[19/20][200/235]\tLoss_D: 1.3693\tLoss_G: 0.6821\tD(x): 0.5234\tD(G(z)): 0.5110 / 0.5071\n"
          ],
          "name": "stdout"
        }
      ]
    },
    {
      "cell_type": "code",
      "metadata": {
        "colab": {
          "base_uri": "https://localhost:8080/"
        },
        "id": "tEuI842JBM69",
        "outputId": "b6b07b2e-a465-42cc-8009-d858690afd2a"
      },
      "source": [
        "trainGAN(2,  ma.Generator2(ngpu), ma.Discriminator2(ngpu))"
      ],
      "execution_count": null,
      "outputs": [
        {
          "output_type": "stream",
          "text": [
            "0\n",
            "[0/20][0/235]\tLoss_D: 1.3714\tLoss_G: 0.7353\tD(x): 0.5030\tD(G(z)): 0.4952 / 0.4795\n",
            "[0/20][50/235]\tLoss_D: 0.7037\tLoss_G: 0.6937\tD(x): 0.9892\tD(G(z)): 0.4998 / 0.4997\n",
            "[0/20][100/235]\tLoss_D: 0.6909\tLoss_G: 0.6992\tD(x): 0.9964\tD(G(z)): 0.4970 / 0.4970\n",
            "[0/20][150/235]\tLoss_D: 0.7727\tLoss_G: 0.6718\tD(x): 0.9967\tD(G(z)): 0.5211 / 0.5147\n",
            "[0/20][200/235]\tLoss_D: 1.4039\tLoss_G: 0.5619\tD(x): 0.5752\tD(G(z)): 0.5638 / 0.5751\n",
            "1\n",
            "[1/20][0/235]\tLoss_D: 1.1573\tLoss_G: 0.7035\tD(x): 0.6108\tD(G(z)): 0.4822 / 0.4959\n",
            "[1/20][50/235]\tLoss_D: 1.3220\tLoss_G: 0.6519\tD(x): 0.5781\tD(G(z)): 0.5311 / 0.5248\n",
            "[1/20][100/235]\tLoss_D: 1.3750\tLoss_G: 0.6589\tD(x): 0.5579\tD(G(z)): 0.5409 / 0.5203\n",
            "[1/20][150/235]\tLoss_D: 1.3386\tLoss_G: 0.6799\tD(x): 0.5240\tD(G(z)): 0.4909 / 0.5106\n",
            "[1/20][200/235]\tLoss_D: 1.3967\tLoss_G: 0.5827\tD(x): 0.5433\tD(G(z)): 0.5406 / 0.5593\n",
            "2\n",
            "[2/20][0/235]\tLoss_D: 1.3515\tLoss_G: 0.7430\tD(x): 0.5238\tD(G(z)): 0.5024 / 0.4775\n",
            "[2/20][50/235]\tLoss_D: 1.3970\tLoss_G: 0.6484\tD(x): 0.5502\tD(G(z)): 0.5474 / 0.5241\n",
            "[2/20][100/235]\tLoss_D: 1.3978\tLoss_G: 0.6710\tD(x): 0.4995\tD(G(z)): 0.5025 / 0.5120\n",
            "[2/20][150/235]\tLoss_D: 1.3787\tLoss_G: 0.6983\tD(x): 0.5053\tD(G(z)): 0.4996 / 0.4982\n",
            "[2/20][200/235]\tLoss_D: 1.3674\tLoss_G: 0.6978\tD(x): 0.5082\tD(G(z)): 0.4968 / 0.4984\n",
            "3\n",
            "[3/20][0/235]\tLoss_D: 1.3927\tLoss_G: 0.6671\tD(x): 0.5338\tD(G(z)): 0.5329 / 0.5141\n",
            "[3/20][50/235]\tLoss_D: 1.3788\tLoss_G: 0.6455\tD(x): 0.5292\tD(G(z)): 0.5225 / 0.5250\n",
            "[3/20][100/235]\tLoss_D: 1.3795\tLoss_G: 0.6794\tD(x): 0.5170\tD(G(z)): 0.5117 / 0.5076\n",
            "[3/20][150/235]\tLoss_D: 1.3656\tLoss_G: 0.6248\tD(x): 0.5212\tD(G(z)): 0.5079 / 0.5363\n",
            "[3/20][200/235]\tLoss_D: 1.3822\tLoss_G: 0.6606\tD(x): 0.5100\tD(G(z)): 0.5049 / 0.5175\n",
            "4\n",
            "[4/20][0/235]\tLoss_D: 1.3461\tLoss_G: 0.6921\tD(x): 0.5421\tD(G(z)): 0.5186 / 0.5012\n",
            "[4/20][50/235]\tLoss_D: 1.3754\tLoss_G: 0.6286\tD(x): 0.5697\tD(G(z)): 0.5546 / 0.5340\n",
            "[4/20][100/235]\tLoss_D: 1.3487\tLoss_G: 0.6896\tD(x): 0.5387\tD(G(z)): 0.5163 / 0.5025\n",
            "[4/20][150/235]\tLoss_D: 1.3370\tLoss_G: 0.6780\tD(x): 0.5277\tD(G(z)): 0.4997 / 0.5087\n",
            "[4/20][200/235]\tLoss_D: 1.3585\tLoss_G: 0.6682\tD(x): 0.5537\tD(G(z)): 0.5321 / 0.5139\n",
            "5\n",
            "[5/20][0/235]\tLoss_D: 1.3503\tLoss_G: 0.7332\tD(x): 0.5193\tD(G(z)): 0.4983 / 0.4816\n",
            "[5/20][50/235]\tLoss_D: 1.3618\tLoss_G: 0.7079\tD(x): 0.5031\tD(G(z)): 0.4875 / 0.4942\n",
            "[5/20][100/235]\tLoss_D: 1.3553\tLoss_G: 0.6927\tD(x): 0.5350\tD(G(z)): 0.5156 / 0.5014\n",
            "[5/20][150/235]\tLoss_D: 1.3545\tLoss_G: 0.6668\tD(x): 0.5338\tD(G(z)): 0.5139 / 0.5146\n",
            "[5/20][200/235]\tLoss_D: 1.3764\tLoss_G: 0.6761\tD(x): 0.5283\tD(G(z)): 0.5188 / 0.5102\n",
            "6\n",
            "[6/20][0/235]\tLoss_D: 1.3689\tLoss_G: 0.7956\tD(x): 0.4632\tD(G(z)): 0.4478 / 0.4527\n",
            "[6/20][50/235]\tLoss_D: 1.3587\tLoss_G: 0.7315\tD(x): 0.5208\tD(G(z)): 0.5036 / 0.4826\n",
            "[6/20][100/235]\tLoss_D: 1.3492\tLoss_G: 0.6733\tD(x): 0.5514\tD(G(z)): 0.5272 / 0.5112\n",
            "[6/20][150/235]\tLoss_D: 1.3526\tLoss_G: 0.7142\tD(x): 0.5154\tD(G(z)): 0.4954 / 0.4909\n",
            "[6/20][200/235]\tLoss_D: 1.3643\tLoss_G: 0.7299\tD(x): 0.5202\tD(G(z)): 0.5051 / 0.4836\n",
            "7\n",
            "[7/20][0/235]\tLoss_D: 1.3660\tLoss_G: 0.7315\tD(x): 0.4609\tD(G(z)): 0.4427 / 0.4829\n",
            "[7/20][50/235]\tLoss_D: 1.3604\tLoss_G: 0.6947\tD(x): 0.5339\tD(G(z)): 0.5160 / 0.5008\n",
            "[7/20][100/235]\tLoss_D: 1.3542\tLoss_G: 0.7121\tD(x): 0.5323\tD(G(z)): 0.5121 / 0.4924\n",
            "[7/20][150/235]\tLoss_D: 1.3328\tLoss_G: 0.6610\tD(x): 0.5602\tD(G(z)): 0.5251 / 0.5182\n",
            "[7/20][200/235]\tLoss_D: 1.3655\tLoss_G: 0.6998\tD(x): 0.5000\tD(G(z)): 0.4849 / 0.4985\n",
            "8\n",
            "[8/20][0/235]\tLoss_D: 1.3302\tLoss_G: 0.7010\tD(x): 0.4934\tD(G(z)): 0.4585 / 0.4983\n",
            "[8/20][50/235]\tLoss_D: 1.3437\tLoss_G: 0.6423\tD(x): 0.5368\tD(G(z)): 0.5092 / 0.5284\n",
            "[8/20][100/235]\tLoss_D: 1.3401\tLoss_G: 0.7648\tD(x): 0.5466\tD(G(z)): 0.5163 / 0.4677\n",
            "[8/20][150/235]\tLoss_D: 1.3470\tLoss_G: 0.6879\tD(x): 0.5601\tD(G(z)): 0.5307 / 0.5048\n",
            "[8/20][200/235]\tLoss_D: 1.3420\tLoss_G: 0.7626\tD(x): 0.5370\tD(G(z)): 0.5071 / 0.4693\n",
            "9\n",
            "[9/20][0/235]\tLoss_D: 1.3496\tLoss_G: 0.7167\tD(x): 0.4909\tD(G(z)): 0.4644 / 0.4917\n",
            "[9/20][50/235]\tLoss_D: 1.3457\tLoss_G: 0.7017\tD(x): 0.5381\tD(G(z)): 0.5104 / 0.4985\n",
            "[9/20][100/235]\tLoss_D: 1.3483\tLoss_G: 0.6691\tD(x): 0.5293\tD(G(z)): 0.5036 / 0.5146\n",
            "[9/20][150/235]\tLoss_D: 1.3406\tLoss_G: 0.7129\tD(x): 0.5464\tD(G(z)): 0.5138 / 0.4936\n",
            "[9/20][200/235]\tLoss_D: 1.3477\tLoss_G: 0.6914\tD(x): 0.5140\tD(G(z)): 0.4862 / 0.5041\n",
            "10\n",
            "[10/20][0/235]\tLoss_D: 1.3205\tLoss_G: 0.7770\tD(x): 0.5265\tD(G(z)): 0.4851 / 0.4634\n",
            "[10/20][50/235]\tLoss_D: 1.3572\tLoss_G: 0.7827\tD(x): 0.5044\tD(G(z)): 0.4814 / 0.4606\n",
            "[10/20][100/235]\tLoss_D: 1.3287\tLoss_G: 0.6960\tD(x): 0.5440\tD(G(z)): 0.5066 / 0.5020\n",
            "[10/20][150/235]\tLoss_D: 1.3369\tLoss_G: 0.7176\tD(x): 0.5450\tD(G(z)): 0.5104 / 0.4912\n",
            "[10/20][200/235]\tLoss_D: 1.3386\tLoss_G: 0.7024\tD(x): 0.5092\tD(G(z)): 0.4769 / 0.4989\n",
            "11\n",
            "[11/20][0/235]\tLoss_D: 1.3405\tLoss_G: 0.7548\tD(x): 0.4676\tD(G(z)): 0.4307 / 0.4744\n",
            "[11/20][50/235]\tLoss_D: 1.3333\tLoss_G: 0.7691\tD(x): 0.4994\tD(G(z)): 0.4629 / 0.4683\n",
            "[11/20][100/235]\tLoss_D: 1.3493\tLoss_G: 0.7224\tD(x): 0.5417\tD(G(z)): 0.5129 / 0.4891\n",
            "[11/20][150/235]\tLoss_D: 1.3297\tLoss_G: 0.6951\tD(x): 0.5446\tD(G(z)): 0.5056 / 0.5028\n",
            "[11/20][200/235]\tLoss_D: 1.3472\tLoss_G: 0.6349\tD(x): 0.5187\tD(G(z)): 0.4886 / 0.5337\n",
            "12\n",
            "[12/20][0/235]\tLoss_D: 1.3186\tLoss_G: 0.7015\tD(x): 0.5060\tD(G(z)): 0.4608 / 0.5005\n",
            "[12/20][50/235]\tLoss_D: 1.3162\tLoss_G: 0.7408\tD(x): 0.5225\tD(G(z)): 0.4783 / 0.4819\n",
            "[12/20][100/235]\tLoss_D: 1.3452\tLoss_G: 0.6889\tD(x): 0.5622\tD(G(z)): 0.5281 / 0.5063\n",
            "[12/20][150/235]\tLoss_D: 1.3068\tLoss_G: 0.7119\tD(x): 0.5672\tD(G(z)): 0.5137 / 0.4950\n",
            "[12/20][200/235]\tLoss_D: 1.3371\tLoss_G: 0.6522\tD(x): 0.5165\tD(G(z)): 0.4807 / 0.5255\n",
            "13\n",
            "[13/20][0/235]\tLoss_D: 1.3487\tLoss_G: 0.7667\tD(x): 0.5086\tD(G(z)): 0.4771 / 0.4702\n",
            "[13/20][50/235]\tLoss_D: 1.3495\tLoss_G: 0.6894\tD(x): 0.5170\tD(G(z)): 0.4885 / 0.5060\n",
            "[13/20][100/235]\tLoss_D: 1.3391\tLoss_G: 0.7375\tD(x): 0.5330\tD(G(z)): 0.4989 / 0.4831\n",
            "[13/20][150/235]\tLoss_D: 1.3228\tLoss_G: 0.7086\tD(x): 0.5707\tD(G(z)): 0.5233 / 0.4973\n",
            "[13/20][200/235]\tLoss_D: 1.3435\tLoss_G: 0.6963\tD(x): 0.5479\tD(G(z)): 0.5133 / 0.5027\n",
            "14\n",
            "[14/20][0/235]\tLoss_D: 1.3317\tLoss_G: 0.7168\tD(x): 0.4758\tD(G(z)): 0.4333 / 0.4936\n",
            "[14/20][50/235]\tLoss_D: 1.3467\tLoss_G: 0.7161\tD(x): 0.5230\tD(G(z)): 0.4923 / 0.4932\n",
            "[14/20][100/235]\tLoss_D: 1.3125\tLoss_G: 0.7036\tD(x): 0.5426\tD(G(z)): 0.4946 / 0.4985\n",
            "[14/20][150/235]\tLoss_D: 1.3026\tLoss_G: 0.7048\tD(x): 0.5520\tD(G(z)): 0.4979 / 0.4996\n",
            "[14/20][200/235]\tLoss_D: 1.3410\tLoss_G: 0.6241\tD(x): 0.5705\tD(G(z)): 0.5306 / 0.5404\n",
            "15\n",
            "[15/20][0/235]\tLoss_D: 1.3097\tLoss_G: 0.7205\tD(x): 0.5265\tD(G(z)): 0.4752 / 0.4929\n",
            "[15/20][50/235]\tLoss_D: 1.3547\tLoss_G: 0.7373\tD(x): 0.5295\tD(G(z)): 0.5026 / 0.4834\n",
            "[15/20][100/235]\tLoss_D: 1.2971\tLoss_G: 0.7319\tD(x): 0.5527\tD(G(z)): 0.4960 / 0.4863\n",
            "[15/20][150/235]\tLoss_D: 1.2804\tLoss_G: 0.6913\tD(x): 0.5678\tD(G(z)): 0.5004 / 0.5059\n",
            "[15/20][200/235]\tLoss_D: 1.3532\tLoss_G: 0.7804\tD(x): 0.5469\tD(G(z)): 0.5146 / 0.4636\n",
            "16\n",
            "[16/20][0/235]\tLoss_D: 1.2947\tLoss_G: 0.7510\tD(x): 0.5196\tD(G(z)): 0.4584 / 0.4772\n",
            "[16/20][50/235]\tLoss_D: 1.3365\tLoss_G: 0.7380\tD(x): 0.5306\tD(G(z)): 0.4914 / 0.4826\n",
            "[16/20][100/235]\tLoss_D: 1.3315\tLoss_G: 0.7594\tD(x): 0.5562\tD(G(z)): 0.5159 / 0.4734\n",
            "[16/20][150/235]\tLoss_D: 1.2693\tLoss_G: 0.7420\tD(x): 0.5440\tD(G(z)): 0.4717 / 0.4827\n",
            "[16/20][200/235]\tLoss_D: 1.3481\tLoss_G: 0.6860\tD(x): 0.5715\tD(G(z)): 0.5345 / 0.5088\n",
            "17\n",
            "[17/20][0/235]\tLoss_D: 1.3284\tLoss_G: 0.7882\tD(x): 0.5099\tD(G(z)): 0.4657 / 0.4606\n",
            "[17/20][50/235]\tLoss_D: 1.3480\tLoss_G: 0.7106\tD(x): 0.5190\tD(G(z)): 0.4857 / 0.4973\n",
            "[17/20][100/235]\tLoss_D: 1.2991\tLoss_G: 0.7255\tD(x): 0.5518\tD(G(z)): 0.4954 / 0.4905\n",
            "[17/20][150/235]\tLoss_D: 1.3137\tLoss_G: 0.7743\tD(x): 0.5021\tD(G(z)): 0.4531 / 0.4670\n",
            "[17/20][200/235]\tLoss_D: 1.3420\tLoss_G: 0.6618\tD(x): 0.5637\tD(G(z)): 0.5231 / 0.5221\n",
            "18\n",
            "[18/20][0/235]\tLoss_D: 1.3021\tLoss_G: 0.7253\tD(x): 0.5398\tD(G(z)): 0.4815 / 0.4899\n",
            "[18/20][50/235]\tLoss_D: 1.3621\tLoss_G: 0.6741\tD(x): 0.5321\tD(G(z)): 0.5056 / 0.5152\n",
            "[18/20][100/235]\tLoss_D: 1.3264\tLoss_G: 0.7042\tD(x): 0.5715\tD(G(z)): 0.5260 / 0.5005\n",
            "[18/20][150/235]\tLoss_D: 1.3432\tLoss_G: 0.7568\tD(x): 0.5093\tD(G(z)): 0.4732 / 0.4749\n",
            "[18/20][200/235]\tLoss_D: 1.3725\tLoss_G: 0.6656\tD(x): 0.5425\tD(G(z)): 0.5174 / 0.5193\n",
            "19\n",
            "[19/20][0/235]\tLoss_D: 1.2965\tLoss_G: 0.7467\tD(x): 0.5208\tD(G(z)): 0.4605 / 0.4808\n",
            "[19/20][50/235]\tLoss_D: 1.3562\tLoss_G: 0.6941\tD(x): 0.5313\tD(G(z)): 0.5011 / 0.5056\n",
            "[19/20][100/235]\tLoss_D: 1.3179\tLoss_G: 0.7661\tD(x): 0.5683\tD(G(z)): 0.5162 / 0.4713\n",
            "[19/20][150/235]\tLoss_D: 1.3492\tLoss_G: 0.7877\tD(x): 0.5046\tD(G(z)): 0.4710 / 0.4618\n",
            "[19/20][200/235]\tLoss_D: 1.3866\tLoss_G: 0.7105\tD(x): 0.5358\tD(G(z)): 0.5163 / 0.4973\n"
          ],
          "name": "stdout"
        }
      ]
    },
    {
      "cell_type": "code",
      "metadata": {
        "id": "6QOUBmtEBMy9"
      },
      "source": [
        ""
      ],
      "execution_count": null,
      "outputs": []
    },
    {
      "cell_type": "markdown",
      "metadata": {
        "id": "Zsv8cSdcaYCg"
      },
      "source": [
        ""
      ]
    },
    {
      "cell_type": "code",
      "metadata": {
        "id": "0CEk6fOAV1ac",
        "colab": {
          "base_uri": "https://localhost:8080/"
        },
        "outputId": "e83a3be1-695b-461d-cfee-bc0914c8b387"
      },
      "source": [
        "manualSeed = 5405\n",
        "\n",
        "torch.manual_seed(manualSeed)\n",
        "random.seed(manualSeed)\n",
        "\n",
        "\n",
        "trainGAN(3, ma.Generator3(ngpu), ma.Discriminator3(ngpu))"
      ],
      "execution_count": null,
      "outputs": [
        {
          "output_type": "stream",
          "text": [
            "0\n",
            "[0/20][0/235]\tLoss_D: 1.4090\tLoss_G: 0.7040\tD(x): 0.4936\tD(G(z)): 0.5048 / 0.4946\n",
            "[0/20][50/235]\tLoss_D: 0.7613\tLoss_G: 1.5243\tD(x): 0.6242\tD(G(z)): 0.2489 / 0.2193\n",
            "[0/20][100/235]\tLoss_D: 0.7447\tLoss_G: 0.7127\tD(x): 0.9330\tD(G(z)): 0.4904 / 0.4903\n",
            "[0/20][150/235]\tLoss_D: 0.7568\tLoss_G: 0.6825\tD(x): 0.9758\tD(G(z)): 0.5104 / 0.5089\n",
            "[0/20][200/235]\tLoss_D: 1.7114\tLoss_G: 0.5342\tD(x): 0.5872\tD(G(z)): 0.6512 / 0.6007\n",
            "1\n",
            "[1/20][0/235]\tLoss_D: 1.3050\tLoss_G: 0.6539\tD(x): 0.5757\tD(G(z)): 0.5222 / 0.5233\n",
            "[1/20][50/235]\tLoss_D: 1.4142\tLoss_G: 0.6513\tD(x): 0.5265\tD(G(z)): 0.5288 / 0.5277\n",
            "[1/20][100/235]\tLoss_D: 1.3037\tLoss_G: 0.6508\tD(x): 0.5868\tD(G(z)): 0.5334 / 0.5238\n",
            "[1/20][150/235]\tLoss_D: 1.3029\tLoss_G: 0.6169\tD(x): 0.5798\tD(G(z)): 0.5282 / 0.5410\n",
            "[1/20][200/235]\tLoss_D: 1.3881\tLoss_G: 0.5985\tD(x): 0.5564\tD(G(z)): 0.5475 / 0.5512\n",
            "2\n",
            "[2/20][0/235]\tLoss_D: 1.3795\tLoss_G: 0.6683\tD(x): 0.5375\tD(G(z)): 0.5293 / 0.5138\n",
            "[2/20][50/235]\tLoss_D: 1.4170\tLoss_G: 0.5934\tD(x): 0.5465\tD(G(z)): 0.5545 / 0.5533\n",
            "[2/20][100/235]\tLoss_D: 1.3999\tLoss_G: 0.7083\tD(x): 0.5207\tD(G(z)): 0.5247 / 0.4936\n",
            "[2/20][150/235]\tLoss_D: 1.3831\tLoss_G: 0.7958\tD(x): 0.4889\tD(G(z)): 0.4853 / 0.4522\n",
            "[2/20][200/235]\tLoss_D: 1.4118\tLoss_G: 0.7248\tD(x): 0.4612\tD(G(z)): 0.4702 / 0.4848\n",
            "3\n",
            "[3/20][0/235]\tLoss_D: 1.4023\tLoss_G: 0.6803\tD(x): 0.4939\tD(G(z)): 0.5010 / 0.5069\n",
            "[3/20][50/235]\tLoss_D: 1.4101\tLoss_G: 0.7877\tD(x): 0.4454\tD(G(z)): 0.4505 / 0.4553\n",
            "[3/20][100/235]\tLoss_D: 1.3922\tLoss_G: 0.7211\tD(x): 0.4956\tD(G(z)): 0.4974 / 0.4869\n",
            "[3/20][150/235]\tLoss_D: 1.3851\tLoss_G: 0.7357\tD(x): 0.4755\tD(G(z)): 0.4730 / 0.4794\n",
            "[3/20][200/235]\tLoss_D: 1.3815\tLoss_G: 0.7767\tD(x): 0.4662\tD(G(z)): 0.4601 / 0.4605\n",
            "4\n",
            "[4/20][0/235]\tLoss_D: 1.4001\tLoss_G: 0.6405\tD(x): 0.5282\tD(G(z)): 0.5322 / 0.5274\n",
            "[4/20][50/235]\tLoss_D: 1.4012\tLoss_G: 0.7524\tD(x): 0.4732\tD(G(z)): 0.4785 / 0.4718\n",
            "[4/20][100/235]\tLoss_D: 1.3737\tLoss_G: 0.6412\tD(x): 0.5333\tD(G(z)): 0.5243 / 0.5272\n",
            "[4/20][150/235]\tLoss_D: 1.4091\tLoss_G: 0.7319\tD(x): 0.4687\tD(G(z)): 0.4779 / 0.4813\n",
            "[4/20][200/235]\tLoss_D: 1.3737\tLoss_G: 0.7843\tD(x): 0.4627\tD(G(z)): 0.4519 / 0.4569\n",
            "5\n",
            "[5/20][0/235]\tLoss_D: 1.3809\tLoss_G: 0.6604\tD(x): 0.5247\tD(G(z)): 0.5201 / 0.5171\n",
            "[5/20][50/235]\tLoss_D: 1.4237\tLoss_G: 0.7510\tD(x): 0.4531\tD(G(z)): 0.4673 / 0.4723\n",
            "[5/20][100/235]\tLoss_D: 1.3708\tLoss_G: 0.7519\tD(x): 0.4898\tD(G(z)): 0.4810 / 0.4719\n",
            "[5/20][150/235]\tLoss_D: 1.4004\tLoss_G: 0.6838\tD(x): 0.5008\tD(G(z)): 0.5071 / 0.5050\n",
            "[5/20][200/235]\tLoss_D: 1.4086\tLoss_G: 0.7568\tD(x): 0.4562\tD(G(z)): 0.4634 / 0.4694\n",
            "6\n",
            "[6/20][0/235]\tLoss_D: 1.3811\tLoss_G: 0.7122\tD(x): 0.4966\tD(G(z)): 0.4935 / 0.4908\n",
            "[6/20][50/235]\tLoss_D: 1.3869\tLoss_G: 0.7338\tD(x): 0.4847\tD(G(z)): 0.4837 / 0.4805\n",
            "[6/20][100/235]\tLoss_D: 1.4097\tLoss_G: 0.7400\tD(x): 0.4697\tD(G(z)): 0.4794 / 0.4774\n",
            "[6/20][150/235]\tLoss_D: 1.3690\tLoss_G: 0.7723\tD(x): 0.4888\tD(G(z)): 0.4788 / 0.4626\n",
            "[6/20][200/235]\tLoss_D: 1.3946\tLoss_G: 0.6758\tD(x): 0.4953\tD(G(z)): 0.4988 / 0.5091\n",
            "7\n",
            "[7/20][0/235]\tLoss_D: 1.3755\tLoss_G: 0.6594\tD(x): 0.5178\tD(G(z)): 0.5115 / 0.5174\n",
            "[7/20][50/235]\tLoss_D: 1.3734\tLoss_G: 0.7591\tD(x): 0.4763\tD(G(z)): 0.4678 / 0.4683\n",
            "[7/20][100/235]\tLoss_D: 1.3880\tLoss_G: 0.7040\tD(x): 0.4956\tD(G(z)): 0.4958 / 0.4950\n",
            "[7/20][150/235]\tLoss_D: 1.3667\tLoss_G: 0.7726\tD(x): 0.4892\tD(G(z)): 0.4779 / 0.4623\n",
            "[7/20][200/235]\tLoss_D: 1.4189\tLoss_G: 0.6960\tD(x): 0.4726\tD(G(z)): 0.4869 / 0.4989\n",
            "8\n",
            "[8/20][0/235]\tLoss_D: 1.3833\tLoss_G: 0.6524\tD(x): 0.5330\tD(G(z)): 0.5289 / 0.5212\n",
            "[8/20][50/235]\tLoss_D: 1.3771\tLoss_G: 0.7126\tD(x): 0.4891\tD(G(z)): 0.4835 / 0.4908\n",
            "[8/20][100/235]\tLoss_D: 1.3435\tLoss_G: 0.7830\tD(x): 0.4914\tD(G(z)): 0.4682 / 0.4576\n",
            "[8/20][150/235]\tLoss_D: 1.3832\tLoss_G: 0.7644\tD(x): 0.4740\tD(G(z)): 0.4702 / 0.4660\n",
            "[8/20][200/235]\tLoss_D: 1.3590\tLoss_G: 0.6567\tD(x): 0.5224\tD(G(z)): 0.5070 / 0.5191\n",
            "9\n",
            "[9/20][0/235]\tLoss_D: 1.3686\tLoss_G: 0.7534\tD(x): 0.5008\tD(G(z)): 0.4910 / 0.4713\n",
            "[9/20][50/235]\tLoss_D: 1.3802\tLoss_G: 0.7033\tD(x): 0.4961\tD(G(z)): 0.4920 / 0.4954\n",
            "[9/20][100/235]\tLoss_D: 1.3571\tLoss_G: 0.7868\tD(x): 0.4733\tD(G(z)): 0.4545 / 0.4561\n",
            "[9/20][150/235]\tLoss_D: 1.3575\tLoss_G: 0.7807\tD(x): 0.4764\tD(G(z)): 0.4588 / 0.4586\n",
            "[9/20][200/235]\tLoss_D: 1.3646\tLoss_G: 0.6685\tD(x): 0.5188\tD(G(z)): 0.5067 / 0.5130\n",
            "10\n",
            "[10/20][0/235]\tLoss_D: 1.3617\tLoss_G: 0.7395\tD(x): 0.5088\tD(G(z)): 0.4953 / 0.4780\n",
            "[10/20][50/235]\tLoss_D: 1.3691\tLoss_G: 0.7343\tD(x): 0.4921\tD(G(z)): 0.4820 / 0.4804\n",
            "[10/20][100/235]\tLoss_D: 1.3698\tLoss_G: 0.6986\tD(x): 0.5202\tD(G(z)): 0.5100 / 0.4980\n",
            "[10/20][150/235]\tLoss_D: 1.3620\tLoss_G: 0.7870\tD(x): 0.4685\tD(G(z)): 0.4516 / 0.4560\n",
            "[10/20][200/235]\tLoss_D: 1.3698\tLoss_G: 0.6734\tD(x): 0.5251\tD(G(z)): 0.5141 / 0.5108\n",
            "11\n",
            "[11/20][0/235]\tLoss_D: 1.3607\tLoss_G: 0.7514\tD(x): 0.5057\tD(G(z)): 0.4914 / 0.4725\n",
            "[11/20][50/235]\tLoss_D: 1.3641\tLoss_G: 0.6985\tD(x): 0.5028\tD(G(z)): 0.4902 / 0.4981\n",
            "[11/20][100/235]\tLoss_D: 1.3597\tLoss_G: 0.7373\tD(x): 0.5173\tD(G(z)): 0.5019 / 0.4793\n",
            "[11/20][150/235]\tLoss_D: 1.3695\tLoss_G: 0.7496\tD(x): 0.4606\tD(G(z)): 0.4457 / 0.4733\n",
            "[11/20][200/235]\tLoss_D: 1.3656\tLoss_G: 0.6727\tD(x): 0.5204\tD(G(z)): 0.5072 / 0.5115\n",
            "12\n",
            "[12/20][0/235]\tLoss_D: 1.3559\tLoss_G: 0.7860\tD(x): 0.5095\tD(G(z)): 0.4922 / 0.4568\n",
            "[12/20][50/235]\tLoss_D: 1.3597\tLoss_G: 0.6407\tD(x): 0.5336\tD(G(z)): 0.5171 / 0.5277\n",
            "[12/20][100/235]\tLoss_D: 1.3621\tLoss_G: 0.7505\tD(x): 0.4983\tD(G(z)): 0.4838 / 0.4734\n",
            "[12/20][150/235]\tLoss_D: 1.3729\tLoss_G: 0.7251\tD(x): 0.4721\tD(G(z)): 0.4606 / 0.4854\n",
            "[12/20][200/235]\tLoss_D: 1.3570\tLoss_G: 0.7273\tD(x): 0.5091\tD(G(z)): 0.4909 / 0.4848\n",
            "13\n",
            "[13/20][0/235]\tLoss_D: 1.3800\tLoss_G: 0.7735\tD(x): 0.5273\tD(G(z)): 0.5205 / 0.4628\n",
            "[13/20][50/235]\tLoss_D: 1.3683\tLoss_G: 0.7133\tD(x): 0.4935\tD(G(z)): 0.4823 / 0.4911\n",
            "[13/20][100/235]\tLoss_D: 1.3717\tLoss_G: 0.7842\tD(x): 0.4919\tD(G(z)): 0.4813 / 0.4579\n",
            "[13/20][150/235]\tLoss_D: 1.3634\tLoss_G: 0.7604\tD(x): 0.4695\tD(G(z)): 0.4523 / 0.4689\n",
            "[13/20][200/235]\tLoss_D: 1.3639\tLoss_G: 0.6650\tD(x): 0.5261\tD(G(z)): 0.5111 / 0.5155\n",
            "14\n",
            "[14/20][0/235]\tLoss_D: 1.3934\tLoss_G: 0.5742\tD(x): 0.5943\tD(G(z)): 0.5802 / 0.5641\n",
            "[14/20][50/235]\tLoss_D: 1.3750\tLoss_G: 0.7431\tD(x): 0.4806\tD(G(z)): 0.4713 / 0.4766\n",
            "[14/20][100/235]\tLoss_D: 1.3556\tLoss_G: 0.7174\tD(x): 0.5250\tD(G(z)): 0.5063 / 0.4895\n",
            "[14/20][150/235]\tLoss_D: 1.3510\tLoss_G: 0.8307\tD(x): 0.4691\tD(G(z)): 0.4451 / 0.4371\n",
            "[14/20][200/235]\tLoss_D: 1.3635\tLoss_G: 0.6433\tD(x): 0.5432\tD(G(z)): 0.5272 / 0.5266\n",
            "15\n",
            "[15/20][0/235]\tLoss_D: 1.3691\tLoss_G: 0.7253\tD(x): 0.5088\tD(G(z)): 0.4980 / 0.4852\n",
            "[15/20][50/235]\tLoss_D: 1.3697\tLoss_G: 0.7126\tD(x): 0.4948\tD(G(z)): 0.4844 / 0.4914\n",
            "[15/20][100/235]\tLoss_D: 1.3673\tLoss_G: 0.6749\tD(x): 0.5340\tD(G(z)): 0.5210 / 0.5102\n",
            "[15/20][150/235]\tLoss_D: 1.3629\tLoss_G: 0.7559\tD(x): 0.4798\tD(G(z)): 0.4647 / 0.4706\n",
            "[15/20][200/235]\tLoss_D: 1.3759\tLoss_G: 0.6988\tD(x): 0.5273\tD(G(z)): 0.5189 / 0.4981\n",
            "16\n",
            "[16/20][0/235]\tLoss_D: 1.3699\tLoss_G: 0.7565\tD(x): 0.4975\tD(G(z)): 0.4872 / 0.4703\n",
            "[16/20][50/235]\tLoss_D: 1.3771\tLoss_G: 0.7106\tD(x): 0.4886\tD(G(z)): 0.4817 / 0.4922\n",
            "[16/20][100/235]\tLoss_D: 1.3673\tLoss_G: 0.6636\tD(x): 0.5374\tD(G(z)): 0.5238 / 0.5160\n",
            "[16/20][150/235]\tLoss_D: 1.3739\tLoss_G: 0.7579\tD(x): 0.4823\tD(G(z)): 0.4730 / 0.4697\n",
            "[16/20][200/235]\tLoss_D: 1.3829\tLoss_G: 0.6936\tD(x): 0.5180\tD(G(z)): 0.5134 / 0.5008\n",
            "17\n",
            "[17/20][0/235]\tLoss_D: 1.3782\tLoss_G: 0.7416\tD(x): 0.5015\tD(G(z)): 0.4955 / 0.4773\n",
            "[17/20][50/235]\tLoss_D: 1.3881\tLoss_G: 0.7160\tD(x): 0.4864\tD(G(z)): 0.4852 / 0.4896\n",
            "[17/20][100/235]\tLoss_D: 1.3716\tLoss_G: 0.6421\tD(x): 0.5335\tD(G(z)): 0.5228 / 0.5269\n",
            "[17/20][150/235]\tLoss_D: 1.3724\tLoss_G: 0.7548\tD(x): 0.4899\tD(G(z)): 0.4806 / 0.4710\n",
            "[17/20][200/235]\tLoss_D: 1.3721\tLoss_G: 0.6442\tD(x): 0.5253\tD(G(z)): 0.5153 / 0.5258\n",
            "18\n",
            "[18/20][0/235]\tLoss_D: 1.3675\tLoss_G: 0.7356\tD(x): 0.5041\tD(G(z)): 0.4931 / 0.4800\n",
            "[18/20][50/235]\tLoss_D: 1.3798\tLoss_G: 0.7194\tD(x): 0.4903\tD(G(z)): 0.4852 / 0.4880\n",
            "[18/20][100/235]\tLoss_D: 1.3717\tLoss_G: 0.6762\tD(x): 0.5052\tD(G(z)): 0.4961 / 0.5093\n",
            "[18/20][150/235]\tLoss_D: 1.3788\tLoss_G: 0.7036\tD(x): 0.5125\tD(G(z)): 0.5069 / 0.4956\n",
            "[18/20][200/235]\tLoss_D: 1.3730\tLoss_G: 0.6274\tD(x): 0.5304\tD(G(z)): 0.5208 / 0.5347\n",
            "19\n",
            "[19/20][0/235]\tLoss_D: 1.3723\tLoss_G: 0.7588\tD(x): 0.4931\tD(G(z)): 0.4841 / 0.4691\n",
            "[19/20][50/235]\tLoss_D: 1.3739\tLoss_G: 0.7339\tD(x): 0.4891\tD(G(z)): 0.4809 / 0.4808\n",
            "[19/20][100/235]\tLoss_D: 1.3660\tLoss_G: 0.6897\tD(x): 0.5034\tD(G(z)): 0.4917 / 0.5024\n",
            "[19/20][150/235]\tLoss_D: 1.3839\tLoss_G: 0.7139\tD(x): 0.4967\tD(G(z)): 0.4938 / 0.4905\n",
            "[19/20][200/235]\tLoss_D: 1.3792\tLoss_G: 0.6515\tD(x): 0.5161\tD(G(z)): 0.5105 / 0.5220\n"
          ],
          "name": "stdout"
        }
      ]
    },
    {
      "cell_type": "code",
      "metadata": {
        "id": "V64CvdkbT-zX",
        "colab": {
          "base_uri": "https://localhost:8080/"
        },
        "outputId": "db48d79e-73b1-4817-a568-c906b38f3adc"
      },
      "source": [
        "netG1 = ma.Generator1(0)\n",
        "model_dict1 = torch.load('/content/gdrive/My Drive/GANS/GAN_1', map_location=torch.device('cpu'))\n",
        "netG1.load_state_dict(model_dict1['G_state_dict'])\n"
      ],
      "execution_count": 54,
      "outputs": [
        {
          "output_type": "execute_result",
          "data": {
            "text/plain": [
              "<All keys matched successfully>"
            ]
          },
          "metadata": {
            "tags": []
          },
          "execution_count": 54
        }
      ]
    },
    {
      "cell_type": "code",
      "metadata": {
        "colab": {
          "base_uri": "https://localhost:8080/",
          "height": 105
        },
        "id": "lMg99xitQykR",
        "outputId": "6fac44c5-7e87-4185-9c6f-4d7321d0df63"
      },
      "source": [
        "noise_1 = torch.randn(1,ma.nz, 1, 1)\n",
        "noise_2 = torch.randn(1,ma.nz, 1, 1)\n",
        "fig, ax = plt.subplots(1,10, figsize=(15,5))\n",
        "i=0\n",
        "for r in [x * 0.1 for x in range(0, 10)]:\n",
        "  noise_temp = noise_1*r + noise_2*(1-r)\n",
        "  img = netG1(noise_temp).detach().numpy().reshape(28,28)\n",
        "  ax[i].imshow(img)\n",
        "  ax[i].set_xticks([])\n",
        "  ax[i].set_yticks([])\n",
        "  i=i+1\n",
        "\n",
        "plt.show()"
      ],
      "execution_count": 72,
      "outputs": [
        {
          "output_type": "display_data",
          "data": {
            "image/png": "[encoded data removed]",
            "text/plain": [
              "<Figure size 1080x360 with 10 Axes>"
            ]
          },
          "metadata": {
            "tags": []
          }
        }
      ]
    },
    {
      "cell_type": "code",
      "metadata": {
        "id": "ge-I5qnpXtPb",
        "colab": {
          "base_uri": "https://localhost:8080/"
        },
        "outputId": "b6ececa6-6506-42c4-b2ee-f0ebedcf31fe"
      },
      "source": [
        "netG2 = ma.Generator2(0)\n",
        "model_dict2 = torch.load('/content/gdrive/My Drive/GANS/GAN_2', map_location=torch.device('cpu'))\n",
        "netG2.load_state_dict(model_dict2['G_state_dict'])\n"
      ],
      "execution_count": 76,
      "outputs": [
        {
          "output_type": "execute_result",
          "data": {
            "text/plain": [
              "<All keys matched successfully>"
            ]
          },
          "metadata": {
            "tags": []
          },
          "execution_count": 76
        }
      ]
    },
    {
      "cell_type": "code",
      "metadata": {
        "colab": {
          "base_uri": "https://localhost:8080/",
          "height": 105
        },
        "id": "Ny3KHmEtRZBB",
        "outputId": "e077dda4-5e99-452a-fbe8-c8685e907105"
      },
      "source": [
        "noise_1 = torch.randn(1,ma.nz, 1, 1)\n",
        "noise_2 = torch.randn(1,ma.nz, 1, 1)\n",
        "fig, ax = plt.subplots(1,10, figsize=(15,5))\n",
        "i=0\n",
        "for r in [x * 0.1 for x in range(0, 10)]:\n",
        "  noise_temp = noise_1*r + noise_2*(1-r)\n",
        "  img = netG2(noise_temp).detach().numpy().reshape(28,28)\n",
        "  ax[i].imshow(img)\n",
        "  ax[i].set_xticks([])\n",
        "  ax[i].set_yticks([])\n",
        "  i=i+1\n",
        "\n",
        "plt.show()"
      ],
      "execution_count": 87,
      "outputs": [
        {
          "output_type": "display_data",
          "data": {
            "image/png": "[encoded data removed]",
            "text/plain": [
              "<Figure size 1080x360 with 10 Axes>"
            ]
          },
          "metadata": {
            "tags": []
          }
        }
      ]
    },
    {
      "cell_type": "code",
      "metadata": {
        "colab": {
          "base_uri": "https://localhost:8080/"
        },
        "id": "s_St_OY0Rjm9",
        "outputId": "2cd981b0-6697-4e62-84a2-ecaaf41e1b70"
      },
      "source": [
        "netG3 = ma.Generator3(0)\n",
        "model_dict3 = torch.load('/content/gdrive/My Drive/GANS/GAN_3', map_location=torch.device('cpu'))\n",
        "netG3.load_state_dict(model_dict3['G_state_dict'])"
      ],
      "execution_count": 88,
      "outputs": [
        {
          "output_type": "execute_result",
          "data": {
            "text/plain": [
              "<All keys matched successfully>"
            ]
          },
          "metadata": {
            "tags": []
          },
          "execution_count": 88
        }
      ]
    },
    {
      "cell_type": "code",
      "metadata": {
        "colab": {
          "base_uri": "https://localhost:8080/",
          "height": 105
        },
        "id": "UUAKHt3lRwG_",
        "outputId": "6a852c51-8108-44de-f517-151e77148156"
      },
      "source": [
        "noise_1 = torch.randn(1,ma.nz, 1, 1)\n",
        "noise_2 = torch.randn(1,ma.nz, 1, 1)\n",
        "fig, ax = plt.subplots(1,10, figsize=(15,5))\n",
        "i=0\n",
        "for r in [x * 0.1 for x in range(0, 10)]:\n",
        "  noise_temp = noise_1*r + noise_2*(1-r)\n",
        "  img = netG3(noise_temp).detach().numpy().reshape(28,28)\n",
        "  ax[i].imshow(img)\n",
        "  ax[i].set_xticks([])\n",
        "  ax[i].set_yticks([])\n",
        "  i=i+1\n",
        "\n",
        "plt.show()"
      ],
      "execution_count": 92,
      "outputs": [
        {
          "output_type": "display_data",
          "data": {
            "image/png": "[encoded data removed]",
            "text/plain": [
              "<Figure size 1080x360 with 10 Axes>"
            ]
          },
          "metadata": {
            "tags": []
          }
        }
      ]
    },
    {
      "cell_type": "code",
      "metadata": {
        "id": "fkATZ0mDR4bR"
      },
      "source": [
        ""
      ],
      "execution_count": null,
      "outputs": []
    }
  ]
}