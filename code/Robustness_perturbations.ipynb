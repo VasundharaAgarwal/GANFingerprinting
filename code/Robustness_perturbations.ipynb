{
  "nbformat": 4,
  "nbformat_minor": 0,
  "metadata": {
    "colab": {
      "name": "Robustness_perturbations.ipynb",
      "provenance": []
    },
    "kernelspec": {
      "name": "python3",
      "display_name": "Python 3"
    },
    "language_info": {
      "name": "python"
    }
  },
  "cells": [
    {
      "cell_type": "code",
      "metadata": {
        "id": "lgBkItdlBl0X"
      },
      "source": [
        "from google.colab import drive\n",
        "import os\n",
        "import sys\n",
        "import numpy as np\n",
        "import matplotlib.pyplot as plt\n",
        "%load_ext autoreload\n",
        "%autoreload 2"
      ],
      "execution_count": null,
      "outputs": []
    },
    {
      "cell_type": "code",
      "metadata": {
        "colab": {
          "base_uri": "https://localhost:8080/"
        },
        "id": "fPfkp34DBsG3",
        "outputId": "239f8684-d637-4de5-c2fc-e77b22a02cea"
      },
      "source": [
        "drive.mount('/content/gdrive', force_remount=True) "
      ],
      "execution_count": null,
      "outputs": [
        {
          "output_type": "stream",
          "text": [
            "Mounted at /content/gdrive\n"
          ],
          "name": "stdout"
        }
      ]
    },
    {
      "cell_type": "code",
      "metadata": {
        "id": "iMe8UNIuBuS7"
      },
      "source": [
        "sys.path.append('/content/gdrive/My Drive/')\n",
        "import fp_utilities as fp_util"
      ],
      "execution_count": null,
      "outputs": []
    },
    {
      "cell_type": "code",
      "metadata": {
        "colab": {
          "base_uri": "https://localhost:8080/"
        },
        "id": "xMvRS3g-Hyo4",
        "outputId": "c4bb005a-1883-4599-b7f2-ec93735ebdfe"
      },
      "source": [
        "import importlib\n",
        "importlib.reload(fp_util)"
      ],
      "execution_count": null,
      "outputs": [
        {
          "output_type": "execute_result",
          "data": {
            "text/plain": [
              "<module 'fp_utilities' from '/content/gdrive/My Drive/fp_utilities.py'>"
            ]
          },
          "metadata": {
            "tags": []
          },
          "execution_count": 4
        }
      ]
    },
    {
      "cell_type": "code",
      "metadata": {
        "id": "d1BBcDnYGOi1"
      },
      "source": [
        "atk_strengths = np.arange(0.0001, 0.001, 0.0001).tolist() + np.arange(0.001, 0.01, 0.001).tolist() + [0.1, 0.4, 0.7, 1.0]"
      ],
      "execution_count": null,
      "outputs": []
    },
    {
      "cell_type": "code",
      "metadata": {
        "id": "FYhL8UGwHd4B"
      },
      "source": [
        "from sklearn.metrics import accuracy_score\n",
        "marra_accuracies = []\n",
        "yu_accuracies = []"
      ],
      "execution_count": null,
      "outputs": []
    },
    {
      "cell_type": "code",
      "metadata": {
        "colab": {
          "base_uri": "https://localhost:8080/"
        },
        "id": "sUhnRJKGHgK0",
        "outputId": "cc47a904-c7a7-4bf0-f052-b84d7d91377a"
      },
      "source": [
        "for atk_strength in atk_strengths:\n",
        "  marra_preds = fp_util.get_predictions('Marra', attack_mode=\"gaussian\", attack_strength=atk_strength)\n",
        "  marra_accuracies.append(accuracy_score(fp_util.ground_truth, marra_preds))\n",
        "  yu_preds = fp_util.get_predictions('Yu', attack_mode=\"gaussian\", attack_strength=atk_strength)\n",
        "  yu_accuracies.append(accuracy_score(fp_util.ground_truth, yu_preds))"
      ],
      "execution_count": null,
      "outputs": [
        {
          "output_type": "stream",
          "text": [
            "/usr/local/lib/python3.7/dist-packages/torch/nn/functional.py:1709: UserWarning: nn.functional.sigmoid is deprecated. Use torch.sigmoid instead.\n",
            "  warnings.warn(\"nn.functional.sigmoid is deprecated. Use torch.sigmoid instead.\")\n"
          ],
          "name": "stderr"
        }
      ]
    },
    {
      "cell_type": "code",
      "metadata": {
        "id": "St1C2ur1N_0-"
      },
      "source": [
        "np.save('marra_accuracies_gaussian.npy', marra_accuracies)\n",
        "np.save('yu_accuracies_gaussian.npy', yu_accuracies)"
      ],
      "execution_count": null,
      "outputs": []
    },
    {
      "cell_type": "code",
      "metadata": {
        "id": "qViy0fuv9-S9"
      },
      "source": [
        "abs_atk_strengths = [relative_strength*fp_util.avg_l2_norm_imgs for relative_strength in atk_strengths]"
      ],
      "execution_count": null,
      "outputs": []
    },
    {
      "cell_type": "code",
      "metadata": {
        "colab": {
          "base_uri": "https://localhost:8080/"
        },
        "id": "VjGP1YwtBcQM",
        "outputId": "11079457-6ca9-4ecd-a487-84a8e222f6cd"
      },
      "source": [
        "abs_atk_strengths"
      ],
      "execution_count": null,
      "outputs": [
        {
          "output_type": "execute_result",
          "data": {
            "text/plain": [
              "[0.0009203744140625001,\n",
              " 0.0018407488281250001,\n",
              " 0.0027611232421875004,\n",
              " 0.0036814976562500002,\n",
              " 0.0046018720703125005,\n",
              " 0.005522246484375001,\n",
              " 0.006442620898437501,\n",
              " 0.0073629953125000005,\n",
              " 0.008283369726562502,\n",
              " 0.009203744140625001,\n",
              " 0.018407488281250002,\n",
              " 0.027611232421875,\n",
              " 0.036814976562500004,\n",
              " 0.046018720703125,\n",
              " 0.05522246484375,\n",
              " 0.064426208984375,\n",
              " 0.07362995312500001,\n",
              " 0.082833697265625,\n",
              " 0.9203744140625001,\n",
              " 3.6814976562500004,\n",
              " 6.442620898437499,\n",
              " 9.203744140625]"
            ]
          },
          "metadata": {
            "tags": []
          },
          "execution_count": 15
        }
      ]
    },
    {
      "cell_type": "code",
      "metadata": {
        "colab": {
          "base_uri": "https://localhost:8080/",
          "height": 283
        },
        "id": "e2ek66HABxW0",
        "outputId": "2bf279b6-08e9-462c-99ae-bc0b3e223c13"
      },
      "source": [
        "import matplotlib.pyplot as plt\n",
        "plt.plot(abs_atk_strengths, marra_accuracies, label=\"Handcrafted\")\n",
        "plt.plot(abs_atk_strengths, yu_accuracies, label=\"Learned\")\n",
        "plt.xscale('log')\n",
        "plt.xlabel('L2 norm of noise')\n",
        "plt.ylabel('Accuracy of attribution')\n",
        "plt.legend()\n",
        "plt.show()"
      ],
      "execution_count": null,
      "outputs": [
        {
          "output_type": "display_data",
          "data": {
            "image/png": "[encoded data removed]",
            "text/plain": [
              "<Figure size 432x288 with 1 Axes>"
            ]
          },
          "metadata": {
            "tags": [],
            "needs_background": "light"
          }
        }
      ]
    },
    {
      "cell_type": "code",
      "metadata": {
        "colab": {
          "base_uri": "https://localhost:8080/"
        },
        "id": "RsHFOgBPFP_1",
        "outputId": "e628d994-9dbf-4a60-d818-5b9d37d185ba"
      },
      "source": [
        "for gan_num in range(4):\n",
        "  test_imgs = fp_util.load_test_images(gan_num)\n",
        "  sum_l2_norms = np.sum([np.linalg.norm(img) for img in test_imgs])\n",
        "  print(sum_l2_norms/4000)\n"
      ],
      "execution_count": null,
      "outputs": [
        {
          "output_type": "stream",
          "text": [
            "2.2172275390625\n",
            "2.36839892578125\n",
            "2.1285166015625\n",
            "2.48960107421875\n"
          ],
          "name": "stdout"
        }
      ]
    },
    {
      "cell_type": "code",
      "metadata": {
        "id": "PhAOZE-1LcWU"
      },
      "source": [
        ""
      ],
      "execution_count": null,
      "outputs": []
    }
  ]
}