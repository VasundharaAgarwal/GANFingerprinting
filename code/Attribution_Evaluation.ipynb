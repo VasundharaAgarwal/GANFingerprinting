{
  "nbformat": 4,
  "nbformat_minor": 0,
  "metadata": {
    "colab": {
      "name": "Attribution_Evaluation.ipynb",
      "provenance": [],
      "collapsed_sections": []
    },
    "kernelspec": {
      "name": "python3",
      "display_name": "Python 3"
    }
  },
  "cells": [
    {
      "cell_type": "code",
      "metadata": {
        "id": "fTEm34HsJv-4"
      },
      "source": [
        "from google.colab import drive\n",
        "import os\n",
        "\n",
        "import torch\n",
        "import random\n",
        "import numpy as np\n",
        "import cv2\n",
        "import matplotlib.pyplot as plt\n",
        "import torchvision\n",
        "import pandas as pd\n",
        "import torchvision.utils as vutils\n",
        "import torch.nn as nn\n",
        "import torch.nn.functional as F\n",
        "import torch.optim as optim\n",
        "from sklearn.metrics import accuracy_score\n",
        "from sklearn.metrics import confusion_matrix \n",
        "from sklearn.metrics import ConfusionMatrixDisplay\n"
      ],
      "execution_count": 8,
      "outputs": []
    },
    {
      "cell_type": "code",
      "metadata": {
        "colab": {
          "base_uri": "https://localhost:8080/"
        },
        "id": "xzGX-crlJ2-9",
        "outputId": "27fe7257-7e0f-4092-e495-8551894bffe7"
      },
      "source": [
        "\n",
        "drive.mount('/content/gdrive', force_remount=True)"
      ],
      "execution_count": 9,
      "outputs": [
        {
          "output_type": "stream",
          "text": [
            "Mounted at /content/gdrive\n"
          ],
          "name": "stdout"
        }
      ]
    },
    {
      "cell_type": "code",
      "metadata": {
        "id": "0xjBen3fdBGn"
      },
      "source": [
        "import sys\n",
        "sys.path.append('/content/gdrive/My Drive/')\n",
        "import model_architectures as ma"
      ],
      "execution_count": 10,
      "outputs": []
    },
    {
      "cell_type": "code",
      "metadata": {
        "id": "-odVDhhLKCo3"
      },
      "source": [
        "manualSeed = 500\n",
        "\n",
        "torch.manual_seed(manualSeed)\n",
        "random.seed(manualSeed)\n",
        "np.random.seed(manualSeed)"
      ],
      "execution_count": 11,
      "outputs": []
    },
    {
      "cell_type": "code",
      "metadata": {
        "id": "5MQMEEvJKMWn"
      },
      "source": [
        "fixed_noise = torch.randn(1000,  ma.nz, 1, 1)\n",
        "fake1_test = netG1(fixed_noise).detach().numpy().reshape(1000,28,28)\n",
        "fake2_test = netG2(fixed_noise).detach().numpy().reshape(1000,28,28)\n",
        "fake3_test = netG3(fixed_noise).detach().numpy().reshape(1000,28,28)"
      ],
      "execution_count": null,
      "outputs": []
    },
    {
      "cell_type": "code",
      "metadata": {
        "id": "OAi0gdu1KRZx"
      },
      "source": [
        "np.save('/content/gdrive/My Drive/Diss/Images_Testing/GAN_1_images', fake1_test)\n",
        "np.save('/content/gdrive/My Drive/Diss/Images_Testing/GAN_2_images', fake2_test)\n",
        "np.save('/content/gdrive/My Drive/Diss/Images_Testing/GAN_3_images', fake3_test)\n",
        "np.save('/content/gdrive/My Drive/Diss/Images_Testing/Real_images', real_test)"
      ],
      "execution_count": null,
      "outputs": []
    },
    {
      "cell_type": "code",
      "metadata": {
        "id": "k0XpCithKT1s"
      },
      "source": [
        "def load_fingerprints(fp_extraction_method, denoising_method=\"median blur\"):\n",
        "  dir = '/content/gdrive/My Drive/Diss/{}/Fingerprints/'.format(fp_extraction_method)\n",
        "  file_names = ['print_real', 'print_GAN_1', 'print_GAN_2', 'print_GAN_3']\n",
        "  if(fp_extraction_method == 'Marra'):\n",
        "    file_names = [f + '_' + denoising_method.replace(\" \", \"_\") for f in file_names]\n",
        "  fingerprints = [np.load(dir + f + '.npy').flatten() for f in file_names ]\n",
        "  return fingerprints\n",
        "  "
      ],
      "execution_count": 12,
      "outputs": []
    },
    {
      "cell_type": "code",
      "metadata": {
        "id": "Lb5N5hkLKV69"
      },
      "source": [
        "def compute_corr_coeff(gan_num, fp_extraction_method, denoising_method=\"median blur\"):\n",
        "  coefs_list = [[],[],[],[]]\n",
        "  file_name_load = \"GAN_{:d}_images.npy\".format(gan_num) if gan_num > 0 else \"Real_images.npy\"\n",
        "  fake_test = np.load('/content/gdrive/My Drive/Diss/Images_Testing/'+file_name_load)\n",
        "  fp_list = load_fingerprints(fp_extraction_method, denoising_method)\n",
        "  if(fp_extraction_method == 'Yu'):\n",
        "    autoEnc = ma.Autoencoder()\n",
        "    model_dict = torch.load('/content/gdrive/My Drive/Diss/trained_models/Autoencoder', map_location=torch.device('cpu'))\n",
        "    autoEnc.load_state_dict(model_dict['model_state_dict'])\n",
        "  for i in range(1000):\n",
        "    img = fake_test[i]\n",
        "    if (fp_extraction_method == 'Marra'):\n",
        "      if (denoising_method == \"median blur\"):\n",
        "        dst = cv2.medianBlur(img, 3)\n",
        "      elif (denoising_method == \"gaussian blur\"):\n",
        "        dst = cv2.GaussianBlur(img, (3,3), 1)\n",
        "    elif (fp_extraction_method == 'Yu'):\n",
        "      dst = autoEnc(torch.from_numpy(img.reshape(1,1,28,28)))\n",
        "      dst = dst.detach().numpy().reshape(28,28)\n",
        "      \n",
        "    residual = (img - dst).flatten()\n",
        "    for i in range(len(coefs_list)):\n",
        "      coefs_list[i].append(np.corrcoef(fp_list[i], residual)[0][1]) \n",
        "  return coefs_list\n"
      ],
      "execution_count": 13,
      "outputs": []
    },
    {
      "cell_type": "code",
      "metadata": {
        "id": "gdxBfeaw1GRG"
      },
      "source": [
        "def plot_corr_histograms(fp_extraction_method): \n",
        "  fig, ax = plt.subplots(1,4,figsize=(15,4), sharex=True, sharey=True)\n",
        "  for i in range(4):\n",
        "    coefs_real, coefs_gan_1, coefs_gan_2, coefs_gan_3 = compute_corr_coeff(i, fp_extraction_method)\n",
        "    ax[i].hist(coefs_real, color='red', alpha= 0.25, label=\"real\")\n",
        "    ax[i].hist(coefs_gan_1, color='blue', alpha = 0.2, label=\"GAN 1\")\n",
        "    ax[i].hist(coefs_gan_2, color='yellow', alpha = 0.2, label=\"GAN 2\")\n",
        "    ax[i].hist(coefs_gan_3, color='green', alpha = 0.2, label=\"GAN 3\")\n",
        "    ax[i].set_xlabel('Correlation')\n",
        "  plt.legend()\n",
        "  plt.show()"
      ],
      "execution_count": 14,
      "outputs": []
    },
    {
      "cell_type": "code",
      "metadata": {
        "colab": {
          "base_uri": "https://localhost:8080/",
          "height": 279
        },
        "id": "09_x-oUOKedt",
        "outputId": "b945c532-d7d8-476b-925d-9ce2415d2259"
      },
      "source": [
        "plot_corr_histograms('Marra')"
      ],
      "execution_count": 45,
      "outputs": [
        {
          "output_type": "display_data",
          "data": {
            "image/png": "[encoded data removed]",
            "text/plain": [
              "<Figure size 1080x288 with 4 Axes>"
            ]
          },
          "metadata": {
            "tags": [],
            "needs_background": "light"
          }
        }
      ]
    },
    {
      "cell_type": "code",
      "metadata": {
        "colab": {
          "base_uri": "https://localhost:8080/",
          "height": 313
        },
        "id": "85bDDVqTeT1R",
        "outputId": "2e448416-2a05-44cd-8665-b64fc800b1c5"
      },
      "source": [
        "plot_corr_histograms('Yu')"
      ],
      "execution_count": 69,
      "outputs": [
        {
          "output_type": "stream",
          "text": [
            "/usr/local/lib/python3.6/dist-packages/torch/nn/functional.py:1639: UserWarning: nn.functional.sigmoid is deprecated. Use torch.sigmoid instead.\n",
            "  warnings.warn(\"nn.functional.sigmoid is deprecated. Use torch.sigmoid instead.\")\n"
          ],
          "name": "stderr"
        },
        {
          "output_type": "display_data",
          "data": {
            "image/png": "[encoded data removed]",
            "text/plain": [
              "<Figure size 1080x288 with 4 Axes>"
            ]
          },
          "metadata": {
            "tags": [],
            "needs_background": "light"
          }
        }
      ]
    },
    {
      "cell_type": "code",
      "metadata": {
        "id": "CwLN2rdPKf-M"
      },
      "source": [
        "def get_predictions(fp_extraction_method, denoising_method=\"median blur\"):\n",
        "  labels = ['real', 'GAN 1', 'GAN 2', 'GAN 3']\n",
        "  preds = []\n",
        "  fp_list = load_fingerprints(fp_extraction_method, denoising_method)\n",
        "  if(fp_extraction_method == 'Yu'):\n",
        "    autoEnc = ma.Autoencoder()\n",
        "    model_dict = torch.load('/content/gdrive/My Drive/Diss/trained_models/Autoencoder', map_location=torch.device('cpu'))\n",
        "    autoEnc.load_state_dict(model_dict['model_state_dict'])\n",
        "  for gan_num in range(4):\n",
        "    file_name_load = \"GAN_{:d}_images.npy\".format(gan_num) if gan_num > 0 else \"Real_images.npy\"\n",
        "    fake_test = np.load('/content/gdrive/My Drive/Diss/Images_Testing/'+file_name_load)\n",
        "    for i in range(1000):\n",
        "      img = fake_test[i]\n",
        "      if (fp_extraction_method == 'Marra'):\n",
        "        if (denoising_method == \"median blur\"):\n",
        "          dst = cv2.medianBlur(img, 3)\n",
        "        elif (denoising_method == \"gaussian blur\"):\n",
        "          dst = cv2.GaussianBlur(img, (3,3), 1)\n",
        "        residual = (img - dst).flatten()\n",
        "        dist_list = [np.linalg.norm(fp - residual) for fp in fp_list]\n",
        "        preds.append(labels[dist_list.index(min(dist_list))])\n",
        "      elif (fp_extraction_method == 'Yu'):\n",
        "        dst = autoEnc(torch.from_numpy(img.reshape(1,1,28,28)))\n",
        "        dst = dst.detach().numpy().reshape(28,28)\n",
        "        residual = (img - dst).flatten()\n",
        "        coef_list = [np.corrcoef(fp, residual)[0][1] for fp in fp_list]\n",
        "        preds.append(labels[coef_list.index(max(coef_list))])\n",
        "  return preds"
      ],
      "execution_count": 15,
      "outputs": []
    },
    {
      "cell_type": "code",
      "metadata": {
        "id": "mS-Lkx6y6w6Y"
      },
      "source": [
        "labels = ['real', 'GAN 1', 'GAN 2', 'GAN 3']"
      ],
      "execution_count": 38,
      "outputs": []
    },
    {
      "cell_type": "code",
      "metadata": {
        "id": "0bfv4nAl4mNs"
      },
      "source": [
        "def plot_confusion_matrix(preds):\n",
        "  cm = confusion_matrix(ground_truth, preds, labels)\n",
        "  cm_plot = ConfusionMatrixDisplay(cm, labels)\n",
        "  cm_plot.plot( include_values=True, values_format='d')\n",
        "  plt.show()"
      ],
      "execution_count": 40,
      "outputs": []
    },
    {
      "cell_type": "code",
      "metadata": {
        "id": "ZdMdd5UO5HTf"
      },
      "source": [
        "from sklearn.metrics import precision_recall_fscore_support\n",
        "def plot_prec_recall_chart(preds):\n",
        "  scores = precision_recall_fscore_support(ground_truth, preds, labels = labels)\n",
        "  precision_scores = scores[0]\n",
        "  recall_scores = scores[1]\n",
        "\n",
        "  ind = np.arange(4)  # the x locations for the groups\n",
        "  width = 0.35  # the width of the bars\n",
        "\n",
        "  fig, ax = plt.subplots()\n",
        "  rects1 = ax.bar(ind - width/2, precision_scores, width, label='Precision')\n",
        "  rects2 = ax.bar(ind + width/2, recall_scores, width, label='Recall')\n",
        "\n",
        "  ax.set_xticks(ind)\n",
        "  ax.set_xticklabels(labels)\n",
        "\n",
        "  ax.set_ylim(0,1.2)\n",
        "  ax.legend()\n",
        "\n",
        "  for rect in rects1+rects2:\n",
        "    height = rect.get_height()\n",
        "    ax.annotate('{}'.format(round(height, 3)),\n",
        "                xy=(rect.get_x() + rect.get_width() / 2, height),\n",
        "                xytext=(0, 3),  # use 3 points offset\n",
        "                textcoords=\"offset points\",  # in both directions\n",
        "                ha='center', va='bottom')\n",
        "\n",
        "\n",
        "  plt.axhline(y=0.25,linestyle='dashed', color='k')\n",
        "  plt.yticks([0.00, 0.20, 0.25, 0.40, 0.60, 0.80, 1.00,1.20], [0.00, 0.20, 'Baseline' ,0.40,0.60,0.80,1.00])\n",
        "\n",
        "  fig.tight_layout()\n",
        "\n",
        "  plt.show()\n"
      ],
      "execution_count": 60,
      "outputs": []
    },
    {
      "cell_type": "code",
      "metadata": {
        "id": "BhF9E_TfKh0B"
      },
      "source": [
        "ground_truth = (['real']*1000) + (['GAN 1']*1000) + (['GAN 2']*1000) + (['GAN 3']*1000)"
      ],
      "execution_count": 16,
      "outputs": []
    },
    {
      "cell_type": "code",
      "metadata": {
        "id": "YocFfYunsjKK"
      },
      "source": [
        "marra_preds = get_predictions('Marra')\n",
        "np.save('/content/gdrive/My Drive/Diss/Marra/Predictions/NN_median_blur', marra_preds)"
      ],
      "execution_count": 21,
      "outputs": []
    },
    {
      "cell_type": "code",
      "metadata": {
        "colab": {
          "base_uri": "https://localhost:8080/"
        },
        "id": "FhoaP2PB7eiL",
        "outputId": "bac85205-466a-4870-c39c-eb72868f28c0"
      },
      "source": [
        "print(\"Accuracy of Marra method = {}\".format(accuracy_score(ground_truth, marra_preds)))"
      ],
      "execution_count": 49,
      "outputs": [
        {
          "output_type": "stream",
          "text": [
            "Accuracy of Marra method = 0.63025\n"
          ],
          "name": "stdout"
        }
      ]
    },
    {
      "cell_type": "code",
      "metadata": {
        "colab": {
          "base_uri": "https://localhost:8080/",
          "height": 283
        },
        "id": "1ee8vxk4KlVW",
        "outputId": "9cebd041-54fb-460c-ba1b-f2d9a9ef2874"
      },
      "source": [
        "plot_confusion_matrix(marra_preds)\n",
        "\n"
      ],
      "execution_count": 61,
      "outputs": [
        {
          "output_type": "display_data",
          "data": {
            "image/png": "[encoded data removed]",
            "text/plain": [
              "<Figure size 432x288 with 2 Axes>"
            ]
          },
          "metadata": {
            "tags": [],
            "needs_background": "light"
          }
        }
      ]
    },
    {
      "cell_type": "code",
      "metadata": {
        "colab": {
          "base_uri": "https://localhost:8080/",
          "height": 297
        },
        "id": "iIYLMBL0KoH5",
        "outputId": "6d8c8fd1-b30f-4bd5-f91c-781d74b4dba4"
      },
      "source": [
        "plot_prec_recall_chart(marra_preds)"
      ],
      "execution_count": 62,
      "outputs": [
        {
          "output_type": "display_data",
          "data": {
            "image/png": "[encoded data removed]",
            "text/plain": [
              "<Figure size 432x288 with 1 Axes>"
            ]
          },
          "metadata": {
            "tags": [],
            "needs_background": "light"
          }
        }
      ]
    },
    {
      "cell_type": "code",
      "metadata": {
        "colab": {
          "base_uri": "https://localhost:8080/"
        },
        "id": "mVPCijk3suqk",
        "outputId": "bed804fb-073b-4d28-84cc-942b6df294e7"
      },
      "source": [
        "yu_preds = get_predictions('Yu')\n",
        "\n",
        "\n"
      ],
      "execution_count": 26,
      "outputs": [
        {
          "output_type": "stream",
          "text": [
            "/usr/local/lib/python3.6/dist-packages/torch/nn/functional.py:1639: UserWarning: nn.functional.sigmoid is deprecated. Use torch.sigmoid instead.\n",
            "  warnings.warn(\"nn.functional.sigmoid is deprecated. Use torch.sigmoid instead.\")\n"
          ],
          "name": "stderr"
        }
      ]
    },
    {
      "cell_type": "code",
      "metadata": {
        "colab": {
          "base_uri": "https://localhost:8080/"
        },
        "id": "jLVObQ8F7y7m",
        "outputId": "d91a2013-cbc6-4b8e-9953-e937be42b2f4"
      },
      "source": [
        "print(\"Accuracy of Yu method = {}\".format(accuracy_score(ground_truth, yu_preds)))"
      ],
      "execution_count": 51,
      "outputs": [
        {
          "output_type": "stream",
          "text": [
            "Accuracy of Yu method = 0.8785\n"
          ],
          "name": "stdout"
        }
      ]
    },
    {
      "cell_type": "code",
      "metadata": {
        "colab": {
          "base_uri": "https://localhost:8080/",
          "height": 279
        },
        "id": "HAPbFKjOujs5",
        "outputId": "b4ba8e74-5b75-4ccd-8fe2-c0976db349e4"
      },
      "source": [
        "plot_confusion_matrix(yu_preds)"
      ],
      "execution_count": 45,
      "outputs": [
        {
          "output_type": "display_data",
          "data": {
            "image/png": "[encoded data removed]",
            "text/plain": [
              "<Figure size 432x288 with 2 Axes>"
            ]
          },
          "metadata": {
            "tags": [],
            "needs_background": "light"
          }
        }
      ]
    },
    {
      "cell_type": "code",
      "metadata": {
        "colab": {
          "base_uri": "https://localhost:8080/",
          "height": 297
        },
        "id": "MzCsEOBT5zVG",
        "outputId": "e0d9ae0a-79aa-4c0e-f4ba-40efe8e605ac"
      },
      "source": [
        "plot_prec_recall_chart(yu_preds)"
      ],
      "execution_count": 63,
      "outputs": [
        {
          "output_type": "display_data",
          "data": {
            "image/png": "[encoded data removed]",
            "text/plain": [
              "<Figure size 432x288 with 1 Axes>"
            ]
          },
          "metadata": {
            "tags": [],
            "needs_background": "light"
          }
        }
      ]
    },
    {
      "cell_type": "code",
      "metadata": {
        "id": "AGb91Afb51gx"
      },
      "source": [
        ""
      ],
      "execution_count": null,
      "outputs": []
    }
  ]
}