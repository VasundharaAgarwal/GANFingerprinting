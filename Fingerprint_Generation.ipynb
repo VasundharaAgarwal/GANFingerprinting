{
  "nbformat": 4,
  "nbformat_minor": 0,
  "metadata": {
    "colab": {
      "name": "Fingerprint_Generation.ipynb",
      "provenance": [],
      "authorship_tag": "ABX9TyPcMlB++NxM/4QIixNv0PoT",
      "include_colab_link": true
    },
    "kernelspec": {
      "name": "python3",
      "display_name": "Python 3"
    },
    "widgets": {
      "application/vnd.jupyter.widget-state+json": {
        "8fd1e93f477a4e0ea9ce8f0fb9ecfed8": {
          "model_module": "@jupyter-widgets/controls",
          "model_name": "HBoxModel",
          "state": {
            "_view_name": "HBoxView",
            "_dom_classes": [],
            "_model_name": "HBoxModel",
            "_view_module": "@jupyter-widgets/controls",
            "_model_module_version": "1.5.0",
            "_view_count": null,
            "_view_module_version": "1.5.0",
            "box_style": "",
            "layout": "IPY_MODEL_df4f6dd9564f4142bfb8590482440049",
            "_model_module": "@jupyter-widgets/controls",
            "children": [
              "IPY_MODEL_145e72b462164496a84688665db10694",
              "IPY_MODEL_12fda2af1e6944e6b1d815ed37e45f40"
            ]
          }
        },
        "df4f6dd9564f4142bfb8590482440049": {
          "model_module": "@jupyter-widgets/base",
          "model_name": "LayoutModel",
          "state": {
            "_view_name": "LayoutView",
            "grid_template_rows": null,
            "right": null,
            "justify_content": null,
            "_view_module": "@jupyter-widgets/base",
            "overflow": null,
            "_model_module_version": "1.2.0",
            "_view_count": null,
            "flex_flow": null,
            "width": null,
            "min_width": null,
            "border": null,
            "align_items": null,
            "bottom": null,
            "_model_module": "@jupyter-widgets/base",
            "top": null,
            "grid_column": null,
            "overflow_y": null,
            "overflow_x": null,
            "grid_auto_flow": null,
            "grid_area": null,
            "grid_template_columns": null,
            "flex": null,
            "_model_name": "LayoutModel",
            "justify_items": null,
            "grid_row": null,
            "max_height": null,
            "align_content": null,
            "visibility": null,
            "align_self": null,
            "height": null,
            "min_height": null,
            "padding": null,
            "grid_auto_rows": null,
            "grid_gap": null,
            "max_width": null,
            "order": null,
            "_view_module_version": "1.2.0",
            "grid_template_areas": null,
            "object_position": null,
            "object_fit": null,
            "grid_auto_columns": null,
            "margin": null,
            "display": null,
            "left": null
          }
        },
        "145e72b462164496a84688665db10694": {
          "model_module": "@jupyter-widgets/controls",
          "model_name": "FloatProgressModel",
          "state": {
            "_view_name": "ProgressView",
            "style": "IPY_MODEL_aa2a51070cab4c899bc00181c8708651",
            "_dom_classes": [],
            "description": "",
            "_model_name": "FloatProgressModel",
            "bar_style": "info",
            "max": 1,
            "_view_module": "@jupyter-widgets/controls",
            "_model_module_version": "1.5.0",
            "value": 1,
            "_view_count": null,
            "_view_module_version": "1.5.0",
            "orientation": "horizontal",
            "min": 0,
            "description_tooltip": null,
            "_model_module": "@jupyter-widgets/controls",
            "layout": "IPY_MODEL_6448f2e6a0614336b73cdb40b14eacd0"
          }
        },
        "12fda2af1e6944e6b1d815ed37e45f40": {
          "model_module": "@jupyter-widgets/controls",
          "model_name": "HTMLModel",
          "state": {
            "_view_name": "HTMLView",
            "style": "IPY_MODEL_ede55c6fecb7491da0a9c26603f02b05",
            "_dom_classes": [],
            "description": "",
            "_model_name": "HTMLModel",
            "placeholder": "​",
            "_view_module": "@jupyter-widgets/controls",
            "_model_module_version": "1.5.0",
            "value": " 9920512/? [00:20&lt;00:00, 1091564.99it/s]",
            "_view_count": null,
            "_view_module_version": "1.5.0",
            "description_tooltip": null,
            "_model_module": "@jupyter-widgets/controls",
            "layout": "IPY_MODEL_4368fd319f7242a4ad90a722d268910d"
          }
        },
        "aa2a51070cab4c899bc00181c8708651": {
          "model_module": "@jupyter-widgets/controls",
          "model_name": "ProgressStyleModel",
          "state": {
            "_view_name": "StyleView",
            "_model_name": "ProgressStyleModel",
            "description_width": "initial",
            "_view_module": "@jupyter-widgets/base",
            "_model_module_version": "1.5.0",
            "_view_count": null,
            "_view_module_version": "1.2.0",
            "bar_color": null,
            "_model_module": "@jupyter-widgets/controls"
          }
        },
        "6448f2e6a0614336b73cdb40b14eacd0": {
          "model_module": "@jupyter-widgets/base",
          "model_name": "LayoutModel",
          "state": {
            "_view_name": "LayoutView",
            "grid_template_rows": null,
            "right": null,
            "justify_content": null,
            "_view_module": "@jupyter-widgets/base",
            "overflow": null,
            "_model_module_version": "1.2.0",
            "_view_count": null,
            "flex_flow": null,
            "width": null,
            "min_width": null,
            "border": null,
            "align_items": null,
            "bottom": null,
            "_model_module": "@jupyter-widgets/base",
            "top": null,
            "grid_column": null,
            "overflow_y": null,
            "overflow_x": null,
            "grid_auto_flow": null,
            "grid_area": null,
            "grid_template_columns": null,
            "flex": null,
            "_model_name": "LayoutModel",
            "justify_items": null,
            "grid_row": null,
            "max_height": null,
            "align_content": null,
            "visibility": null,
            "align_self": null,
            "height": null,
            "min_height": null,
            "padding": null,
            "grid_auto_rows": null,
            "grid_gap": null,
            "max_width": null,
            "order": null,
            "_view_module_version": "1.2.0",
            "grid_template_areas": null,
            "object_position": null,
            "object_fit": null,
            "grid_auto_columns": null,
            "margin": null,
            "display": null,
            "left": null
          }
        },
        "ede55c6fecb7491da0a9c26603f02b05": {
          "model_module": "@jupyter-widgets/controls",
          "model_name": "DescriptionStyleModel",
          "state": {
            "_view_name": "StyleView",
            "_model_name": "DescriptionStyleModel",
            "description_width": "",
            "_view_module": "@jupyter-widgets/base",
            "_model_module_version": "1.5.0",
            "_view_count": null,
            "_view_module_version": "1.2.0",
            "_model_module": "@jupyter-widgets/controls"
          }
        },
        "4368fd319f7242a4ad90a722d268910d": {
          "model_module": "@jupyter-widgets/base",
          "model_name": "LayoutModel",
          "state": {
            "_view_name": "LayoutView",
            "grid_template_rows": null,
            "right": null,
            "justify_content": null,
            "_view_module": "@jupyter-widgets/base",
            "overflow": null,
            "_model_module_version": "1.2.0",
            "_view_count": null,
            "flex_flow": null,
            "width": null,
            "min_width": null,
            "border": null,
            "align_items": null,
            "bottom": null,
            "_model_module": "@jupyter-widgets/base",
            "top": null,
            "grid_column": null,
            "overflow_y": null,
            "overflow_x": null,
            "grid_auto_flow": null,
            "grid_area": null,
            "grid_template_columns": null,
            "flex": null,
            "_model_name": "LayoutModel",
            "justify_items": null,
            "grid_row": null,
            "max_height": null,
            "align_content": null,
            "visibility": null,
            "align_self": null,
            "height": null,
            "min_height": null,
            "padding": null,
            "grid_auto_rows": null,
            "grid_gap": null,
            "max_width": null,
            "order": null,
            "_view_module_version": "1.2.0",
            "grid_template_areas": null,
            "object_position": null,
            "object_fit": null,
            "grid_auto_columns": null,
            "margin": null,
            "display": null,
            "left": null
          }
        },
        "cca8b147748b4cdd82026083b4f45d1c": {
          "model_module": "@jupyter-widgets/controls",
          "model_name": "HBoxModel",
          "state": {
            "_view_name": "HBoxView",
            "_dom_classes": [],
            "_model_name": "HBoxModel",
            "_view_module": "@jupyter-widgets/controls",
            "_model_module_version": "1.5.0",
            "_view_count": null,
            "_view_module_version": "1.5.0",
            "box_style": "",
            "layout": "IPY_MODEL_eaee1a64b52540c6aafe07d53e59c024",
            "_model_module": "@jupyter-widgets/controls",
            "children": [
              "IPY_MODEL_95f8a670cf72471cb092c53d890757bd",
              "IPY_MODEL_8b34d4be364c43c39962c3944a96c904"
            ]
          }
        },
        "eaee1a64b52540c6aafe07d53e59c024": {
          "model_module": "@jupyter-widgets/base",
          "model_name": "LayoutModel",
          "state": {
            "_view_name": "LayoutView",
            "grid_template_rows": null,
            "right": null,
            "justify_content": null,
            "_view_module": "@jupyter-widgets/base",
            "overflow": null,
            "_model_module_version": "1.2.0",
            "_view_count": null,
            "flex_flow": null,
            "width": null,
            "min_width": null,
            "border": null,
            "align_items": null,
            "bottom": null,
            "_model_module": "@jupyter-widgets/base",
            "top": null,
            "grid_column": null,
            "overflow_y": null,
            "overflow_x": null,
            "grid_auto_flow": null,
            "grid_area": null,
            "grid_template_columns": null,
            "flex": null,
            "_model_name": "LayoutModel",
            "justify_items": null,
            "grid_row": null,
            "max_height": null,
            "align_content": null,
            "visibility": null,
            "align_self": null,
            "height": null,
            "min_height": null,
            "padding": null,
            "grid_auto_rows": null,
            "grid_gap": null,
            "max_width": null,
            "order": null,
            "_view_module_version": "1.2.0",
            "grid_template_areas": null,
            "object_position": null,
            "object_fit": null,
            "grid_auto_columns": null,
            "margin": null,
            "display": null,
            "left": null
          }
        },
        "95f8a670cf72471cb092c53d890757bd": {
          "model_module": "@jupyter-widgets/controls",
          "model_name": "FloatProgressModel",
          "state": {
            "_view_name": "ProgressView",
            "style": "IPY_MODEL_4ecb59f6386f45ba983c4acaeb302748",
            "_dom_classes": [],
            "description": "",
            "_model_name": "FloatProgressModel",
            "bar_style": "success",
            "max": 1,
            "_view_module": "@jupyter-widgets/controls",
            "_model_module_version": "1.5.0",
            "value": 1,
            "_view_count": null,
            "_view_module_version": "1.5.0",
            "orientation": "horizontal",
            "min": 0,
            "description_tooltip": null,
            "_model_module": "@jupyter-widgets/controls",
            "layout": "IPY_MODEL_704b68d9a6714d11a68f664c53b60d8d"
          }
        },
        "8b34d4be364c43c39962c3944a96c904": {
          "model_module": "@jupyter-widgets/controls",
          "model_name": "HTMLModel",
          "state": {
            "_view_name": "HTMLView",
            "style": "IPY_MODEL_b64fd8c750954259bef2797ebbbc4a2a",
            "_dom_classes": [],
            "description": "",
            "_model_name": "HTMLModel",
            "placeholder": "​",
            "_view_module": "@jupyter-widgets/controls",
            "_model_module_version": "1.5.0",
            "value": " 32768/? [00:08&lt;00:00, 4075.44it/s]",
            "_view_count": null,
            "_view_module_version": "1.5.0",
            "description_tooltip": null,
            "_model_module": "@jupyter-widgets/controls",
            "layout": "IPY_MODEL_89636e7c5bfa41b5a6c72d1128cd453f"
          }
        },
        "4ecb59f6386f45ba983c4acaeb302748": {
          "model_module": "@jupyter-widgets/controls",
          "model_name": "ProgressStyleModel",
          "state": {
            "_view_name": "StyleView",
            "_model_name": "ProgressStyleModel",
            "description_width": "initial",
            "_view_module": "@jupyter-widgets/base",
            "_model_module_version": "1.5.0",
            "_view_count": null,
            "_view_module_version": "1.2.0",
            "bar_color": null,
            "_model_module": "@jupyter-widgets/controls"
          }
        },
        "704b68d9a6714d11a68f664c53b60d8d": {
          "model_module": "@jupyter-widgets/base",
          "model_name": "LayoutModel",
          "state": {
            "_view_name": "LayoutView",
            "grid_template_rows": null,
            "right": null,
            "justify_content": null,
            "_view_module": "@jupyter-widgets/base",
            "overflow": null,
            "_model_module_version": "1.2.0",
            "_view_count": null,
            "flex_flow": null,
            "width": null,
            "min_width": null,
            "border": null,
            "align_items": null,
            "bottom": null,
            "_model_module": "@jupyter-widgets/base",
            "top": null,
            "grid_column": null,
            "overflow_y": null,
            "overflow_x": null,
            "grid_auto_flow": null,
            "grid_area": null,
            "grid_template_columns": null,
            "flex": null,
            "_model_name": "LayoutModel",
            "justify_items": null,
            "grid_row": null,
            "max_height": null,
            "align_content": null,
            "visibility": null,
            "align_self": null,
            "height": null,
            "min_height": null,
            "padding": null,
            "grid_auto_rows": null,
            "grid_gap": null,
            "max_width": null,
            "order": null,
            "_view_module_version": "1.2.0",
            "grid_template_areas": null,
            "object_position": null,
            "object_fit": null,
            "grid_auto_columns": null,
            "margin": null,
            "display": null,
            "left": null
          }
        },
        "b64fd8c750954259bef2797ebbbc4a2a": {
          "model_module": "@jupyter-widgets/controls",
          "model_name": "DescriptionStyleModel",
          "state": {
            "_view_name": "StyleView",
            "_model_name": "DescriptionStyleModel",
            "description_width": "",
            "_view_module": "@jupyter-widgets/base",
            "_model_module_version": "1.5.0",
            "_view_count": null,
            "_view_module_version": "1.2.0",
            "_model_module": "@jupyter-widgets/controls"
          }
        },
        "89636e7c5bfa41b5a6c72d1128cd453f": {
          "model_module": "@jupyter-widgets/base",
          "model_name": "LayoutModel",
          "state": {
            "_view_name": "LayoutView",
            "grid_template_rows": null,
            "right": null,
            "justify_content": null,
            "_view_module": "@jupyter-widgets/base",
            "overflow": null,
            "_model_module_version": "1.2.0",
            "_view_count": null,
            "flex_flow": null,
            "width": null,
            "min_width": null,
            "border": null,
            "align_items": null,
            "bottom": null,
            "_model_module": "@jupyter-widgets/base",
            "top": null,
            "grid_column": null,
            "overflow_y": null,
            "overflow_x": null,
            "grid_auto_flow": null,
            "grid_area": null,
            "grid_template_columns": null,
            "flex": null,
            "_model_name": "LayoutModel",
            "justify_items": null,
            "grid_row": null,
            "max_height": null,
            "align_content": null,
            "visibility": null,
            "align_self": null,
            "height": null,
            "min_height": null,
            "padding": null,
            "grid_auto_rows": null,
            "grid_gap": null,
            "max_width": null,
            "order": null,
            "_view_module_version": "1.2.0",
            "grid_template_areas": null,
            "object_position": null,
            "object_fit": null,
            "grid_auto_columns": null,
            "margin": null,
            "display": null,
            "left": null
          }
        },
        "287a2fd2eaeb466dbe95fd4e0a9142eb": {
          "model_module": "@jupyter-widgets/controls",
          "model_name": "HBoxModel",
          "state": {
            "_view_name": "HBoxView",
            "_dom_classes": [],
            "_model_name": "HBoxModel",
            "_view_module": "@jupyter-widgets/controls",
            "_model_module_version": "1.5.0",
            "_view_count": null,
            "_view_module_version": "1.5.0",
            "box_style": "",
            "layout": "IPY_MODEL_242bbb882dea411dbf59de6eaf618880",
            "_model_module": "@jupyter-widgets/controls",
            "children": [
              "IPY_MODEL_6d222055d39d438fac05e82fb987dace",
              "IPY_MODEL_45cd10580fc0463d978ba0779ce6545f"
            ]
          }
        },
        "242bbb882dea411dbf59de6eaf618880": {
          "model_module": "@jupyter-widgets/base",
          "model_name": "LayoutModel",
          "state": {
            "_view_name": "LayoutView",
            "grid_template_rows": null,
            "right": null,
            "justify_content": null,
            "_view_module": "@jupyter-widgets/base",
            "overflow": null,
            "_model_module_version": "1.2.0",
            "_view_count": null,
            "flex_flow": null,
            "width": null,
            "min_width": null,
            "border": null,
            "align_items": null,
            "bottom": null,
            "_model_module": "@jupyter-widgets/base",
            "top": null,
            "grid_column": null,
            "overflow_y": null,
            "overflow_x": null,
            "grid_auto_flow": null,
            "grid_area": null,
            "grid_template_columns": null,
            "flex": null,
            "_model_name": "LayoutModel",
            "justify_items": null,
            "grid_row": null,
            "max_height": null,
            "align_content": null,
            "visibility": null,
            "align_self": null,
            "height": null,
            "min_height": null,
            "padding": null,
            "grid_auto_rows": null,
            "grid_gap": null,
            "max_width": null,
            "order": null,
            "_view_module_version": "1.2.0",
            "grid_template_areas": null,
            "object_position": null,
            "object_fit": null,
            "grid_auto_columns": null,
            "margin": null,
            "display": null,
            "left": null
          }
        },
        "6d222055d39d438fac05e82fb987dace": {
          "model_module": "@jupyter-widgets/controls",
          "model_name": "FloatProgressModel",
          "state": {
            "_view_name": "ProgressView",
            "style": "IPY_MODEL_86dfce6a84204f8eb9b012fe2a3ec822",
            "_dom_classes": [],
            "description": "",
            "_model_name": "FloatProgressModel",
            "bar_style": "success",
            "max": 1,
            "_view_module": "@jupyter-widgets/controls",
            "_model_module_version": "1.5.0",
            "value": 1,
            "_view_count": null,
            "_view_module_version": "1.5.0",
            "orientation": "horizontal",
            "min": 0,
            "description_tooltip": null,
            "_model_module": "@jupyter-widgets/controls",
            "layout": "IPY_MODEL_e679bd2ddc444554b9b0b0cd610c0d25"
          }
        },
        "45cd10580fc0463d978ba0779ce6545f": {
          "model_module": "@jupyter-widgets/controls",
          "model_name": "HTMLModel",
          "state": {
            "_view_name": "HTMLView",
            "style": "IPY_MODEL_76d4bc151ce54357b8e1c413cd9ee1dd",
            "_dom_classes": [],
            "description": "",
            "_model_name": "HTMLModel",
            "placeholder": "​",
            "_view_module": "@jupyter-widgets/controls",
            "_model_module_version": "1.5.0",
            "value": " 1654784/? [00:07&lt;00:00, 212883.13it/s]",
            "_view_count": null,
            "_view_module_version": "1.5.0",
            "description_tooltip": null,
            "_model_module": "@jupyter-widgets/controls",
            "layout": "IPY_MODEL_4eaf577e2d5a4e1d901ee16c4d80e3e9"
          }
        },
        "86dfce6a84204f8eb9b012fe2a3ec822": {
          "model_module": "@jupyter-widgets/controls",
          "model_name": "ProgressStyleModel",
          "state": {
            "_view_name": "StyleView",
            "_model_name": "ProgressStyleModel",
            "description_width": "initial",
            "_view_module": "@jupyter-widgets/base",
            "_model_module_version": "1.5.0",
            "_view_count": null,
            "_view_module_version": "1.2.0",
            "bar_color": null,
            "_model_module": "@jupyter-widgets/controls"
          }
        },
        "e679bd2ddc444554b9b0b0cd610c0d25": {
          "model_module": "@jupyter-widgets/base",
          "model_name": "LayoutModel",
          "state": {
            "_view_name": "LayoutView",
            "grid_template_rows": null,
            "right": null,
            "justify_content": null,
            "_view_module": "@jupyter-widgets/base",
            "overflow": null,
            "_model_module_version": "1.2.0",
            "_view_count": null,
            "flex_flow": null,
            "width": null,
            "min_width": null,
            "border": null,
            "align_items": null,
            "bottom": null,
            "_model_module": "@jupyter-widgets/base",
            "top": null,
            "grid_column": null,
            "overflow_y": null,
            "overflow_x": null,
            "grid_auto_flow": null,
            "grid_area": null,
            "grid_template_columns": null,
            "flex": null,
            "_model_name": "LayoutModel",
            "justify_items": null,
            "grid_row": null,
            "max_height": null,
            "align_content": null,
            "visibility": null,
            "align_self": null,
            "height": null,
            "min_height": null,
            "padding": null,
            "grid_auto_rows": null,
            "grid_gap": null,
            "max_width": null,
            "order": null,
            "_view_module_version": "1.2.0",
            "grid_template_areas": null,
            "object_position": null,
            "object_fit": null,
            "grid_auto_columns": null,
            "margin": null,
            "display": null,
            "left": null
          }
        },
        "76d4bc151ce54357b8e1c413cd9ee1dd": {
          "model_module": "@jupyter-widgets/controls",
          "model_name": "DescriptionStyleModel",
          "state": {
            "_view_name": "StyleView",
            "_model_name": "DescriptionStyleModel",
            "description_width": "",
            "_view_module": "@jupyter-widgets/base",
            "_model_module_version": "1.5.0",
            "_view_count": null,
            "_view_module_version": "1.2.0",
            "_model_module": "@jupyter-widgets/controls"
          }
        },
        "4eaf577e2d5a4e1d901ee16c4d80e3e9": {
          "model_module": "@jupyter-widgets/base",
          "model_name": "LayoutModel",
          "state": {
            "_view_name": "LayoutView",
            "grid_template_rows": null,
            "right": null,
            "justify_content": null,
            "_view_module": "@jupyter-widgets/base",
            "overflow": null,
            "_model_module_version": "1.2.0",
            "_view_count": null,
            "flex_flow": null,
            "width": null,
            "min_width": null,
            "border": null,
            "align_items": null,
            "bottom": null,
            "_model_module": "@jupyter-widgets/base",
            "top": null,
            "grid_column": null,
            "overflow_y": null,
            "overflow_x": null,
            "grid_auto_flow": null,
            "grid_area": null,
            "grid_template_columns": null,
            "flex": null,
            "_model_name": "LayoutModel",
            "justify_items": null,
            "grid_row": null,
            "max_height": null,
            "align_content": null,
            "visibility": null,
            "align_self": null,
            "height": null,
            "min_height": null,
            "padding": null,
            "grid_auto_rows": null,
            "grid_gap": null,
            "max_width": null,
            "order": null,
            "_view_module_version": "1.2.0",
            "grid_template_areas": null,
            "object_position": null,
            "object_fit": null,
            "grid_auto_columns": null,
            "margin": null,
            "display": null,
            "left": null
          }
        },
        "8d736d4de09546cf8f15d8efafb621c0": {
          "model_module": "@jupyter-widgets/controls",
          "model_name": "HBoxModel",
          "state": {
            "_view_name": "HBoxView",
            "_dom_classes": [],
            "_model_name": "HBoxModel",
            "_view_module": "@jupyter-widgets/controls",
            "_model_module_version": "1.5.0",
            "_view_count": null,
            "_view_module_version": "1.5.0",
            "box_style": "",
            "layout": "IPY_MODEL_649b4711d2ce4bc6824faebcb8979322",
            "_model_module": "@jupyter-widgets/controls",
            "children": [
              "IPY_MODEL_5bde24564968499fb4f051907a594699",
              "IPY_MODEL_2bbe1af6f9b24613ae9a6b3fb421c51f"
            ]
          }
        },
        "649b4711d2ce4bc6824faebcb8979322": {
          "model_module": "@jupyter-widgets/base",
          "model_name": "LayoutModel",
          "state": {
            "_view_name": "LayoutView",
            "grid_template_rows": null,
            "right": null,
            "justify_content": null,
            "_view_module": "@jupyter-widgets/base",
            "overflow": null,
            "_model_module_version": "1.2.0",
            "_view_count": null,
            "flex_flow": null,
            "width": null,
            "min_width": null,
            "border": null,
            "align_items": null,
            "bottom": null,
            "_model_module": "@jupyter-widgets/base",
            "top": null,
            "grid_column": null,
            "overflow_y": null,
            "overflow_x": null,
            "grid_auto_flow": null,
            "grid_area": null,
            "grid_template_columns": null,
            "flex": null,
            "_model_name": "LayoutModel",
            "justify_items": null,
            "grid_row": null,
            "max_height": null,
            "align_content": null,
            "visibility": null,
            "align_self": null,
            "height": null,
            "min_height": null,
            "padding": null,
            "grid_auto_rows": null,
            "grid_gap": null,
            "max_width": null,
            "order": null,
            "_view_module_version": "1.2.0",
            "grid_template_areas": null,
            "object_position": null,
            "object_fit": null,
            "grid_auto_columns": null,
            "margin": null,
            "display": null,
            "left": null
          }
        },
        "5bde24564968499fb4f051907a594699": {
          "model_module": "@jupyter-widgets/controls",
          "model_name": "FloatProgressModel",
          "state": {
            "_view_name": "ProgressView",
            "style": "IPY_MODEL_41ae79c3371d469881597462bdb33c60",
            "_dom_classes": [],
            "description": "",
            "_model_name": "FloatProgressModel",
            "bar_style": "success",
            "max": 1,
            "_view_module": "@jupyter-widgets/controls",
            "_model_module_version": "1.5.0",
            "value": 1,
            "_view_count": null,
            "_view_module_version": "1.5.0",
            "orientation": "horizontal",
            "min": 0,
            "description_tooltip": null,
            "_model_module": "@jupyter-widgets/controls",
            "layout": "IPY_MODEL_3713c427d2544f87b2252d7b86b14c89"
          }
        },
        "2bbe1af6f9b24613ae9a6b3fb421c51f": {
          "model_module": "@jupyter-widgets/controls",
          "model_name": "HTMLModel",
          "state": {
            "_view_name": "HTMLView",
            "style": "IPY_MODEL_9332f0f1e6b24c328145731fba8b93e3",
            "_dom_classes": [],
            "description": "",
            "_model_name": "HTMLModel",
            "placeholder": "​",
            "_view_module": "@jupyter-widgets/controls",
            "_model_module_version": "1.5.0",
            "value": " 8192/? [00:07&lt;00:00, 1154.76it/s]",
            "_view_count": null,
            "_view_module_version": "1.5.0",
            "description_tooltip": null,
            "_model_module": "@jupyter-widgets/controls",
            "layout": "IPY_MODEL_0ab381cd461d435b86e407f69d026838"
          }
        },
        "41ae79c3371d469881597462bdb33c60": {
          "model_module": "@jupyter-widgets/controls",
          "model_name": "ProgressStyleModel",
          "state": {
            "_view_name": "StyleView",
            "_model_name": "ProgressStyleModel",
            "description_width": "initial",
            "_view_module": "@jupyter-widgets/base",
            "_model_module_version": "1.5.0",
            "_view_count": null,
            "_view_module_version": "1.2.0",
            "bar_color": null,
            "_model_module": "@jupyter-widgets/controls"
          }
        },
        "3713c427d2544f87b2252d7b86b14c89": {
          "model_module": "@jupyter-widgets/base",
          "model_name": "LayoutModel",
          "state": {
            "_view_name": "LayoutView",
            "grid_template_rows": null,
            "right": null,
            "justify_content": null,
            "_view_module": "@jupyter-widgets/base",
            "overflow": null,
            "_model_module_version": "1.2.0",
            "_view_count": null,
            "flex_flow": null,
            "width": null,
            "min_width": null,
            "border": null,
            "align_items": null,
            "bottom": null,
            "_model_module": "@jupyter-widgets/base",
            "top": null,
            "grid_column": null,
            "overflow_y": null,
            "overflow_x": null,
            "grid_auto_flow": null,
            "grid_area": null,
            "grid_template_columns": null,
            "flex": null,
            "_model_name": "LayoutModel",
            "justify_items": null,
            "grid_row": null,
            "max_height": null,
            "align_content": null,
            "visibility": null,
            "align_self": null,
            "height": null,
            "min_height": null,
            "padding": null,
            "grid_auto_rows": null,
            "grid_gap": null,
            "max_width": null,
            "order": null,
            "_view_module_version": "1.2.0",
            "grid_template_areas": null,
            "object_position": null,
            "object_fit": null,
            "grid_auto_columns": null,
            "margin": null,
            "display": null,
            "left": null
          }
        },
        "9332f0f1e6b24c328145731fba8b93e3": {
          "model_module": "@jupyter-widgets/controls",
          "model_name": "DescriptionStyleModel",
          "state": {
            "_view_name": "StyleView",
            "_model_name": "DescriptionStyleModel",
            "description_width": "",
            "_view_module": "@jupyter-widgets/base",
            "_model_module_version": "1.5.0",
            "_view_count": null,
            "_view_module_version": "1.2.0",
            "_model_module": "@jupyter-widgets/controls"
          }
        },
        "0ab381cd461d435b86e407f69d026838": {
          "model_module": "@jupyter-widgets/base",
          "model_name": "LayoutModel",
          "state": {
            "_view_name": "LayoutView",
            "grid_template_rows": null,
            "right": null,
            "justify_content": null,
            "_view_module": "@jupyter-widgets/base",
            "overflow": null,
            "_model_module_version": "1.2.0",
            "_view_count": null,
            "flex_flow": null,
            "width": null,
            "min_width": null,
            "border": null,
            "align_items": null,
            "bottom": null,
            "_model_module": "@jupyter-widgets/base",
            "top": null,
            "grid_column": null,
            "overflow_y": null,
            "overflow_x": null,
            "grid_auto_flow": null,
            "grid_area": null,
            "grid_template_columns": null,
            "flex": null,
            "_model_name": "LayoutModel",
            "justify_items": null,
            "grid_row": null,
            "max_height": null,
            "align_content": null,
            "visibility": null,
            "align_self": null,
            "height": null,
            "min_height": null,
            "padding": null,
            "grid_auto_rows": null,
            "grid_gap": null,
            "max_width": null,
            "order": null,
            "_view_module_version": "1.2.0",
            "grid_template_areas": null,
            "object_position": null,
            "object_fit": null,
            "grid_auto_columns": null,
            "margin": null,
            "display": null,
            "left": null
          }
        }
      }
    }
  },
  "cells": [
    {
      "cell_type": "markdown",
      "metadata": {
        "id": "view-in-github",
        "colab_type": "text"
      },
      "source": [
        "<a href=\"https://colab.research.google.com/github/VasundharaAgarwal/GANFingerprinting/blob/main/Fingerprint_Generation.ipynb\" target=\"_parent\"><img src=\"https://colab.research.google.com/assets/colab-badge.svg\" alt=\"Open In Colab\"/></a>"
      ]
    },
    {
      "cell_type": "code",
      "metadata": {
        "id": "DQz0OiZ0zKBh"
      },
      "source": [
        "import torch\n",
        "import os\n",
        "import random\n",
        "import numpy as np\n",
        "import cv2\n",
        "import matplotlib.pyplot as plt\n",
        "import torchvision\n",
        "import torchvision.utils as vutils"
      ],
      "execution_count": 139,
      "outputs": []
    },
    {
      "cell_type": "code",
      "metadata": {
        "id": "MNnMttR_y4ed",
        "colab": {
          "base_uri": "https://localhost:8080/"
        },
        "outputId": "06a22f79-eae5-4af4-d721-676375836534"
      },
      "source": [
        "from google.colab import drive\n",
        "drive.mount('/content/gdrive', force_remount=True)"
      ],
      "execution_count": 3,
      "outputs": [
        {
          "output_type": "stream",
          "text": [
            "Mounted at /content/gdrive\n"
          ],
          "name": "stdout"
        }
      ]
    },
    {
      "cell_type": "code",
      "metadata": {
        "id": "NZCkEDURgVWH"
      },
      "source": [
        "import sys\n",
        "sys.path.append('/content/gdrive/My Drive/')"
      ],
      "execution_count": 4,
      "outputs": []
    },
    {
      "cell_type": "code",
      "metadata": {
        "id": "RHFzeg4mgXWx"
      },
      "source": [
        "import model_architectures as ma"
      ],
      "execution_count": 5,
      "outputs": []
    },
    {
      "cell_type": "code",
      "metadata": {
        "id": "id75zj1oYLC_"
      },
      "source": [
        "manualSeed = 500\n",
        "\n",
        "torch.manual_seed(manualSeed)\n",
        "random.seed(manualSeed)\n",
        "np.random.seed(manualSeed)\n",
        "\n",
        "fixed_noise = torch.randn(512,  ma.nz, 1, 1)\n",
        "\n"
      ],
      "execution_count": 17,
      "outputs": []
    },
    {
      "cell_type": "code",
      "metadata": {
        "colab": {
          "base_uri": "https://localhost:8080/"
        },
        "id": "Sw3-jR1qYgsY",
        "outputId": "a1208527-882e-49a5-ff1c-ee675b07fa0f"
      },
      "source": [
        "netG1 = ma.Generator1(0)\n",
        "model_dict1 = torch.load('/content/gdrive/My Drive/GANS/GAN_1', map_location=torch.device('cpu'))\n",
        "netG1.load_state_dict(model_dict1['G_state_dict'])\n"
      ],
      "execution_count": 96,
      "outputs": [
        {
          "output_type": "execute_result",
          "data": {
            "text/plain": [
              "<All keys matched successfully>"
            ]
          },
          "metadata": {
            "tags": []
          },
          "execution_count": 96
        }
      ]
    },
    {
      "cell_type": "code",
      "metadata": {
        "colab": {
          "base_uri": "https://localhost:8080/"
        },
        "id": "d91CIkNvYh7-",
        "outputId": "698a4016-07da-46f0-a811-62f96cca061a"
      },
      "source": [
        "netG2 = ma.Generator2(0)\n",
        "model_dict2 = torch.load('/content/gdrive/My Drive/GANS/GAN_2', map_location=torch.device('cpu'))\n",
        "netG2.load_state_dict(model_dict2['G_state_dict'])\n"
      ],
      "execution_count": 19,
      "outputs": [
        {
          "output_type": "execute_result",
          "data": {
            "text/plain": [
              "<All keys matched successfully>"
            ]
          },
          "metadata": {
            "tags": []
          },
          "execution_count": 19
        }
      ]
    },
    {
      "cell_type": "code",
      "metadata": {
        "colab": {
          "base_uri": "https://localhost:8080/"
        },
        "id": "4k_hJ26TZIhM",
        "outputId": "b40c9b8e-cad0-41ce-b14a-5cded689648a"
      },
      "source": [
        "netG3 = ma.Generator3(0)\n",
        "model_dict3 = torch.load('/content/gdrive/My Drive/GANS/GAN_3', map_location=torch.device('cpu'))\n",
        "netG3.load_state_dict(model_dict3['G_state_dict'])\n"
      ],
      "execution_count": 20,
      "outputs": [
        {
          "output_type": "execute_result",
          "data": {
            "text/plain": [
              "<All keys matched successfully>"
            ]
          },
          "metadata": {
            "tags": []
          },
          "execution_count": 20
        }
      ]
    },
    {
      "cell_type": "code",
      "metadata": {
        "id": "YDfI3VZ5wy--"
      },
      "source": [
        "fake1_finger = netG1(fixed_noise).detach().numpy().reshape(512,28,28)\n",
        "fake2_finger = netG2(fixed_noise).detach().numpy().reshape(512,28,28)\n",
        "fake3_finger = netG3(fixed_noise).detach().numpy().reshape(512,28,28)"
      ],
      "execution_count": 21,
      "outputs": []
    },
    {
      "cell_type": "code",
      "metadata": {
        "colab": {
          "base_uri": "https://localhost:8080/",
          "height": 369,
          "referenced_widgets": [
            "8fd1e93f477a4e0ea9ce8f0fb9ecfed8",
            "df4f6dd9564f4142bfb8590482440049",
            "145e72b462164496a84688665db10694",
            "12fda2af1e6944e6b1d815ed37e45f40",
            "aa2a51070cab4c899bc00181c8708651",
            "6448f2e6a0614336b73cdb40b14eacd0",
            "ede55c6fecb7491da0a9c26603f02b05",
            "4368fd319f7242a4ad90a722d268910d",
            "cca8b147748b4cdd82026083b4f45d1c",
            "eaee1a64b52540c6aafe07d53e59c024",
            "95f8a670cf72471cb092c53d890757bd",
            "8b34d4be364c43c39962c3944a96c904",
            "4ecb59f6386f45ba983c4acaeb302748",
            "704b68d9a6714d11a68f664c53b60d8d",
            "b64fd8c750954259bef2797ebbbc4a2a",
            "89636e7c5bfa41b5a6c72d1128cd453f",
            "287a2fd2eaeb466dbe95fd4e0a9142eb",
            "242bbb882dea411dbf59de6eaf618880",
            "6d222055d39d438fac05e82fb987dace",
            "45cd10580fc0463d978ba0779ce6545f",
            "86dfce6a84204f8eb9b012fe2a3ec822",
            "e679bd2ddc444554b9b0b0cd610c0d25",
            "76d4bc151ce54357b8e1c413cd9ee1dd",
            "4eaf577e2d5a4e1d901ee16c4d80e3e9",
            "8d736d4de09546cf8f15d8efafb621c0",
            "649b4711d2ce4bc6824faebcb8979322",
            "5bde24564968499fb4f051907a594699",
            "2bbe1af6f9b24613ae9a6b3fb421c51f",
            "41ae79c3371d469881597462bdb33c60",
            "3713c427d2544f87b2252d7b86b14c89",
            "9332f0f1e6b24c328145731fba8b93e3",
            "0ab381cd461d435b86e407f69d026838"
          ]
        },
        "id": "397p8F7la4ZW",
        "outputId": "f174f665-ba8d-405f-ff7d-032a9cd69ee2"
      },
      "source": [
        "test_loader = torch.utils.data.DataLoader(torchvision.datasets.MNIST('/files/', train=False, download=True, transform=torchvision.transforms.ToTensor()), batch_size=1512)"
      ],
      "execution_count": 140,
      "outputs": [
        {
          "output_type": "stream",
          "text": [
            "Downloading http://yann.lecun.com/exdb/mnist/train-images-idx3-ubyte.gz to /files/MNIST/raw/train-images-idx3-ubyte.gz\n"
          ],
          "name": "stdout"
        },
        {
          "output_type": "display_data",
          "data": {
            "application/vnd.jupyter.widget-view+json": {
              "model_id": "8fd1e93f477a4e0ea9ce8f0fb9ecfed8",
              "version_minor": 0,
              "version_major": 2
            },
            "text/plain": [
              "HBox(children=(FloatProgress(value=1.0, bar_style='info', max=1.0), HTML(value='')))"
            ]
          },
          "metadata": {
            "tags": []
          }
        },
        {
          "output_type": "stream",
          "text": [
            "Extracting /files/MNIST/raw/train-images-idx3-ubyte.gz to /files/MNIST/raw\n",
            "Downloading http://yann.lecun.com/exdb/mnist/train-labels-idx1-ubyte.gz to /files/MNIST/raw/train-labels-idx1-ubyte.gz\n"
          ],
          "name": "stdout"
        },
        {
          "output_type": "display_data",
          "data": {
            "application/vnd.jupyter.widget-view+json": {
              "model_id": "cca8b147748b4cdd82026083b4f45d1c",
              "version_minor": 0,
              "version_major": 2
            },
            "text/plain": [
              "HBox(children=(FloatProgress(value=1.0, bar_style='info', max=1.0), HTML(value='')))"
            ]
          },
          "metadata": {
            "tags": []
          }
        },
        {
          "output_type": "stream",
          "text": [
            "Extracting /files/MNIST/raw/train-labels-idx1-ubyte.gz to /files/MNIST/raw\n",
            "Downloading http://yann.lecun.com/exdb/mnist/t10k-images-idx3-ubyte.gz to /files/MNIST/raw/t10k-images-idx3-ubyte.gz\n"
          ],
          "name": "stdout"
        },
        {
          "output_type": "display_data",
          "data": {
            "application/vnd.jupyter.widget-view+json": {
              "model_id": "287a2fd2eaeb466dbe95fd4e0a9142eb",
              "version_minor": 0,
              "version_major": 2
            },
            "text/plain": [
              "HBox(children=(FloatProgress(value=1.0, bar_style='info', max=1.0), HTML(value='')))"
            ]
          },
          "metadata": {
            "tags": []
          }
        },
        {
          "output_type": "stream",
          "text": [
            "Extracting /files/MNIST/raw/t10k-images-idx3-ubyte.gz to /files/MNIST/raw\n",
            "Downloading http://yann.lecun.com/exdb/mnist/t10k-labels-idx1-ubyte.gz to /files/MNIST/raw/t10k-labels-idx1-ubyte.gz\n"
          ],
          "name": "stdout"
        },
        {
          "output_type": "display_data",
          "data": {
            "application/vnd.jupyter.widget-view+json": {
              "model_id": "8d736d4de09546cf8f15d8efafb621c0",
              "version_minor": 0,
              "version_major": 2
            },
            "text/plain": [
              "HBox(children=(FloatProgress(value=1.0, bar_style='info', max=1.0), HTML(value='')))"
            ]
          },
          "metadata": {
            "tags": []
          }
        },
        {
          "output_type": "stream",
          "text": [
            "Extracting /files/MNIST/raw/t10k-labels-idx1-ubyte.gz to /files/MNIST/raw\n",
            "Processing...\n",
            "Done!\n"
          ],
          "name": "stdout"
        },
        {
          "output_type": "stream",
          "text": [
            "/usr/local/lib/python3.6/dist-packages/torchvision/datasets/mnist.py:480: UserWarning: The given NumPy array is not writeable, and PyTorch does not support non-writeable tensors. This means you can write to the underlying (supposedly non-writeable) NumPy array using the tensor. You may want to copy the array to protect its data or make it writeable before converting it to a tensor. This type of warning will be suppressed for the rest of this program. (Triggered internally at  /pytorch/torch/csrc/utils/tensor_numpy.cpp:141.)\n",
            "  return torch.from_numpy(parsed.astype(m[2], copy=False)).view(*s)\n"
          ],
          "name": "stderr"
        }
      ]
    },
    {
      "cell_type": "code",
      "metadata": {
        "colab": {
          "base_uri": "https://localhost:8080/"
        },
        "id": "NC0WPqiueKJB",
        "outputId": "1a4a9f07-1181-4911-9337-8ebe9ffd1190"
      },
      "source": [
        "real_img = images.numpy().reshape(1512,28,28)\n",
        "real_finger = real_img[:512]\n",
        "real_test = real_img[512:]\n"
      ],
      "execution_count": 161,
      "outputs": [
        {
          "output_type": "execute_result",
          "data": {
            "text/plain": [
              "((512, 28, 28), (1000, 28, 28))"
            ]
          },
          "metadata": {
            "tags": []
          },
          "execution_count": 161
        }
      ]
    },
    {
      "cell_type": "code",
      "metadata": {
        "id": "xySc_d2AdxLO"
      },
      "source": [
        "np.save('/content/gdrive/My Drive/GANS/Images_Fingerprints/GAN_1_images', fake1_finger)\n",
        "np.save('/content/gdrive/My Drive/GANS/Images_Fingerprints/GAN_2_images', fake2_finger)\n",
        "np.save('/content/gdrive/My Drive/GANS/Images_Fingerprints/GAN_3_images', fake3_finger)\n",
        "np.save('/content/gdrive/My Drive/GANS/Images_Fingerprints/Real_images', real_finger)"
      ],
      "execution_count": 162,
      "outputs": []
    },
    {
      "cell_type": "code",
      "metadata": {
        "id": "MnoSNUkZaTZ9"
      },
      "source": [
        "def compute_fingerprint(gan_num, denoising_method=\"median blur\"):\n",
        "  fig, ax = plt.subplots(1,4, figsize = (20,15))\n",
        "  N = [2,8,64,512]\n",
        "  file_name_load = \"GAN_{:d}_images.npy\".format(gan_num) if gan_num > 0 else \"Real_images.npy\"\n",
        "  images_finger = np.load('/content/gdrive/My Drive/GANS/Images_Fingerprints/'+file_name_load)\n",
        "  for ind, num in enumerate(N,0):\n",
        "    residue_sum = np.zeros((28,28))\n",
        "    for i in range(num):\n",
        "      img = images_finger[i]\n",
        "      dst = []\n",
        "      if (denoising_method == \"median blur\"):\n",
        "        dst = cv2.medianBlur(img, 3)\n",
        "      elif (denoising_method == \"gaussian blur\"):\n",
        "        dst = cv2.GaussianBlur(img, ksize=(3,3), sigmaX=1)\n",
        "      residue = img - dst\n",
        "      residue_sum += residue\n",
        "    residue_sum /= num\n",
        "    if(num == 512):\n",
        "      file_name_save = \"print_GAN_{:d}\".format(gan_num) if gan_num > 0 else \"print_real\"\n",
        "      np.save('/content/gdrive/My Drive/GANS/Fingerprints/'+file_name_save+'_{}'.format(denoising_method.replace(\" \",\"_\")), residue_sum)\n",
        "    ax[ind].imshow(residue_sum)\n",
        "    ax[ind].set_title('N = {:d}'.format(num))\n"
      ],
      "execution_count": 164,
      "outputs": []
    },
    {
      "cell_type": "code",
      "metadata": {
        "colab": {
          "base_uri": "https://localhost:8080/",
          "height": 273
        },
        "id": "WQim_AVefoZ3",
        "outputId": "b9d24d5e-2a01-4602-b27e-e9018e2e94d8"
      },
      "source": [
        "compute_fingerprint(0, \"median blur\")"
      ],
      "execution_count": 165,
      "outputs": [
        {
          "output_type": "display_data",
          "data": {
            "image/png": "[encoded data removed]",
            "text/plain": [
              "<Figure size 1440x1080 with 4 Axes>"
            ]
          },
          "metadata": {
            "tags": [],
            "needs_background": "light"
          }
        }
      ]
    },
    {
      "cell_type": "code",
      "metadata": {
        "colab": {
          "base_uri": "https://localhost:8080/",
          "height": 273
        },
        "id": "wrO3ElSiezfc",
        "outputId": "a56fa4b8-4b33-4bc1-940b-2a6ae66b190e"
      },
      "source": [
        "compute_fingerprint(1, \"median blur\")"
      ],
      "execution_count": 86,
      "outputs": [
        {
          "output_type": "display_data",
          "data": {
            "image/png": "[encoded data removed]",
            "text/plain": [
              "<Figure size 1440x1080 with 4 Axes>"
            ]
          },
          "metadata": {
            "tags": [],
            "needs_background": "light"
          }
        }
      ]
    },
    {
      "cell_type": "code",
      "metadata": {
        "colab": {
          "base_uri": "https://localhost:8080/",
          "height": 273
        },
        "id": "OyTwXa4hf2BI",
        "outputId": "02b7a691-1433-477d-82f1-631294dc4a4d"
      },
      "source": [
        "compute_fingerprint(2, \"median blur\")"
      ],
      "execution_count": 87,
      "outputs": [
        {
          "output_type": "display_data",
          "data": {
            "image/png": "[encoded data removed]",
            "text/plain": [
              "<Figure size 1440x1080 with 4 Axes>"
            ]
          },
          "metadata": {
            "tags": [],
            "needs_background": "light"
          }
        }
      ]
    },
    {
      "cell_type": "code",
      "metadata": {
        "colab": {
          "base_uri": "https://localhost:8080/",
          "height": 273
        },
        "id": "NXrW2HVnf4tB",
        "outputId": "38c22da8-06fe-4094-f9a0-905c8d0c81de"
      },
      "source": [
        "compute_fingerprint(3, \"median blur\")"
      ],
      "execution_count": 88,
      "outputs": [
        {
          "output_type": "display_data",
          "data": {
            "image/png": "[encoded data removed]",
            "text/plain": [
              "<Figure size 1440x1080 with 4 Axes>"
            ]
          },
          "metadata": {
            "tags": [],
            "needs_background": "light"
          }
        }
      ]
    },
    {
      "cell_type": "code",
      "metadata": {
        "colab": {
          "base_uri": "https://localhost:8080/",
          "height": 273
        },
        "id": "-Wk64qTwBIj0",
        "outputId": "d5780480-5f28-49bf-ab0d-c91fe0538a97"
      },
      "source": [
        "compute_fingerprint(1, \"gaussian blur\")"
      ],
      "execution_count": 53,
      "outputs": [
        {
          "output_type": "display_data",
          "data": {
            "image/png": "[encoded data removed]",
            "text/plain": [
              "<Figure size 1440x1080 with 4 Axes>"
            ]
          },
          "metadata": {
            "tags": [],
            "needs_background": "light"
          }
        }
      ]
    },
    {
      "cell_type": "code",
      "metadata": {
        "colab": {
          "base_uri": "https://localhost:8080/",
          "height": 273
        },
        "id": "1xzDILraB-MA",
        "outputId": "78d5f96b-820d-46ad-960a-85d22acbb65e"
      },
      "source": [
        "compute_fingerprint(2, \"gaussian blur\")"
      ],
      "execution_count": 54,
      "outputs": [
        {
          "output_type": "display_data",
          "data": {
            "image/png": "[encoded data removed]",
            "text/plain": [
              "<Figure size 1440x1080 with 4 Axes>"
            ]
          },
          "metadata": {
            "tags": [],
            "needs_background": "light"
          }
        }
      ]
    },
    {
      "cell_type": "code",
      "metadata": {
        "colab": {
          "base_uri": "https://localhost:8080/",
          "height": 273
        },
        "id": "GwezvY5PCA_w",
        "outputId": "6011860a-a80e-4fd7-90fe-79e1d0c6a5ce"
      },
      "source": [
        "compute_fingerprint(3, \"gaussian blur\")"
      ],
      "execution_count": 55,
      "outputs": [
        {
          "output_type": "display_data",
          "data": {
            "image/png": "[encoded data removed]",
            "text/plain": [
              "<Figure size 1440x1080 with 4 Axes>"
            ]
          },
          "metadata": {
            "tags": [],
            "needs_background": "light"
          }
        }
      ]
    },
    {
      "cell_type": "code",
      "metadata": {
        "id": "j4b2fb0mbNJ0"
      },
      "source": [
        "images, labels = next(iter(test_loader))"
      ],
      "execution_count": 149,
      "outputs": []
    },
    {
      "cell_type": "code",
      "metadata": {
        "id": "FgAq5LftdBu-"
      },
      "source": [
        ""
      ],
      "execution_count": 155,
      "outputs": []
    },
    {
      "cell_type": "code",
      "metadata": {
        "id": "Dgxbl8JWvPll"
      },
      "source": [
        "fixed_noise = torch.randn(1000,  ma.nz, 1, 1)\n",
        "fake1_test = netG1(fixed_noise).detach().numpy().reshape(1000,28,28)\n",
        "fake2_test = netG2(fixed_noise).detach().numpy().reshape(1000,28,28)\n",
        "fake3_test = netG3(fixed_noise).detach().numpy().reshape(1000,28,28)\n"
      ],
      "execution_count": 166,
      "outputs": []
    },
    {
      "cell_type": "code",
      "metadata": {
        "id": "h5qidX69FAyq"
      },
      "source": [
        "np.save('/content/gdrive/My Drive/GANS/Images_Testing/GAN_1_images', fake1_test)\n",
        "np.save('/content/gdrive/My Drive/GANS/Images_Testing/GAN_2_images', fake2_test)\n",
        "np.save('/content/gdrive/My Drive/GANS/Images_Testing/GAN_3_images', fake3_test)\n",
        "np.save('/content/gdrive/My Drive/GANS/Images_Testing/Real_images', real_test)"
      ],
      "execution_count": 185,
      "outputs": []
    },
    {
      "cell_type": "code",
      "metadata": {
        "id": "vULZtnqTHgVe"
      },
      "source": [
        "def load_fingerprints(denoising_method):\n",
        "  fingerprint_real = np.load('/content/gdrive/My Drive/GANS/Fingerprints/print_real_{}.npy'.format(denoising_method.replace(\" \", \"_\")))\n",
        "  fingerprint1 = np.load('/content/gdrive/My Drive/GANS/Fingerprints/print_GAN_1_{}.npy'.format(denoising_method.replace(\" \", \"_\")))\n",
        "  fingerprint2 = np.load('/content/gdrive/My Drive/GANS/Fingerprints/print_GAN_2_{}.npy'.format(denoising_method.replace(\" \", \"_\")))\n",
        "  fingerprint3 = np.load('/content/gdrive/My Drive/GANS/Fingerprints/print_GAN_3_{}.npy'.format(denoising_method.replace(\" \", \"_\")))\n",
        "  return (fingerprint_real.flatten(), fingerprint1.flatten(), fingerprint2.flatten(), fingerprint3.flatten())"
      ],
      "execution_count": 272,
      "outputs": []
    },
    {
      "cell_type": "code",
      "metadata": {
        "id": "mbdmGpIbkm2c"
      },
      "source": [
        "def compute_corr_coeff(gan_num, denoising_method=\"median blur\"):\n",
        "  coefs_real = []\n",
        "  coefs_gan_1 = []\n",
        "  coefs_gan_2 = []\n",
        "  coefs_gan_3 = []\n",
        "  file_name_load = \"GAN_{:d}_images.npy\".format(gan_num) if gan_num > 0 else \"Real_images.npy\"\n",
        "  fake_test = np.load('/content/gdrive/My Drive/GANS/Images_Testing/'+file_name_load)\n",
        "  fingerprint_real, fingerprint1, fingerprint2, fingerprint3 = load_fingerprints(denoising_method)\n",
        "  for i in range(1000):\n",
        "    img = fake_test[i]\n",
        "    if (denoising_method == \"median blur\"):\n",
        "      dst = cv2.medianBlur(img, 3)\n",
        "    elif (denoising_method == \"gaussian blur\"):\n",
        "      dst = cv2.GaussianBlur(img, (3,3), 1)\n",
        "    residual = (img - dst).flatten()\n",
        "    coef_real = np.corrcoef(fingerprint_real, residual)[0][1]\n",
        "    coef1 = np.corrcoef(fingerprint1, residual)[0][1]\n",
        "    coef2 = np.corrcoef(fingerprint2, residual)[0][1]\n",
        "    coef3 = np.corrcoef(fingerprint3, residual)[0][1]\n",
        "    coefs_real.append(coef_real)\n",
        "    coefs_gan_1.append(coef1)\n",
        "    coefs_gan_2.append(coef2)\n",
        "    coefs_gan_3.append(coef3)\n",
        "  \n",
        "  return (coefs_real, coefs_gan_1, coefs_gan_2, coefs_gan_3)\n",
        "  \n",
        "\n"
      ],
      "execution_count": 273,
      "outputs": []
    },
    {
      "cell_type": "markdown",
      "metadata": {
        "id": "e_a84o-vKDAm"
      },
      "source": [
        ""
      ]
    },
    {
      "cell_type": "code",
      "metadata": {
        "colab": {
          "base_uri": "https://localhost:8080/",
          "height": 279
        },
        "id": "NWuoj19LdkEU",
        "outputId": "dbe228d8-084b-43a4-874e-4e4f5d87a9ca"
      },
      "source": [
        "fig, ax = plt.subplots(1,4,figsize=(15,4), sharex=True, sharey=True)\n",
        "\n",
        "for i in range(4):\n",
        "  coefs_real, coefs_gan_1, coefs_gan_2, coefs_gan_3 = compute_corr_coeff(i, \"median blur\")\n",
        "  ax[i].hist(coefs_real, color='red', alpha= 0.25, label=\"real\")\n",
        "  ax[i].hist(coefs_gan_1, color='blue', alpha = 0.2, label=\"GAN 1\")\n",
        "  ax[i].hist(coefs_gan_2, color='yellow', alpha = 0.2, label=\"GAN 2\")\n",
        "  ax[i].hist(coefs_gan_3, color='green', alpha = 0.2, label=\"GAN 3\")\n",
        "  ax[i].set_xlabel('Correlation')\n",
        "plt.legend()\n",
        "plt.show()\n"
      ],
      "execution_count": 274,
      "outputs": [
        {
          "output_type": "display_data",
          "data": {
            "image/png": "[encoded data removed]",
            "text/plain": [
              "<Figure size 1080x288 with 4 Axes>"
            ]
          },
          "metadata": {
            "tags": [],
            "needs_background": "light"
          }
        }
      ]
    },
    {
      "cell_type": "code",
      "metadata": {
        "id": "j0fhC-Ro_Ian"
      },
      "source": [
        "def get_accuracy(gan_num, denoising_method=\"median blur\"):\n",
        "  total = 0\n",
        "  file_name_load = \"GAN_{:d}_images.npy\".format(gan_num) if gan_num > 0 else \"Real_images.npy\"\n",
        "  fake_test = np.load('/content/gdrive/My Drive/GANS/Images_Testing/'+file_name_load)\n",
        "  for i in range(1000):\n",
        "    \n",
        "    img = fake_test[i]\n",
        "    if (denoising_method == \"median blur\"):\n",
        "      dst = cv2.medianBlur(img, 3)\n",
        "    elif (denoising_method == \"gaussian blur\"):\n",
        "      dst = cv2.GaussianBlur(img, (3,3), 1)\n",
        "    residual = (img - dst).flatten()\n",
        "    fingerprint_real, fingerprint1, fingerprint2, fingerprint3 = load_fingerprints(denoising_method)\n",
        "    dist_real = np.linalg.norm(fingerprint_real - residual)\n",
        "    dist_1 = np.linalg.norm(fingerprint1 - residual)\n",
        "    dist_2 = np.linalg.norm(fingerprint2 - residual)\n",
        "    dist_3 = np.linalg.norm(fingerprint3 -  residual)\n",
        "    scores = [dist_real, dist_1, dist_2, dist_3]\n",
        "    if(scores.index(min(scores)) == gan_num):\n",
        "      total=total+1\n",
        "  return (total/1000)\n"
      ],
      "execution_count": 232,
      "outputs": []
    },
    {
      "cell_type": "code",
      "metadata": {
        "colab": {
          "base_uri": "https://localhost:8080/"
        },
        "id": "DvAup5ji3rF5",
        "outputId": "2df09b47-e1ed-4597-d839-628251113eaa"
      },
      "source": [
        "get_accuracy(0)"
      ],
      "execution_count": 233,
      "outputs": [
        {
          "output_type": "execute_result",
          "data": {
            "text/plain": [
              "510"
            ]
          },
          "metadata": {
            "tags": []
          },
          "execution_count": 233
        }
      ]
    },
    {
      "cell_type": "code",
      "metadata": {
        "id": "_GRmIQZp3seT"
      },
      "source": [
        ""
      ],
      "execution_count": null,
      "outputs": []
    }
  ]
}