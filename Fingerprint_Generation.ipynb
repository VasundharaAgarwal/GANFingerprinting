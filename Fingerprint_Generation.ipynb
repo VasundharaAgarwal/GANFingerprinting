{
  "nbformat": 4,
  "nbformat_minor": 0,
  "metadata": {
    "colab": {
      "name": "Fingerprint_Generation.ipynb",
      "provenance": [],
      "authorship_tag": "ABX9TyMAt0xOSY8wtMi96lPu41Gd",
      "include_colab_link": true
    },
    "kernelspec": {
      "name": "python3",
      "display_name": "Python 3"
    },
    "accelerator": "GPU"
  },
  "cells": [
    {
      "cell_type": "markdown",
      "metadata": {
        "id": "view-in-github",
        "colab_type": "text"
      },
      "source": [
        "<a href=\"https://colab.research.google.com/github/VasundharaAgarwal/GANFingerprinting/blob/main/Fingerprint_Generation.ipynb\" target=\"_parent\"><img src=\"https://colab.research.google.com/assets/colab-badge.svg\" alt=\"Open In Colab\"/></a>"
      ]
    },
    {
      "cell_type": "code",
      "metadata": {
        "id": "DQz0OiZ0zKBh"
      },
      "source": [
        "import torch\n",
        "import os\n",
        "import random\n",
        "import numpy as np\n",
        "import cv2\n",
        "import matplotlib.pyplot as plt"
      ],
      "execution_count": null,
      "outputs": []
    },
    {
      "cell_type": "code",
      "metadata": {
        "id": "MNnMttR_y4ed",
        "outputId": "c40b532d-8c98-411a-9017-35fdce540a1f",
        "colab": {
          "base_uri": "https://localhost:8080/"
        }
      },
      "source": [
        "from google.colab import drive\n",
        "drive.mount('/content/gdrive', force_remount=True)"
      ],
      "execution_count": null,
      "outputs": [
        {
          "output_type": "stream",
          "text": [
            "Mounted at /content/gdrive\n"
          ],
          "name": "stdout"
        }
      ]
    },
    {
      "cell_type": "code",
      "metadata": {
        "id": "NZCkEDURgVWH"
      },
      "source": [
        "import sys\n",
        "sys.path.append('/content/gdrive/My Drive/')"
      ],
      "execution_count": null,
      "outputs": []
    },
    {
      "cell_type": "code",
      "metadata": {
        "id": "RHFzeg4mgXWx"
      },
      "source": [
        "import model_architectures as ma"
      ],
      "execution_count": null,
      "outputs": []
    },
    {
      "cell_type": "code",
      "metadata": {
        "id": "muH6AO5Jy--e"
      },
      "source": [
        "ngpu = 1 \n",
        "nz = 100\n",
        "manualSeed = 500\n",
        "\n",
        "torch.manual_seed(manualSeed)\n",
        "random.seed(manualSeed)\n",
        "np.random.seed(manualSeed)\n",
        "\n",
        "device = torch.device(\"cuda:0\" if (torch.cuda.is_available() and ngpu > 0) else \"cpu\")\n",
        "\n",
        "fixed_noise = torch.randn(1000,  ma.nz, 1, 1, device=device)\n",
        "netG1 = ma.Generator1(ngpu)\n",
        "model_dict1 = torch.load('/content/gdrive/My Drive/GANS/GAN_1')\n",
        "netG1.load_state_dict(model_dict1['G_state_dict'])\n",
        "netG1.to(device)\n",
        "fake1 = netG1(fixed_noise).detach().cpu().numpy().reshape(1000,28,28)\n",
        "netG3 = ma.Generator3(ngpu)\n",
        "model_dict3 = torch.load('/content/gdrive/My Drive/GANS/GAN_3')\n",
        "netG3.load_state_dict(model_dict3['G_state_dict'])\n",
        "netG3.to(device)\n",
        "fake3 = netG3(fixed_noise).detach().cpu().numpy().reshape(1000,28,28)"
      ],
      "execution_count": null,
      "outputs": []
    },
    {
      "cell_type": "code",
      "metadata": {
        "id": "U4l-0y1jzHJu",
        "outputId": "085b5880-2318-4653-dec2-5d0ad70334b0",
        "colab": {
          "base_uri": "https://localhost:8080/",
          "height": 1000
        }
      },
      "source": [
        "residue_sum1 = np.zeros((28,28))\n",
        "for i in range(1000):\n",
        "  img = np.floor(fake1[i].reshape(28,28)*255)\n",
        "  kernel = np.ones((5,5),np.float32)/25\n",
        "  #dst = cv2.filter2D(img,-1, kernel)\n",
        "  dst = cv2.medianBlur(img, 3)\n",
        "  residue = img - dst\n",
        "  residue_sum1 += residue\n",
        "residue_sum1 /= 1000\n",
        "plt.imshow(residue_sum1)\n"
      ],
      "execution_count": null,
      "outputs": [
        {
          "output_type": "stream",
          "text": [
            "[[  0.   0.   0.   0.   0.   0.   0.   0.   0.   0.   0.   0.   0.   0.\n",
            "    0.   0.   0.   0.   0.   0.   0.   0.   0.   0.   0.   0.   0.   0.]\n",
            " [  0.   0.   0.   0.   0.   0.   0.   0.   0.   0.   0.   0.   0.   0.\n",
            "    0.   0.   0.   0.   0.   0.   0.   0.   0.   0.   0.   0.   0.   0.]\n",
            " [  0.   0.   0.   0.   0.   0.   0.   0.   0.   0.   0.   0.   0.   0.\n",
            "    0.   0.   0.   0.   0.   0.   0.   0.   0.   0.   0.   0.   0.   0.]\n",
            " [  0.   0.   0.   0.   0.   0.   0.   0.   0.   0.   0.   0.   0.   0.\n",
            "    0.   0.   0.   0.   0.   0.   0.   0.   0.   0.   0.   0.   0.   0.]\n",
            " [  0.   0.   0.   0.   0.   0.   0.   0.   0.   0.   0.   0.   0.   0.\n",
            "    0.   0.   0.   0.   0.   0.   0.   0.   0.   0.   0.   0.   0.   0.]\n",
            " [  0.   0.   0.   0.   0.   0.   0.   0.   0.   0.   0.   0.   0.   0.\n",
            "    1.   0.   0.   0.   0.   0.   0.   0.   0.   0.   0.   0.   0.   0.]\n",
            " [  0.   0.   0.   0.   0.   0.   0.   0.   0.   5.  41.  38.  17.  11.\n",
            "   20. 122. 234. 238.  44.   5.   0.   0.   0.   0.   0.   0.   0.   0.]\n",
            " [  0.   0.   0.   0.   0.   0.   0.   0.   0.   1.   5.   7.   0.   0.\n",
            "    2. 214. 254. 253.  72.   0.   0.   0.   0.   0.   0.   0.   0.   0.]\n",
            " [  0.   0.   0.   0.   0.   0.   0.   0.   0.   0.   0.   0.   0.   0.\n",
            "    0. 217. 254. 247.   2.   0.   0.   0.   0.   0.   0.   0.   0.   0.]\n",
            " [  0.   0.   0.   0.   0.   0.   0.   0.   0.   0.   0.   0.   0.   0.\n",
            "    1. 251. 254. 195.   0.   0.   0.   0.   0.   0.   0.   0.   0.   0.]\n",
            " [  0.   0.   0.   0.   0.   0.   0.   0.   0.   0.   0.   0.   0.   0.\n",
            "   15. 254. 254.  33.   0.   0.   0.   0.   0.   0.   0.   0.   0.   0.]\n",
            " [  0.   0.   0.   0.   0.   0.   0.   0.   0.   0.   0.   0.   0.   0.\n",
            "  237. 254. 250.   1.   0.   0.   0.   0.   0.   0.   0.   0.   0.   0.]\n",
            " [  0.   0.   0.   0.   0.   0.   0.   0.   0.   0.   0.   0.   0. 101.\n",
            "  254. 254. 241.   0.   0.   0.   0.   0.   0.   0.   0.   0.   0.   0.]\n",
            " [  0.   0.   0.   0.   0.   0.   0.   0.   0.   0.   0.   0. 111. 254.\n",
            "  254. 254. 221.   1.   0.   0.   0.   0.   0.   0.   0.   0.   0.   0.]\n",
            " [  0.   0.   0.   0.   0.   0.   0.   0.   0.   0.   0. 183. 254. 254.\n",
            "  254. 243. 230. 179.   0.   0.   0.   0.   0.   0.   0.   0.   0.   0.]\n",
            " [  0.   0.   0.   0.   0.   0.   0.   0.   0.   3. 210. 253. 254. 253.\n",
            "   60.   9. 170. 252. 245.   2.   0.   0.   0.   0.   0.   0.   0.   0.]\n",
            " [  0.   0.   0.   0.   0.   0.   0.   0.   2. 230. 254. 253. 202.   2.\n",
            "    0.   0.   3. 242. 254. 246.  14.   0.   0.   0.   0.   0.   0.   0.]\n",
            " [  0.   0.   0.   0.   0.   0.   0.   0. 189. 254. 254. 198.   0.   0.\n",
            "    0.   0.   0.   2. 242. 253. 240.  12.   0.   0.   0.   0.   0.   0.]\n",
            " [  0.   0.   0.   0.   0.   0.   0.   0. 252. 254. 253.  10.   0.   0.\n",
            "    0.   0.   0.   0.  14. 209. 242. 188. 147.  51.  15.   2.   0.   0.]\n",
            " [  0.   0.   0.   0.   0.   0.   0.   0. 254. 254. 188.   0.   0.   0.\n",
            "    0.   0.   0.   0.   1.  69. 241. 237. 242. 243. 218.  36.   0.   0.]\n",
            " [  0.   0.   0.   0.   0.   0.   0.   2. 251. 254. 103.   0.   0.   0.\n",
            "    0.   0.   0.   0.  13. 105. 237. 234. 249. 251. 240. 103.   1.   2.]\n",
            " [  0.   0.   0.   0.   0.   0.   0.   0. 235. 252. 159.   5.   2.   1.\n",
            "   20.  32.  28.  85. 137. 227. 230. 222. 244. 245. 158.  17.   0.   0.]\n",
            " [  0.   0.   0.   0.   0.   0.   0.   0. 201. 250. 226. 210. 247. 254.\n",
            "  254. 254. 253. 253. 253. 252. 247. 232. 247. 247. 109.   1.   0.   0.]\n",
            " [  0.   0.   0.   0.   0.   0.   0.   0. 193. 244. 250. 254. 254. 254.\n",
            "  254. 254. 254. 254. 246. 220. 176. 158. 222. 208.  19.   0.   0.   0.]\n",
            " [  0.   0.   0.   0.   0.   0.   0.   0.  67. 236. 248. 254. 254. 254.\n",
            "  252. 244.  64.   3.   0.   0.   1.   4.  30.  47.   2.   0.   0.   0.]\n",
            " [  0.   0.   0.   0.   0.   0.   0.   0.   0.   0.   0.   0.   0.   0.\n",
            "    0.   0.   0.   0.   0.   0.   0.   0.   0.   0.   0.   0.   0.   0.]\n",
            " [  0.   0.   0.   0.   0.   0.   0.   0.   0.   0.   0.   0.   0.   0.\n",
            "    0.   0.   0.   0.   0.   0.   0.   0.   0.   0.   0.   0.   0.   0.]\n",
            " [  0.   0.   0.   0.   0.   0.   0.   0.   0.   0.   0.   0.   0.   0.\n",
            "    0.   0.   0.   0.   0.   0.   0.   0.   0.   0.   0.   0.   0.   0.]]\n"
          ],
          "name": "stdout"
        },
        {
          "output_type": "execute_result",
          "data": {
            "text/plain": [
              "<matplotlib.image.AxesImage at 0x7fa9612b0c88>"
            ]
          },
          "metadata": {
            "tags": []
          },
          "execution_count": 20
        },
        {
          "output_type": "display_data",
          "data": {
            "image/png": "[encoded data removed]",
            "text/plain": [
              "<Figure size 432x288 with 1 Axes>"
            ]
          },
          "metadata": {
            "tags": [],
            "needs_background": "light"
          }
        }
      ]
    },
    {
      "cell_type": "code",
      "metadata": {
        "id": "MONTW06Jj4jJ",
        "outputId": "21dfa40d-2600-4aa3-d1a4-23dd30caf11d",
        "colab": {
          "base_uri": "https://localhost:8080/",
          "height": 282
        }
      },
      "source": [
        "residue_sum3 = np.zeros((28,28))\n",
        "for i in range(1000):\n",
        "  img = np.floor(fake3[i].reshape(28,28)*255)\n",
        "  kernel = np.ones((5,5),np.float32)/25\n",
        "  #dst = cv2.filter2D(img,-1, kernel)\n",
        "  dst = cv2.medianBlur(img, 3)\n",
        "  residue = img - dst\n",
        "  residue_sum3 += residue\n",
        "residue_sum3 /= 1000\n",
        "plt.imshow(residue_sum3)"
      ],
      "execution_count": null,
      "outputs": [
        {
          "output_type": "execute_result",
          "data": {
            "text/plain": [
              "<matplotlib.image.AxesImage at 0x7fa9616ae358>"
            ]
          },
          "metadata": {
            "tags": []
          },
          "execution_count": 15
        },
        {
          "output_type": "display_data",
          "data": {
            "image/png": "[encoded data removed]",
            "text/plain": [
              "<Figure size 432x288 with 1 Axes>"
            ]
          },
          "metadata": {
            "tags": [],
            "needs_background": "light"
          }
        }
      ]
    },
    {
      "cell_type": "code",
      "metadata": {
        "id": "LI61MrxhkHbT"
      },
      "source": [
        "manualSeed = 800\n",
        "\n",
        "torch.manual_seed(manualSeed)\n",
        "random.seed(manualSeed)\n",
        "np.random.seed(manualSeed)\n"
      ],
      "execution_count": null,
      "outputs": []
    },
    {
      "cell_type": "code",
      "metadata": {
        "id": "atLAZVDekj65"
      },
      "source": [
        "fixed_noise = torch.randn(1000,  ma.nz, 1, 1, device=device)\n",
        "fake1 = netG1(fixed_noise).detach().cpu().numpy().reshape(1000,28,28)\n",
        "fake3 = netG3(fixed_noise).detach().cpu().numpy().reshape(1000,28,28)"
      ],
      "execution_count": null,
      "outputs": []
    },
    {
      "cell_type": "code",
      "metadata": {
        "id": "mbdmGpIbkm2c",
        "outputId": "add3e931-f3ae-4b33-da43-d59d47624c05",
        "colab": {
          "base_uri": "https://localhost:8080/"
        }
      },
      "source": [
        "total = 0\n",
        "for i in range(1000):\n",
        "  img = np.floor(fake1[i].reshape(28,28)*255)\n",
        "  #dst = cv2.filter2D(img,-1, kernel)\n",
        "  dst = cv2.medianBlur(img, 3)\n",
        "  coef1 = np.corrcoef(residue_sum1.reshape(28*28), (img - dst).reshape(28*28))[0][1]\n",
        "  coef3 =  np.corrcoef(residue_sum3.reshape(28*28), (img - dst).reshape(28*28))[0][1]\n",
        "  if coef1 > coef3:\n",
        "    total+=1\n",
        "total\n"
      ],
      "execution_count": null,
      "outputs": [
        {
          "output_type": "execute_result",
          "data": {
            "text/plain": [
              "815"
            ]
          },
          "metadata": {
            "tags": []
          },
          "execution_count": 33
        }
      ]
    },
    {
      "cell_type": "code",
      "metadata": {
        "id": "GksY-7DAkqBz"
      },
      "source": [
        ""
      ],
      "execution_count": null,
      "outputs": []
    }
  ]
}